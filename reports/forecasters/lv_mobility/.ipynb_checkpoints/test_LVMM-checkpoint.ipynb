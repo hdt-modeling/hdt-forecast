{
 "cells": [
  {
   "cell_type": "code",
   "execution_count": 3,
   "metadata": {},
   "outputs": [],
   "source": [
    "from scipy.stats import gamma, norm\n",
    "import numpy as np\n",
    "import pandas\n",
    "import math\n",
    "import os\n",
    "from matplotlib.backends.backend_pdf import PdfPages\n",
    "import matplotlib.pyplot as pyplot\n",
    "from forecasters.lv_mobility import LVMM\n",
    "from plots import plot_fit"
   ]
  },
  {
   "cell_type": "markdown",
   "metadata": {},
   "source": [
    "# Load data"
   ]
  },
  {
   "cell_type": "code",
   "execution_count": 4,
   "metadata": {},
   "outputs": [],
   "source": [
    "\"\"\"\n",
    "Loading datasets and defining variables for use. The data here is aggregated into weekly data points.\n",
    "\n",
    "State - two letter abbreviations for state\n",
    "Y - death count for that week\n",
    "A - proportion that stay at home, sum of weekly values\n",
    "C - case count for that week\n",
    "\"\"\"\n",
    "def we(a):\n",
    "    n = len(a)\n",
    "    b = math.floor(n/7)\n",
    "    nn = b*7\n",
    "    a = a[0:nn]\n",
    "    a = a.values.reshape((b, 7))\n",
    "    a = np.sum(a, axis=1)\n",
    "    a = a.reshape((1, b))\n",
    "    return a\n",
    "\n",
    "df = pandas.read_csv(os.path.join(os.getcwd(), \"data/state_full.csv\"))\n",
    "df = df[df[\"state\"] != \"pr\"]\n",
    "\n",
    "date = df[\"date\"]\n",
    "deaths = df[\"ndeaths\"]\n",
    "home = df[\"completely_home_prop\"]\n",
    "work = df[\"full_time_work_prop\"]\n",
    "part = df[\"part_time_work_prop\"]\n",
    "median = df[\"median_home_dwell_time\"]\n",
    "cases = df[\"ncases\"]\n",
    "state = df[\"state\"]\n",
    "State = pandas.unique(state)\n",
    "deaths[deaths < 0] = 0\n",
    "\n",
    "Y = A = C = None\n",
    "n = len(deaths)\n",
    "for i in range(0, 51):\n",
    "    if i == 0:\n",
    "        I = (state == State[i])\n",
    "        Y = we(deaths[I])\n",
    "        A = we(home[I])  # using HOME\n",
    "        C = we(cases[I])\n",
    "    else:\n",
    "        I = (state == State[i])\n",
    "        Y = np.concatenate([Y, we(deaths[I])])\n",
    "        A = np.concatenate([A, we(home[I])])  # using HOME\n",
    "        C = np.concatenate([C, we(cases[I])])"
   ]
  },
  {
   "cell_type": "code",
   "execution_count": 5,
   "metadata": {},
   "outputs": [
    {
     "data": {
      "text/plain": [
       "Index(['state', 'date', 'ncases', 'ndeaths', 'completely_home_prop',\n",
       "       'full_time_work_prop', 'part_time_work_prop', 'median_home_dwell_time',\n",
       "       'population', 'male', 'female', 'black', 'hispanic', 'age_00_04',\n",
       "       'age_05_09', 'age_10_14', 'age_15_19', 'age_20_24', 'age_25_29',\n",
       "       'age_30_34', 'age_35_39', 'age_40_44', 'age_45_49', 'age_50_54',\n",
       "       'age_55_59', 'age_60_64', 'age_65_69', 'age_70_74', 'age_75_79',\n",
       "       'age_80_84', 'age_85_older', 'chr_population', 'chr_premature_death',\n",
       "       'chr_poor_or_fair_health', 'chr_poor_physical_health_days',\n",
       "       'chr_poor_mental_health_days', 'chr_low_birthweight',\n",
       "       'chr_adult_smoking', 'chr_adult_obesity', 'chr_food_environment_index',\n",
       "       'chr_physical_inactivity', 'chr_access_to_exercise_opportunities',\n",
       "       'chr_excessive_drinking', 'chr_alcohol.impaired_driving_deaths',\n",
       "       'chr_sexually_transmitted_infections', 'chr_teen_births',\n",
       "       'chr_uninsured', 'chr_primary_care_physicians', 'chr_dentists',\n",
       "       'chr_mental_health_providers', 'chr_preventable_hospital_stays',\n",
       "       'chr_mammography_screening', 'chr_flu_vaccinations',\n",
       "       'chr_high_school_graduation', 'chr_some_college', 'chr_unemployment',\n",
       "       'chr_children_in_poverty', 'chr_income_inequality',\n",
       "       'chr_children_in_single.parent_households', 'chr_social_associations',\n",
       "       'chr_violent_crime', 'chr_injury_deaths',\n",
       "       'chr_air_pollution_._particulate_matter',\n",
       "       'chr_drinking_water_violations', 'chr_severe_housing_problems',\n",
       "       'chr_driving_alone_to_work', 'chr_long_commute_._driving_alone',\n",
       "       'chr_life_expectancy', 'chr_premature_age.adjusted_mortality',\n",
       "       'chr_frequent_physical_distress', 'chr_frequent_mental_distress',\n",
       "       'chr_diabetes_prevalence', 'chr_food_insecurity',\n",
       "       'chr_limited_access_to_healthy_foods', 'chr_insufficient_sleep',\n",
       "       'chr_uninsured_adults', 'chr_uninsured_children',\n",
       "       'chr_other_primary_care_providers', 'chr_median_household_income',\n",
       "       'chr_children_eligible_for_free_or_reduced_price_lunch',\n",
       "       'chr_traffic_volume', 'chr_homeownership',\n",
       "       'chr_severe_housing_cost_burden', 'chr_percent_below_18_years_of_age',\n",
       "       'chr_percent_65_and_older', 'chr_percent_non.hispanic_black',\n",
       "       'chr_percent_american_indian_._alaska_native', 'chr_percent_asian',\n",
       "       'chr_percent_native_hawaiian.other_pacific_islander',\n",
       "       'chr_percent_hispanic', 'chr_percent_non.hispanic_white',\n",
       "       'chr_percent_not_proficient_in_english', 'chr_percent_females',\n",
       "       'chr_percent_rural'],\n",
       "      dtype='object')"
      ]
     },
     "execution_count": 5,
     "metadata": {},
     "output_type": "execute_result"
    }
   ],
   "source": [
    "df.columns"
   ]
  },
  {
   "cell_type": "markdown",
   "metadata": {},
   "source": [
    "# Test individual states"
   ]
  },
  {
   "cell_type": "code",
   "execution_count": 6,
   "metadata": {},
   "outputs": [],
   "source": [
    "#initialize death curve\n",
    "l = 25 #length of time interval\n",
    "t = np.linspace(start=0, stop=l, num=l+1)\n",
    "ft = gamma.pdf(t*7, scale=3.64, a=6.28)  # a - shape parameter\n",
    "ft = (ft/sum(ft)) * 0.03\n",
    "x = range(1, l+1)\n",
    "\n",
    "keys = ['A', 'alpha', 'beta', 'mu', 'sig']\n",
    "\n",
    "#intialize your mobility time series by selecting the index for your state\n",
    "i=2\n",
    "\n",
    "model = LVMM()\n",
    "y_true = C[i, :l]\n",
    "m = A[i, :l]"
   ]
  },
  {
   "cell_type": "code",
   "execution_count": 7,
   "metadata": {},
   "outputs": [
    {
     "name": "stderr",
     "output_type": "stream",
     "text": [
      "/home/xiavatar/Projects/hdt-forecast/forecasters/forecasters/lv_mobility/model.py:78: RuntimeWarning: overflow encountered in exp\n",
      "  out = out + DC0*np.exp(BetaSum[d])\n",
      "/home/xiavatar/Projects/hdt-forecast/forecasters/forecasters/lv_mobility/model.py:78: RuntimeWarning: invalid value encountered in multiply\n",
      "  out = out + DC0*np.exp(BetaSum[d])\n"
     ]
    }
   ],
   "source": [
    "#Fit model\n",
    "model.fit(\n",
    "    M=m,\n",
    "    DC=ft[:l],\n",
    "    y_true=y_true,\n",
    ")\n",
    "\n",
    "y_pred = model.preds"
   ]
  },
  {
   "cell_type": "code",
   "execution_count": 6,
   "metadata": {},
   "outputs": [
    {
     "data": {
      "text/plain": [
       "{'A': 100.0,\n",
       " 'alpha': -0.5351225383350752,\n",
       " 'beta': 0.7231356704893955,\n",
       " 'mu': 1.6607594307338394,\n",
       " 'sig': 1e-05,\n",
       " 'M': array([1.46104406, 1.5200612 , 1.61381331, 1.52605252, 1.62909915,\n",
       "        1.41461628, 1.38812132, 1.70223098, 2.13268644, 2.09180085,\n",
       "        2.35881594, 2.2888028 , 2.12219974, 2.04254759, 1.97069726,\n",
       "        1.87603477, 1.89833498, 1.82973018, 1.66883969, 1.68060034,\n",
       "        1.73970589, 1.66083983, 1.68143694, 1.73931048, 1.70240086]),\n",
       " 'DC': array([0.00000000e+00, 1.36714677e-03, 7.76375499e-03, 9.65277033e-03,\n",
       "        6.44387054e-03, 3.05949663e-03, 1.17096863e-03, 3.86226987e-04,\n",
       "        1.14250576e-04, 3.11001170e-05, 7.92829637e-06, 1.91668859e-06,\n",
       "        4.43499836e-07, 9.89135272e-08, 2.13800699e-08, 4.49814286e-09,\n",
       "        9.24364395e-10, 1.86070836e-10, 3.67760546e-11, 7.15094810e-12,\n",
       "        1.37025468e-12, 2.59118903e-13, 4.84162646e-14, 8.94830551e-15,\n",
       "        1.63738757e-15])}"
      ]
     },
     "execution_count": 6,
     "metadata": {},
     "output_type": "execute_result"
    }
   ],
   "source": [
    "model.args"
   ]
  },
  {
   "cell_type": "code",
   "execution_count": 7,
   "metadata": {},
   "outputs": [
    {
     "data": {
      "text/plain": [
       "Text(0.5, 1.0, 'ar')"
      ]
     },
     "execution_count": 7,
     "metadata": {},
     "output_type": "execute_result"
    },
    {
     "data": {
      "image/png": "[encoded data removed]",
      "text/plain": [
       "<Figure size 432x288 with 1 Axes>"
      ]
     },
     "metadata": {
      "needs_background": "light"
     },
     "output_type": "display_data"
    }
   ],
   "source": [
    "# plotting predictions and observations for State[i]\n",
    "pyplot.scatter(x[:l],y_true[:l],facecolors=\"none\", edgecolors=\"r\")\n",
    "pyplot.plot(x[:l],y_pred, color='deepskyblue')\n",
    "pyplot.title(State[i])"
   ]
  },
  {
   "cell_type": "code",
   "execution_count": 107,
   "metadata": {},
   "outputs": [],
   "source": [
    "l2 = 25\n",
    " \n",
    "t = np.linspace(start=0, stop=l2, num=l2+1)\n",
    "ft = gamma.pdf(t*7, scale=3.64, a=6.28)  # a - shape parameter\n",
    "ft = (ft/sum(ft)) * 0.03\n",
    "x = range(1, l2+1)\n",
    "\n",
    "keys = ['A', 'alpha', 'beta', 'mu', 'sig']\n",
    "\n",
    "# training loop\n",
    "i=2\n",
    "\n",
    "y_true = Y[i, :l2]\n",
    "\n",
    "forecast = model.forecast(\n",
    "    l=l2,\n",
    ")\n",
    "forecast_real = model.forecast(\n",
    "    l=l2,\n",
    "    M=A[i,:l2]\n",
    ")"
   ]
  },
  {
   "cell_type": "code",
   "execution_count": 108,
   "metadata": {},
   "outputs": [
    {
     "data": {
      "text/plain": [
       "<matplotlib.legend.Legend at 0x7f63f6ceecd0>"
      ]
     },
     "execution_count": 108,
     "metadata": {},
     "output_type": "execute_result"
    },
    {
     "data": {
      "image/png": "[encoded data removed]",
      "text/plain": [
       "<Figure size 432x288 with 1 Axes>"
      ]
     },
     "metadata": {
      "needs_background": "light"
     },
     "output_type": "display_data"
    }
   ],
   "source": [
    "# plotting predictions and observations for State[i]\n",
    "pyplot.scatter(x,y_true,facecolors=\"none\", edgecolors=\"r\")\n",
    "pyplot.plot(x[:l],forecast[:l],linestyle='--',color='deepskyblue')\n",
    "pyplot.plot(x[l:],forecast[l:],color='deepskyblue', label='same')\n",
    "pyplot.plot(x[l:],forecast_real[l:],color='darkgrey', label='real')\n",
    "pyplot.title(State[i])\n",
    "pyplot.legend(fontsize='small')"
   ]
  },
  {
   "cell_type": "markdown",
   "metadata": {},
   "source": [
    "# Test for global parameters"
   ]
  },
  {
   "cell_type": "markdown",
   "metadata": {},
   "source": [
    "Can parameters trained on national level data generalize to fit models on local data?"
   ]
  },
  {
   "cell_type": "code",
   "execution_count": 82,
   "metadata": {},
   "outputs": [],
   "source": [
    "Y_global = Y.mean(axis=0)\n",
    "A_global = A.mean(axis=0)"
   ]
  },
  {
   "cell_type": "code",
   "execution_count": 83,
   "metadata": {},
   "outputs": [],
   "source": [
    "#initialize death curve\n",
    "l = 18 #length of time interval\n",
    "t = np.linspace(start=0, stop=l, num=l+1)\n",
    "ft = gamma.pdf(t*7, scale=3.64, a=6.28)  # a - shape parameter\n",
    "ft = (ft/sum(ft)) * 0.03\n",
    "x = range(1, l+1)\n",
    "\n",
    "keys = ['A', 'alpha', 'beta', 'mu', 'sig']\n",
    "\n",
    "model_global = LVMM()\n",
    "y_true = Y_global[:l]\n",
    "m = A_global[:l]"
   ]
  },
  {
   "cell_type": "code",
   "execution_count": 84,
   "metadata": {},
   "outputs": [
    {
     "name": "stderr",
     "output_type": "stream",
     "text": [
      "/home/xiavatar/Projects/hdt-forecast/hdt_models/lv_mobility/model.py:78: RuntimeWarning: overflow encountered in exp\n",
      "  out = out + DC0*numpy.exp(BetaSum[d])\n",
      "/home/xiavatar/Projects/hdt-forecast/hdt_models/lv_mobility/model.py:78: RuntimeWarning: invalid value encountered in multiply\n",
      "  out = out + DC0*numpy.exp(BetaSum[d])\n"
     ]
    }
   ],
   "source": [
    "#Fit model\n",
    "model_global.fit(\n",
    "    M=m,\n",
    "    DC=ft[:l],\n",
    "    y_true=y_true,\n",
    ")\n",
    "\n",
    "y_pred = model_global.preds"
   ]
  },
  {
   "cell_type": "code",
   "execution_count": 85,
   "metadata": {},
   "outputs": [
    {
     "data": {
      "text/plain": [
       "{'A': -2.1572300913017317,\n",
       " 'alpha': -1.48865800103204,\n",
       " 'beta': 1.2693293476428016,\n",
       " 'mu': 1.829624948443211,\n",
       " 'sig': 0.000565548845012468,\n",
       " 'M': array([1.59135849, 1.69588091, 1.8062904 , 1.70288027, 1.77383164,\n",
       "        1.63931007, 1.55674433, 1.86226027, 2.45690198, 2.59044121,\n",
       "        2.88250739, 2.87095749, 2.71652831, 2.55703033, 2.55620104,\n",
       "        2.49637179, 2.395036  , 2.28157631]),\n",
       " 'DC': array([0.00000000e+00, 1.36714677e-03, 7.76375499e-03, 9.65277033e-03,\n",
       "        6.44387054e-03, 3.05949663e-03, 1.17096864e-03, 3.86226987e-04,\n",
       "        1.14250576e-04, 3.11001170e-05, 7.92829637e-06, 1.91668859e-06,\n",
       "        4.43499836e-07, 9.89135272e-08, 2.13800699e-08, 4.49814286e-09,\n",
       "        9.24364396e-10, 1.86070836e-10])}"
      ]
     },
     "execution_count": 85,
     "metadata": {},
     "output_type": "execute_result"
    }
   ],
   "source": [
    "model_global.args"
   ]
  },
  {
   "cell_type": "code",
   "execution_count": 86,
   "metadata": {},
   "outputs": [
    {
     "data": {
      "text/plain": [
       "Text(0.5, 1.0, 'National')"
      ]
     },
     "execution_count": 86,
     "metadata": {},
     "output_type": "execute_result"
    },
    {
     "data": {
      "image/png": "[encoded data removed]",
      "text/plain": [
       "<Figure size 432x288 with 1 Axes>"
      ]
     },
     "metadata": {
      "needs_background": "light"
     },
     "output_type": "display_data"
    }
   ],
   "source": [
    "# plotting predictions and observations for State[i]\n",
    "pyplot.scatter(x[:l],y_true[:l],facecolors=\"none\", edgecolors=\"r\")\n",
    "pyplot.plot(x[:l],y_pred, color='deepskyblue')\n",
    "pyplot.title('National')"
   ]
  },
  {
   "cell_type": "code",
   "execution_count": 94,
   "metadata": {},
   "outputs": [],
   "source": [
    "l2 = 25\n",
    " \n",
    "t = np.linspace(start=0, stop=l2, num=l2+1)\n",
    "ft = gamma.pdf(t*7, scale=3.64, a=6.28)  # a - shape parameter\n",
    "ft = (ft/sum(ft)) * 0.03\n",
    "x = range(1, l2+1)\n",
    "\n",
    "keys = ['A', 'alpha', 'beta', 'mu', 'sig']\n",
    "\n",
    "y_true = Y_global[:l2]\n",
    "\n",
    "forecast = model_global.forecast(\n",
    "    l=l2,\n",
    ")\n",
    "forecast_real = model_global.forecast(\n",
    "    l=l2,\n",
    "    M=A_global[:l2]\n",
    ")"
   ]
  },
  {
   "cell_type": "code",
   "execution_count": 95,
   "metadata": {},
   "outputs": [
    {
     "data": {
      "text/plain": [
       "<matplotlib.legend.Legend at 0x7f63f6e55fa0>"
      ]
     },
     "execution_count": 95,
     "metadata": {},
     "output_type": "execute_result"
    },
    {
     "data": {
      "image/png": "[encoded data removed]",
      "text/plain": [
       "<Figure size 432x288 with 1 Axes>"
      ]
     },
     "metadata": {
      "needs_background": "light"
     },
     "output_type": "display_data"
    }
   ],
   "source": [
    "# plotting predictions and observations for State[i]\n",
    "pyplot.scatter(x,y_true,facecolors=\"none\", edgecolors=\"r\")\n",
    "pyplot.plot(x[:l],forecast[:l],linestyle='--',color='deepskyblue')\n",
    "pyplot.plot(x[l:],forecast[l:],color='deepskyblue', label='same')\n",
    "pyplot.plot(x[l:],forecast_real[l:],color='darkgrey', label='real')\n",
    "pyplot.legend(fontsize='small')"
   ]
  },
  {
   "cell_type": "code",
   "execution_count": 96,
   "metadata": {},
   "outputs": [],
   "source": [
    "i=10\n",
    "l2 = 21\n",
    " \n",
    "t = np.linspace(start=0, stop=l2, num=l2+1)\n",
    "ft = gamma.pdf(t*7, scale=3.64, a=6.28)  # a - shape parameter\n",
    "ft = (ft/sum(ft)) * 0.03\n",
    "x = range(1, l2+1)\n",
    "\n",
    "keys = ['A', 'alpha', 'beta', 'mu', 'sig']\n",
    "\n",
    "\n",
    "y_true = Y[i,:l2]\n",
    "\n",
    "forecast = model_global.forecast(\n",
    "    l=l2,\n",
    "    M=list(A[i,:l2])\n",
    ")\n",
    "forecast_real = model_global.forecast(\n",
    "    l=l2,\n",
    "    M=A[i,:l2]\n",
    ")"
   ]
  },
  {
   "cell_type": "code",
   "execution_count": 98,
   "metadata": {},
   "outputs": [
    {
     "data": {
      "text/plain": [
       "<matplotlib.legend.Legend at 0x7f63f6e2dd00>"
      ]
     },
     "execution_count": 98,
     "metadata": {},
     "output_type": "execute_result"
    },
    {
     "data": {
      "image/png": "[encoded data removed]",
      "text/plain": [
       "<Figure size 432x288 with 1 Axes>"
      ]
     },
     "metadata": {
      "needs_background": "light"
     },
     "output_type": "display_data"
    }
   ],
   "source": [
    "# plotting predictions and observations for State[i] using parameters fitted for national level data\n",
    "pyplot.scatter(x,y_true,facecolors=\"none\", edgecolors=\"r\")\n",
    "pyplot.plot(x[:l],forecast[:l],linestyle='--',color='deepskyblue')\n",
    "pyplot.plot(x[l:],forecast[l:],color='deepskyblue', label='same')\n",
    "pyplot.plot(x[l:],forecast_real[l:],color='darkgrey', label='real')\n",
    "pyplot.title(State[i])\n",
    "pyplot.legend(fontsize='small')"
   ]
  },
  {
   "cell_type": "markdown",
   "metadata": {},
   "source": [
    "# Fitting to random data, model capacity"
   ]
  },
  {
   "cell_type": "markdown",
   "metadata": {},
   "source": [
    "Here we just want to examine the model's capacity. If given actual death counts but completely randomized mobility data, will the model still be able to fit the data?"
   ]
  },
  {
   "cell_type": "code",
   "execution_count": 31,
   "metadata": {},
   "outputs": [],
   "source": [
    "i=33\n",
    "l = 25 #length of time interval\n",
    "t = np.linspace(start=0, stop=l, num=l+1)\n",
    "ft = gamma.pdf(t*7, scale=3.64, a=6.28)  # a - shape parameter\n",
    "ft = (ft/sum(ft)) * 0.03\n",
    "x = range(1, l+1)\n",
    "\n",
    "keys = ['A', 'alpha', 'beta', 'mu', 'sig']\n",
    "\n",
    "model_random = LVMM()\n",
    "y_true = Y[i, :l]\n",
    "m = np.random.uniform(0.5, 3, l)"
   ]
  },
  {
   "cell_type": "code",
   "execution_count": 32,
   "metadata": {},
   "outputs": [
    {
     "name": "stderr",
     "output_type": "stream",
     "text": [
      "/home/xiavatar/Projects/hdt-forecast/hdt_models/lv_mobility/model.py:78: RuntimeWarning: overflow encountered in exp\n",
      "  out = out + DC0*numpy.exp(BetaSum[d])\n",
      "/home/xiavatar/Projects/hdt-forecast/hdt_models/lv_mobility/model.py:78: RuntimeWarning: invalid value encountered in multiply\n",
      "  out = out + DC0*numpy.exp(BetaSum[d])\n"
     ]
    }
   ],
   "source": [
    "#Fit model\n",
    "model_random.fit(\n",
    "    M=m,\n",
    "    DC=ft[:l],\n",
    "    y_true=y_true,\n",
    ")\n",
    "\n",
    "y_pred = model_random.preds"
   ]
  },
  {
   "cell_type": "code",
   "execution_count": 34,
   "metadata": {},
   "outputs": [
    {
     "data": {
      "text/plain": [
       "{'A': 73.58162031432292,\n",
       " 'alpha': -1.5543557926553164,\n",
       " 'beta': 1.2831724926790635,\n",
       " 'mu': -1.4843567324451632,\n",
       " 'sig': 0.0077230399577061775,\n",
       " 'M': array([2.33656425, 2.63636011, 1.33422771, 2.09555233, 0.71770628,\n",
       "        2.14608021, 0.50354399, 1.74091942, 0.55557108, 2.98760198,\n",
       "        2.19746059, 2.56861457, 2.51622738, 2.20324695, 2.71750241,\n",
       "        1.49645048, 2.02106773, 1.31115447, 2.11888347, 2.2645551 ,\n",
       "        1.43899077, 1.42941706, 0.72899315, 1.6266523 , 2.35309067]),\n",
       " 'DC': array([0.00000000e+00, 1.36714677e-03, 7.76375499e-03, 9.65277033e-03,\n",
       "        6.44387054e-03, 3.05949663e-03, 1.17096863e-03, 3.86226987e-04,\n",
       "        1.14250576e-04, 3.11001170e-05, 7.92829637e-06, 1.91668859e-06,\n",
       "        4.43499836e-07, 9.89135272e-08, 2.13800699e-08, 4.49814286e-09,\n",
       "        9.24364395e-10, 1.86070836e-10, 3.67760546e-11, 7.15094810e-12,\n",
       "        1.37025468e-12, 2.59118903e-13, 4.84162646e-14, 8.94830551e-15,\n",
       "        1.63738757e-15])}"
      ]
     },
     "execution_count": 34,
     "metadata": {},
     "output_type": "execute_result"
    }
   ],
   "source": [
    "model_random.args"
   ]
  },
  {
   "cell_type": "code",
   "execution_count": 33,
   "metadata": {},
   "outputs": [
    {
     "data": {
      "text/plain": [
       "Text(0.5, 1.0, 'nv')"
      ]
     },
     "execution_count": 33,
     "metadata": {},
     "output_type": "execute_result"
    },
    {
     "data": {
      "image/png": "[encoded data removed]",
      "text/plain": [
       "<Figure size 432x288 with 1 Axes>"
      ]
     },
     "metadata": {
      "needs_background": "light"
     },
     "output_type": "display_data"
    }
   ],
   "source": [
    "# plotting predictions and observations for State[i]\n",
    "pyplot.scatter(x[:l],y_true[:l],facecolors=\"none\", edgecolors=\"r\")\n",
    "pyplot.plot(x[:l],y_pred, color='deepskyblue')\n",
    "pyplot.title(State[i])"
   ]
  },
  {
   "cell_type": "code",
   "execution_count": 35,
   "metadata": {},
   "outputs": [],
   "source": [
    "i=44\n",
    "l = 25 #length of time interval\n",
    "t = np.linspace(start=0, stop=l, num=l+1)\n",
    "ft = gamma.pdf(t*7, scale=3.64, a=6.28)  # a - shape parameter\n",
    "ft = (ft/sum(ft)) * 0.03\n",
    "x = range(1, l+1)\n",
    "\n",
    "keys = ['A', 'alpha', 'beta', 'mu', 'sig']\n",
    "\n",
    "model_random = LVMM()\n",
    "y_true = Y[i, :l]\n",
    "m = np.random.uniform(0.5, 3, l)"
   ]
  },
  {
   "cell_type": "code",
   "execution_count": 36,
   "metadata": {},
   "outputs": [
    {
     "name": "stderr",
     "output_type": "stream",
     "text": [
      "/home/xiavatar/Projects/hdt-forecast/hdt_models/lv_mobility/model.py:78: RuntimeWarning: overflow encountered in exp\n",
      "  out = out + DC0*numpy.exp(BetaSum[d])\n",
      "/home/xiavatar/Projects/hdt-forecast/hdt_models/lv_mobility/model.py:78: RuntimeWarning: invalid value encountered in multiply\n",
      "  out = out + DC0*numpy.exp(BetaSum[d])\n"
     ]
    }
   ],
   "source": [
    "#Fit model\n",
    "model_random.fit(\n",
    "    M=m,\n",
    "    DC=ft[:l],\n",
    "    y_true=y_true,\n",
    ")\n",
    "\n",
    "y_pred = model_random.preds"
   ]
  },
  {
   "cell_type": "code",
   "execution_count": 37,
   "metadata": {},
   "outputs": [
    {
     "data": {
      "text/plain": [
       "{'A': -3.8421209266704013,\n",
       " 'alpha': -4.0,\n",
       " 'beta': 4.0483247873101185,\n",
       " 'mu': -0.8197864962172766,\n",
       " 'sig': 1e-05,\n",
       " 'M': array([2.47241657, 2.49607071, 2.35469661, 2.49320828, 0.75353697,\n",
       "        1.8698989 , 1.19903174, 1.1375589 , 1.71325893, 1.24527952,\n",
       "        1.57368086, 1.00382636, 1.12012708, 2.18774633, 2.85712593,\n",
       "        2.1808243 , 1.47274212, 0.95855026, 2.29509401, 1.91382683,\n",
       "        2.65911529, 2.1029468 , 1.74458222, 0.57828456, 0.97402335]),\n",
       " 'DC': array([0.00000000e+00, 1.36714677e-03, 7.76375499e-03, 9.65277033e-03,\n",
       "        6.44387054e-03, 3.05949663e-03, 1.17096863e-03, 3.86226987e-04,\n",
       "        1.14250576e-04, 3.11001170e-05, 7.92829637e-06, 1.91668859e-06,\n",
       "        4.43499836e-07, 9.89135272e-08, 2.13800699e-08, 4.49814286e-09,\n",
       "        9.24364395e-10, 1.86070836e-10, 3.67760546e-11, 7.15094810e-12,\n",
       "        1.37025468e-12, 2.59118903e-13, 4.84162646e-14, 8.94830551e-15,\n",
       "        1.63738757e-15])}"
      ]
     },
     "execution_count": 37,
     "metadata": {},
     "output_type": "execute_result"
    }
   ],
   "source": [
    "model_random.args"
   ]
  },
  {
   "cell_type": "code",
   "execution_count": 38,
   "metadata": {},
   "outputs": [
    {
     "data": {
      "text/plain": [
       "Text(0.5, 1.0, 'ut')"
      ]
     },
     "execution_count": 38,
     "metadata": {},
     "output_type": "execute_result"
    },
    {
     "data": {
      "image/png": "[encoded data removed]",
      "text/plain": [
       "<Figure size 432x288 with 1 Axes>"
      ]
     },
     "metadata": {
      "needs_background": "light"
     },
     "output_type": "display_data"
    }
   ],
   "source": [
    "# plotting predictions and observations for State[i]\n",
    "pyplot.scatter(x[:l],y_true[:l],facecolors=\"none\", edgecolors=\"r\")\n",
    "pyplot.plot(x[:l],y_pred, color='deepskyblue')\n",
    "pyplot.title(State[i])"
   ]
  },
  {
   "cell_type": "code",
   "execution_count": 45,
   "metadata": {},
   "outputs": [],
   "source": [
    "l = 25 #length of time interval\n",
    "t = np.linspace(start=0, stop=l, num=l+1)\n",
    "ft = gamma.pdf(t*7, scale=3.64, a=6.28)  # a - shape parameter\n",
    "ft = (ft/sum(ft)) * 0.03\n",
    "x = range(1, l+1)\n",
    "\n",
    "keys = ['A', 'alpha', 'beta', 'mu', 'sig']\n",
    "\n",
    "model_random = LVMM()\n",
    "y_true = np.concatenate([[0,0,0,10,30],[50,90,70,30,20],[10,5,1,100, 120],[200,150,40,20,10],[5, 2,1,1,1]])\n",
    "m = np.random.uniform(0.5, 3, l)"
   ]
  },
  {
   "cell_type": "code",
   "execution_count": 46,
   "metadata": {},
   "outputs": [
    {
     "name": "stderr",
     "output_type": "stream",
     "text": [
      "/home/xiavatar/Projects/hdt-forecast/hdt_models/lv_mobility/model.py:78: RuntimeWarning: overflow encountered in exp\n",
      "  out = out + DC0*numpy.exp(BetaSum[d])\n",
      "/home/xiavatar/Projects/hdt-forecast/hdt_models/lv_mobility/model.py:78: RuntimeWarning: invalid value encountered in multiply\n",
      "  out = out + DC0*numpy.exp(BetaSum[d])\n"
     ]
    }
   ],
   "source": [
    "#Fit model\n",
    "model_random.fit(\n",
    "    M=m,\n",
    "    DC=ft[:l],\n",
    "    y_true=y_true,\n",
    ")\n",
    "\n",
    "y_pred = model_random.preds"
   ]
  },
  {
   "cell_type": "code",
   "execution_count": 47,
   "metadata": {},
   "outputs": [
    {
     "data": {
      "text/plain": [
       "{'A': 100.0,\n",
       " 'alpha': 4.0,\n",
       " 'beta': -2.103404628039803,\n",
       " 'mu': -2.0,\n",
       " 'sig': 0.5104442778682887,\n",
       " 'M': array([1.22548715, 2.84858734, 1.93319756, 1.78890097, 2.9027985 ,\n",
       "        2.42927239, 1.31952647, 2.84761203, 2.55585772, 2.68422947,\n",
       "        0.60950715, 2.08921121, 2.09752972, 2.00504024, 0.86380359,\n",
       "        2.73084585, 1.82257712, 0.88002517, 1.96095591, 1.43812955,\n",
       "        0.61897238, 2.41012376, 1.85268952, 1.31639871, 1.72926454]),\n",
       " 'DC': array([0.00000000e+00, 1.36714677e-03, 7.76375499e-03, 9.65277033e-03,\n",
       "        6.44387054e-03, 3.05949663e-03, 1.17096863e-03, 3.86226987e-04,\n",
       "        1.14250576e-04, 3.11001170e-05, 7.92829637e-06, 1.91668859e-06,\n",
       "        4.43499836e-07, 9.89135272e-08, 2.13800699e-08, 4.49814286e-09,\n",
       "        9.24364395e-10, 1.86070836e-10, 3.67760546e-11, 7.15094810e-12,\n",
       "        1.37025468e-12, 2.59118903e-13, 4.84162646e-14, 8.94830551e-15,\n",
       "        1.63738757e-15])}"
      ]
     },
     "execution_count": 47,
     "metadata": {},
     "output_type": "execute_result"
    }
   ],
   "source": [
    "model_random.args"
   ]
  },
  {
   "cell_type": "code",
   "execution_count": 49,
   "metadata": {},
   "outputs": [
    {
     "data": {
      "text/plain": [
       "Text(0.5, 1.0, 'Completely random data')"
      ]
     },
     "execution_count": 49,
     "metadata": {},
     "output_type": "execute_result"
    },
    {
     "data": {
      "image/png": "[encoded data removed]",
      "text/plain": [
       "<Figure size 432x288 with 1 Axes>"
      ]
     },
     "metadata": {
      "needs_background": "light"
     },
     "output_type": "display_data"
    }
   ],
   "source": [
    "# plotting predictions and observations for State[i]\n",
    "pyplot.scatter(x[:l],y_true[:l],facecolors=\"none\", edgecolors=\"r\")\n",
    "pyplot.plot(x[:l],y_pred, color='deepskyblue')\n",
    "pyplot.title('Completely random data')"
   ]
  },
  {
   "cell_type": "code",
   "execution_count": 50,
   "metadata": {},
   "outputs": [
    {
     "data": {
      "text/plain": [
       "array([1.53077529, 1.71758611, 1.67322722, 1.60060381, 1.68249347,\n",
       "       1.58981528, 1.47442749, 1.81833163, 2.43226606, 2.51737309,\n",
       "       2.8576751 , 2.72437219, 2.64274579, 2.38722097, 2.43468992,\n",
       "       2.29557516, 2.27419232, 2.16997215, 2.13210046, 2.13948566,\n",
       "       2.19904896, 2.0644211 , 2.10452867, 2.06210378, 2.09820081,\n",
       "       2.11447284,        nan])"
      ]
     },
     "execution_count": 50,
     "metadata": {},
     "output_type": "execute_result"
    }
   ],
   "source": [
    "A[i,:]"
   ]
  },
  {
   "cell_type": "code",
   "execution_count": null,
   "metadata": {},
   "outputs": [],
   "source": []
  }
 ],
 "metadata": {
  "kernelspec": {
   "display_name": "hdt",
   "language": "python",
   "name": "hdt"
  },
  "language_info": {
   "codemirror_mode": {
    "name": "ipython",
    "version": 3
   },
   "file_extension": ".py",
   "mimetype": "text/x-python",
   "name": "python",
   "nbconvert_exporter": "python",
   "pygments_lexer": "ipython3",
   "version": "3.8.5"
  }
 },
 "nbformat": 4,
 "nbformat_minor": 4
}
