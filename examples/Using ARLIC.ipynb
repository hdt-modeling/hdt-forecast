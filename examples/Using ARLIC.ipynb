{
 "cells": [
  {
   "cell_type": "code",
   "execution_count": 1,
   "metadata": {},
   "outputs": [],
   "source": [
    "from hdt_util import ARLIC_feeder\n",
    "from hdt_util.delay import Delay\n",
    "from hdt_util import imputation\n",
    "\n",
    "from forecasters import ARLIC\n",
    "\n",
    "import numpy as np\n",
    "import pandas as pd\n",
    "import datetime\n",
    "import tensorflow as tf\n",
    "\n",
    "import matplotlib.pyplot as plt"
   ]
  },
  {
   "cell_type": "markdown",
   "metadata": {},
   "source": [
    "## Obtain delay distribution"
   ]
  },
  {
   "cell_type": "code",
   "execution_count": 2,
   "metadata": {
    "scrolled": false
   },
   "outputs": [],
   "source": [
    "## Data path globals\n",
    "# You will have to change the path for the Fl_line_list.csv\n",
    "fl_line_data = \"./FL_line_list.csv\""
   ]
  },
  {
   "cell_type": "code",
   "execution_count": 3,
   "metadata": {},
   "outputs": [],
   "source": [
    "# https://www.arcgis.com/home/item.html?id=37abda537d17458bae6677b8ab75fcb9\n",
    "florida_df = pd.read_csv(fl_line_data, parse_dates=[\"Case_\", \"EventDate\", \"ChartDate\"])\n",
    "florida_delays = (florida_df.ChartDate - florida_df.EventDate).dt.days\n",
    "florida_delays = florida_delays[florida_delays.gt(0) & florida_delays.lt(60)]\n",
    "delay_dist = Delay.get_delay_distribution(florida_delays)"
   ]
  },
  {
   "cell_type": "markdown",
   "metadata": {},
   "source": [
    "## Load data and filter for Yolo County\n",
    "\n",
    "Train on whatever we have and predict the val"
   ]
  },
  {
   "cell_type": "code",
   "execution_count": 4,
   "metadata": {},
   "outputs": [],
   "source": [
    "loader = ARLIC_feeder('./request_cache')\n",
    "\n",
    "#this will take a long time\n",
    "data = loader.get_data(case_source='indicator-combination',\n",
    "                       case_signal='confirmed',\n",
    "                       li_source='fb-survey', \n",
    "                       li_signal='smoothed_cli', \n",
    "                       start_date=datetime.date(2020, 3, 1),\n",
    "                       end_date=datetime.date(2020, 12, 15), \n",
    "                       level='county',\n",
    "                       geo_values=['06113'])"
   ]
  },
  {
   "cell_type": "code",
   "execution_count": 5,
   "metadata": {},
   "outputs": [
    {
     "data": {
      "text/html": [
       "<div>\n",
       "<style scoped>\n",
       "    .dataframe tbody tr th:only-of-type {\n",
       "        vertical-align: middle;\n",
       "    }\n",
       "\n",
       "    .dataframe tbody tr th {\n",
       "        vertical-align: top;\n",
       "    }\n",
       "\n",
       "    .dataframe thead th {\n",
       "        text-align: right;\n",
       "    }\n",
       "</style>\n",
       "<table border=\"1\" class=\"dataframe\">\n",
       "  <thead>\n",
       "    <tr style=\"text-align: right;\">\n",
       "      <th></th>\n",
       "      <th>geo_value</th>\n",
       "      <th>date</th>\n",
       "      <th>case_value</th>\n",
       "      <th>li_value</th>\n",
       "      <th>time</th>\n",
       "      <th>dayofweek</th>\n",
       "    </tr>\n",
       "  </thead>\n",
       "  <tbody>\n",
       "    <tr>\n",
       "      <th>0</th>\n",
       "      <td>06113</td>\n",
       "      <td>2020-03-01</td>\n",
       "      <td>0.0</td>\n",
       "      <td>NaN</td>\n",
       "      <td>1</td>\n",
       "      <td>6</td>\n",
       "    </tr>\n",
       "    <tr>\n",
       "      <th>1</th>\n",
       "      <td>06113</td>\n",
       "      <td>2020-03-02</td>\n",
       "      <td>0.0</td>\n",
       "      <td>NaN</td>\n",
       "      <td>2</td>\n",
       "      <td>0</td>\n",
       "    </tr>\n",
       "    <tr>\n",
       "      <th>2</th>\n",
       "      <td>06113</td>\n",
       "      <td>2020-03-03</td>\n",
       "      <td>0.0</td>\n",
       "      <td>NaN</td>\n",
       "      <td>3</td>\n",
       "      <td>1</td>\n",
       "    </tr>\n",
       "    <tr>\n",
       "      <th>3</th>\n",
       "      <td>06113</td>\n",
       "      <td>2020-03-04</td>\n",
       "      <td>0.0</td>\n",
       "      <td>NaN</td>\n",
       "      <td>4</td>\n",
       "      <td>2</td>\n",
       "    </tr>\n",
       "    <tr>\n",
       "      <th>4</th>\n",
       "      <td>06113</td>\n",
       "      <td>2020-03-05</td>\n",
       "      <td>0.0</td>\n",
       "      <td>NaN</td>\n",
       "      <td>5</td>\n",
       "      <td>3</td>\n",
       "    </tr>\n",
       "  </tbody>\n",
       "</table>\n",
       "</div>"
      ],
      "text/plain": [
       "  geo_value       date  case_value  li_value  time  dayofweek\n",
       "0     06113 2020-03-01         0.0       NaN     1          6\n",
       "1     06113 2020-03-02         0.0       NaN     2          0\n",
       "2     06113 2020-03-03         0.0       NaN     3          1\n",
       "3     06113 2020-03-04         0.0       NaN     4          2\n",
       "4     06113 2020-03-05         0.0       NaN     5          3"
      ]
     },
     "execution_count": 5,
     "metadata": {},
     "output_type": "execute_result"
    }
   ],
   "source": [
    "data.head()"
   ]
  },
  {
   "cell_type": "code",
   "execution_count": 6,
   "metadata": {},
   "outputs": [
    {
     "data": {
      "text/html": [
       "<div>\n",
       "<style scoped>\n",
       "    .dataframe tbody tr th:only-of-type {\n",
       "        vertical-align: middle;\n",
       "    }\n",
       "\n",
       "    .dataframe tbody tr th {\n",
       "        vertical-align: top;\n",
       "    }\n",
       "\n",
       "    .dataframe thead th {\n",
       "        text-align: right;\n",
       "    }\n",
       "</style>\n",
       "<table border=\"1\" class=\"dataframe\">\n",
       "  <thead>\n",
       "    <tr style=\"text-align: right;\">\n",
       "      <th></th>\n",
       "      <th>geo_value</th>\n",
       "      <th>date</th>\n",
       "      <th>case_value</th>\n",
       "      <th>li_value</th>\n",
       "      <th>time</th>\n",
       "      <th>dayofweek</th>\n",
       "    </tr>\n",
       "  </thead>\n",
       "  <tbody>\n",
       "    <tr>\n",
       "      <th>282</th>\n",
       "      <td>06113</td>\n",
       "      <td>2020-12-08</td>\n",
       "      <td>88.428571</td>\n",
       "      <td>1.338939</td>\n",
       "      <td>283</td>\n",
       "      <td>1</td>\n",
       "    </tr>\n",
       "    <tr>\n",
       "      <th>283</th>\n",
       "      <td>06113</td>\n",
       "      <td>2020-12-09</td>\n",
       "      <td>88.428571</td>\n",
       "      <td>0.953318</td>\n",
       "      <td>284</td>\n",
       "      <td>2</td>\n",
       "    </tr>\n",
       "    <tr>\n",
       "      <th>284</th>\n",
       "      <td>06113</td>\n",
       "      <td>2020-12-10</td>\n",
       "      <td>100.857143</td>\n",
       "      <td>0.941798</td>\n",
       "      <td>285</td>\n",
       "      <td>3</td>\n",
       "    </tr>\n",
       "    <tr>\n",
       "      <th>285</th>\n",
       "      <td>06113</td>\n",
       "      <td>2020-12-11</td>\n",
       "      <td>116.000000</td>\n",
       "      <td>0.863558</td>\n",
       "      <td>286</td>\n",
       "      <td>4</td>\n",
       "    </tr>\n",
       "    <tr>\n",
       "      <th>286</th>\n",
       "      <td>06113</td>\n",
       "      <td>2020-12-12</td>\n",
       "      <td>105.571429</td>\n",
       "      <td>0.857738</td>\n",
       "      <td>287</td>\n",
       "      <td>5</td>\n",
       "    </tr>\n",
       "  </tbody>\n",
       "</table>\n",
       "</div>"
      ],
      "text/plain": [
       "    geo_value       date  case_value  li_value  time  dayofweek\n",
       "282     06113 2020-12-08   88.428571  1.338939   283          1\n",
       "283     06113 2020-12-09   88.428571  0.953318   284          2\n",
       "284     06113 2020-12-10  100.857143  0.941798   285          3\n",
       "285     06113 2020-12-11  116.000000  0.863558   286          4\n",
       "286     06113 2020-12-12  105.571429  0.857738   287          5"
      ]
     },
     "execution_count": 6,
     "metadata": {},
     "output_type": "execute_result"
    }
   ],
   "source": [
    "data.tail()"
   ]
  },
  {
   "cell_type": "markdown",
   "metadata": {},
   "source": [
    "## Fitting Model\n",
    "\n",
    "### Data preprocessing"
   ]
  },
  {
   "cell_type": "code",
   "execution_count": 7,
   "metadata": {},
   "outputs": [],
   "source": [
    "imputed_data = imputation.impute_with_scipy(data, 'cubic')\n",
    "data = data.dropna(how='any')\n",
    "imputed_data = imputed_data.dropna(how='any')"
   ]
  },
  {
   "cell_type": "code",
   "execution_count": 8,
   "metadata": {},
   "outputs": [],
   "source": [
    "data = data.sort_values(by='time')\n",
    "train = data[data['time'] <= 275] #275 corresponds to Nov 30th, there are 210 entries\n",
    "test = data[data['time'] > 275] #10 entries"
   ]
  },
  {
   "cell_type": "code",
   "execution_count": 9,
   "metadata": {},
   "outputs": [],
   "source": [
    "cases = train['case_value'].values\n",
    "cases = tf.reshape(cases, shape=(1,-1,1))\n",
    "\n",
    "li = train['li_value'].values\n",
    "cases_mean = tf.reduce_mean(cases)\n",
    "cases_std = tf.math.reduce_std(cases)\n",
    "\n",
    "#normalize li and deconvolve\n",
    "li_mean = tf.reduce_mean(li)\n",
    "li_std = tf.math.reduce_std(li)\n",
    "li = pd.DataFrame({'value':li, 'time_value':train['date'].values})\n",
    "train.value = tf.clip_by_value((cases_std*(li.value-li_mean)/li_std) + cases_mean, clip_value_min=0,clip_value_max=float('inf')).numpy()       \n",
    "\n",
    "li = Delay.deconv(train.value.tolist(), train.dayofweek.tolist(), delay_dist)\n",
    "li = tf.reshape(li, shape=(1,-1,1))"
   ]
  },
  {
   "cell_type": "markdown",
   "metadata": {},
   "source": [
    "### Config Model"
   ]
  },
  {
   "cell_type": "code",
   "execution_count": 10,
   "metadata": {},
   "outputs": [],
   "source": [
    "model = ARLIC(p=7, delay_dist=delay_dist)\n",
    "optimizer = tf.keras.optimizers.Adam(lr=1)\n",
    "loss = tf.keras.losses.MSE\n",
    "\n",
    "model_path = \"ARLIC_MODEL_PATH\"\n",
    "checkpoint_callback = tf.keras.callbacks.ModelCheckpoint(\n",
    "    filepath=model_path,\n",
    "    verbose=0,\n",
    "    monitor=\"mean_squared_error\",\n",
    "    save_best_only=True,\n",
    "    save_weights_only=True\n",
    ")\n",
    "\n",
    "callbacks = [\n",
    "    checkpoint_callback,\n",
    "]\n",
    "\n",
    "model.compile(\n",
    "    optimizer=optimizer,\n",
    "    loss=loss, \n",
    "    metrics=[loss],\n",
    ")"
   ]
  },
  {
   "cell_type": "markdown",
   "metadata": {},
   "source": [
    "### Train model"
   ]
  },
  {
   "cell_type": "code",
   "execution_count": 11,
   "metadata": {},
   "outputs": [
    {
     "name": "stdout",
     "output_type": "stream",
     "text": [
      "WARNING:tensorflow:Layer conv1d_1 is casting an input tensor from dtype float64 to the layer's dtype of float32, which is new behavior in TensorFlow 2.  The layer has dtype float32 because its dtype defaults to floatx.\n",
      "\n",
      "If you intended to run this layer in float32, you can safely ignore this warning. If in doubt, this warning is likely only an issue if you are porting a TensorFlow 1.X model to TensorFlow 2.\n",
      "\n",
      "To change all layers to have dtype float64 by default, call `tf.keras.backend.set_floatx('float64')`. To change just this layer, pass dtype='float64' to the layer constructor. If you are the author of this layer, you can disable autocasting by passing autocast=False to the base Layer constructor.\n",
      "\n",
      "WARNING:tensorflow:Layer conv1d is casting an input tensor from dtype float64 to the layer's dtype of float32, which is new behavior in TensorFlow 2.  The layer has dtype float32 because its dtype defaults to floatx.\n",
      "\n",
      "If you intended to run this layer in float32, you can safely ignore this warning. If in doubt, this warning is likely only an issue if you are porting a TensorFlow 1.X model to TensorFlow 2.\n",
      "\n",
      "To change all layers to have dtype float64 by default, call `tf.keras.backend.set_floatx('float64')`. To change just this layer, pass dtype='float64' to the layer constructor. If you are the author of this layer, you can disable autocasting by passing autocast=False to the base Layer constructor.\n",
      "\n"
     ]
    },
    {
     "data": {
      "text/plain": [
       "<tensorflow.python.training.tracking.util.CheckpointLoadStatus at 0x150790700>"
      ]
     },
     "execution_count": 11,
     "metadata": {},
     "output_type": "execute_result"
    }
   ],
   "source": [
    "args = {\n",
    "    \"x\":li,\n",
    "    \"y\":cases,\n",
    "    \"epochs\":5000,\n",
    "    \"verbose\":0,\n",
    "    \"callbacks\":callbacks\n",
    "} \n",
    "model.fit(args)\n",
    "model.load_weights(model_path).expect_partial()"
   ]
  },
  {
   "cell_type": "markdown",
   "metadata": {},
   "source": [
    "## Predict and Visualization"
   ]
  },
  {
   "cell_type": "code",
   "execution_count": 12,
   "metadata": {},
   "outputs": [
    {
     "name": "stdout",
     "output_type": "stream",
     "text": [
      "WARNING:tensorflow:Layer arlic is casting an input tensor from dtype float64 to the layer's dtype of float32, which is new behavior in TensorFlow 2.  The layer has dtype float32 because its dtype defaults to floatx.\n",
      "\n",
      "If you intended to run this layer in float32, you can safely ignore this warning. If in doubt, this warning is likely only an issue if you are porting a TensorFlow 1.X model to TensorFlow 2.\n",
      "\n",
      "To change all layers to have dtype float64 by default, call `tf.keras.backend.set_floatx('float64')`. To change just this layer, pass dtype='float64' to the layer constructor. If you are the author of this layer, you can disable autocasting by passing autocast=False to the base Layer constructor.\n",
      "\n"
     ]
    }
   ],
   "source": [
    "li = tf.pad(li, paddings=[[0,0],[model.p-1,0],[0,0]])\n",
    "It = model(li)\n",
    "It = tf.clip_by_value(It, clip_value_min=0, clip_value_max=float('inf'))\n",
    "It = tf.pad(It, paddings=[[0,0],[model.delay_dist.shape[0]-1,0],[0,0]]) \n",
    "\n",
    "n = data.time.max() - train.time.max() # how many days to predict\n",
    "pred = model.forecast(li, n)\n",
    "pred = tf.reshape(pred, shape=(1,-1,1))\n",
    "It = tf.concat([It, pred], axis=1)\n",
    "It = tf.clip_by_value(It, clip_value_min=0, clip_value_max=float('inf'))\n",
    "\n",
    "prediction = Delay.conv(It, delay_dist)\n",
    "\n",
    "prediction = tf.reshape(prediction, shape=-1)[:-1].numpy() "
   ]
  },
  {
   "cell_type": "code",
   "execution_count": 13,
   "metadata": {},
   "outputs": [],
   "source": [
    "result = prediction[:train.shape[0]-1].tolist() #-1 because there is no fit/prediction for the first entry\n",
    "for available_time in data[data['time']>275].time.values:\n",
    "    result.append(prediction[train.shape[0] - 1 + available_time - 275])"
   ]
  },
  {
   "cell_type": "code",
   "execution_count": 14,
   "metadata": {},
   "outputs": [
    {
     "data": {
      "image/png": "[encoded data removed]",
      "text/plain": [
       "<Figure size 720x432 with 1 Axes>"
      ]
     },
     "metadata": {
      "needs_background": "light"
     },
     "output_type": "display_data"
    }
   ],
   "source": [
    "plt.figure(figsize=(10, 6))\n",
    "plt.plot(data['date'], data['case_value'].values, label='real')\n",
    "plt.scatter(data['date'], data['case_value'].values)\n",
    "plt.scatter(data['date'][1:], result, label='predicted')\n",
    "plt.title('Case counts in Yolo County from March to Dec')\n",
    "#plt.vlines(x=208.5, ymin=0, ymax=100, colors='black')\n",
    "plt.legend()\n",
    "plt.show()"
   ]
  },
  {
   "cell_type": "markdown",
   "metadata": {},
   "source": [
    "## Yolo Again with Imputation"
   ]
  },
  {
   "cell_type": "code",
   "execution_count": 15,
   "metadata": {},
   "outputs": [],
   "source": [
    "imputed_data = imputed_data.sort_values(by='time')\n",
    "train = imputed_data[imputed_data['time'] <= 275] #275 corresponds to Nov 30th, there are 237 entries\n",
    "test = imputed_data[imputed_data['time'] > 275] #12 entries"
   ]
  },
  {
   "cell_type": "code",
   "execution_count": 16,
   "metadata": {},
   "outputs": [],
   "source": [
    "cases = train['case_value'].values\n",
    "cases = tf.reshape(cases, shape=(1,-1,1))\n",
    "\n",
    "li = train['li_value'].values\n",
    "cases_mean = tf.reduce_mean(cases)\n",
    "cases_std = tf.math.reduce_std(cases)\n",
    "\n",
    "#normalize li and deconvolve\n",
    "li_mean = tf.reduce_mean(li)\n",
    "li_std = tf.math.reduce_std(li)\n",
    "li = pd.DataFrame({'value':li, 'time_value':train['date'].values})\n",
    "train.value = tf.clip_by_value((cases_std*(li.value-li_mean)/li_std) + cases_mean, clip_value_min=0,clip_value_max=float('inf')).numpy()       \n",
    "\n",
    "li = Delay.deconv(train.value.tolist(), train.dayofweek.tolist(), delay_dist)\n",
    "li = tf.reshape(li, shape=(1,-1,1))"
   ]
  },
  {
   "cell_type": "code",
   "execution_count": 17,
   "metadata": {},
   "outputs": [],
   "source": [
    "model = ARLIC(p=7, delay_dist=delay_dist)\n",
    "optimizer = tf.keras.optimizers.Adam(lr=1)\n",
    "loss = tf.keras.losses.MSE\n",
    "\n",
    "model_path = \"ARLIC_MODEL_PATH\"\n",
    "checkpoint_callback = tf.keras.callbacks.ModelCheckpoint(\n",
    "    filepath=model_path,\n",
    "    verbose=0,\n",
    "    monitor=\"mean_squared_error\",\n",
    "    save_best_only=True,\n",
    "    save_weights_only=True\n",
    ")\n",
    "\n",
    "callbacks = [\n",
    "    checkpoint_callback,\n",
    "]\n",
    "\n",
    "model.compile(\n",
    "    optimizer=optimizer,\n",
    "    loss=loss, \n",
    "    metrics=[loss],\n",
    ")"
   ]
  },
  {
   "cell_type": "code",
   "execution_count": 18,
   "metadata": {},
   "outputs": [
    {
     "name": "stdout",
     "output_type": "stream",
     "text": [
      "WARNING:tensorflow:Layer conv1d_5 is casting an input tensor from dtype float64 to the layer's dtype of float32, which is new behavior in TensorFlow 2.  The layer has dtype float32 because its dtype defaults to floatx.\n",
      "\n",
      "If you intended to run this layer in float32, you can safely ignore this warning. If in doubt, this warning is likely only an issue if you are porting a TensorFlow 1.X model to TensorFlow 2.\n",
      "\n",
      "To change all layers to have dtype float64 by default, call `tf.keras.backend.set_floatx('float64')`. To change just this layer, pass dtype='float64' to the layer constructor. If you are the author of this layer, you can disable autocasting by passing autocast=False to the base Layer constructor.\n",
      "\n",
      "WARNING:tensorflow:Layer conv1d_4 is casting an input tensor from dtype float64 to the layer's dtype of float32, which is new behavior in TensorFlow 2.  The layer has dtype float32 because its dtype defaults to floatx.\n",
      "\n",
      "If you intended to run this layer in float32, you can safely ignore this warning. If in doubt, this warning is likely only an issue if you are porting a TensorFlow 1.X model to TensorFlow 2.\n",
      "\n",
      "To change all layers to have dtype float64 by default, call `tf.keras.backend.set_floatx('float64')`. To change just this layer, pass dtype='float64' to the layer constructor. If you are the author of this layer, you can disable autocasting by passing autocast=False to the base Layer constructor.\n",
      "\n"
     ]
    },
    {
     "data": {
      "text/plain": [
       "<tensorflow.python.training.tracking.util.CheckpointLoadStatus at 0x11d1fb4c0>"
      ]
     },
     "execution_count": 18,
     "metadata": {},
     "output_type": "execute_result"
    }
   ],
   "source": [
    "args = {\n",
    "    \"x\":li,\n",
    "    \"y\":cases,\n",
    "    \"epochs\":5000,\n",
    "    \"verbose\":0,\n",
    "    \"callbacks\":callbacks\n",
    "} \n",
    "model.fit(args)\n",
    "model.load_weights(model_path).expect_partial()"
   ]
  },
  {
   "cell_type": "code",
   "execution_count": 19,
   "metadata": {},
   "outputs": [
    {
     "name": "stdout",
     "output_type": "stream",
     "text": [
      "WARNING:tensorflow:Layer arlic_1 is casting an input tensor from dtype float64 to the layer's dtype of float32, which is new behavior in TensorFlow 2.  The layer has dtype float32 because its dtype defaults to floatx.\n",
      "\n",
      "If you intended to run this layer in float32, you can safely ignore this warning. If in doubt, this warning is likely only an issue if you are porting a TensorFlow 1.X model to TensorFlow 2.\n",
      "\n",
      "To change all layers to have dtype float64 by default, call `tf.keras.backend.set_floatx('float64')`. To change just this layer, pass dtype='float64' to the layer constructor. If you are the author of this layer, you can disable autocasting by passing autocast=False to the base Layer constructor.\n",
      "\n"
     ]
    }
   ],
   "source": [
    "li = tf.pad(li, paddings=[[0,0],[model.p-1,0],[0,0]])\n",
    "It = model(li)\n",
    "It = tf.clip_by_value(It, clip_value_min=0, clip_value_max=float('inf'))\n",
    "It = tf.pad(It, paddings=[[0,0],[model.delay_dist.shape[0]-1,0],[0,0]]) \n",
    "\n",
    "n = data.time.max() - train.time.max() # how many days to predict\n",
    "pred = model.forecast(li, n)\n",
    "pred = tf.reshape(pred, shape=(1,-1,1))\n",
    "It = tf.concat([It, pred], axis=1)\n",
    "It = tf.clip_by_value(It, clip_value_min=0, clip_value_max=float('inf'))\n",
    "\n",
    "prediction = Delay.conv(It, delay_dist)\n",
    "\n",
    "prediction = tf.reshape(prediction, shape=-1)[:-1].numpy() "
   ]
  },
  {
   "cell_type": "markdown",
   "metadata": {},
   "source": [
    "### Visualization\n",
    "\n",
    "Clearly the fitted and predicted values still have a large discrepency compared with real data, but now the model is better at capture the trend."
   ]
  },
  {
   "cell_type": "code",
   "execution_count": 20,
   "metadata": {},
   "outputs": [
    {
     "data": {
      "image/png": "[encoded data removed]",
      "text/plain": [
       "<Figure size 720x432 with 1 Axes>"
      ]
     },
     "metadata": {
      "needs_background": "light"
     },
     "output_type": "display_data"
    }
   ],
   "source": [
    "plt.figure(figsize=(10, 6))\n",
    "plt.plot(imputed_data['date'], imputed_data['case_value'].values, label='real')\n",
    "plt.scatter(imputed_data['date'], imputed_data['case_value'].values)\n",
    "plt.scatter(imputed_data['date'][1:], prediction, label='predicted')\n",
    "plt.title('Case counts in Yolo County from March to Dec')\n",
    "#plt.vlines(x=208.5, ymin=0, ymax=100, colors='black')\n",
    "plt.legend()\n",
    "plt.show()"
   ]
  },
  {
   "cell_type": "markdown",
   "metadata": {},
   "source": [
    "## Similar procedure for EI Paso\n",
    "\n",
    "There is no missing data problem so only one experiment is done here."
   ]
  },
  {
   "cell_type": "code",
   "execution_count": 21,
   "metadata": {},
   "outputs": [],
   "source": [
    "loader = ARLIC_feeder('./request_cache')\n",
    "\n",
    "data = loader.get_data(case_source='indicator-combination',\n",
    "                       case_signal='confirmed',\n",
    "                       li_source='fb-survey', \n",
    "                       li_signal='smoothed_cli', \n",
    "                       start_date=datetime.date(2020, 3, 1),\n",
    "                       end_date=datetime.date(2020, 12, 15), \n",
    "                       level='county',\n",
    "                       geo_values=['48141'])\n",
    "\n",
    "data = data.dropna(how='any')"
   ]
  },
  {
   "cell_type": "code",
   "execution_count": 22,
   "metadata": {},
   "outputs": [
    {
     "data": {
      "text/html": [
       "<div>\n",
       "<style scoped>\n",
       "    .dataframe tbody tr th:only-of-type {\n",
       "        vertical-align: middle;\n",
       "    }\n",
       "\n",
       "    .dataframe tbody tr th {\n",
       "        vertical-align: top;\n",
       "    }\n",
       "\n",
       "    .dataframe thead th {\n",
       "        text-align: right;\n",
       "    }\n",
       "</style>\n",
       "<table border=\"1\" class=\"dataframe\">\n",
       "  <thead>\n",
       "    <tr style=\"text-align: right;\">\n",
       "      <th></th>\n",
       "      <th>geo_value</th>\n",
       "      <th>date</th>\n",
       "      <th>case_value</th>\n",
       "      <th>li_value</th>\n",
       "      <th>time</th>\n",
       "      <th>dayofweek</th>\n",
       "    </tr>\n",
       "  </thead>\n",
       "  <tbody>\n",
       "    <tr>\n",
       "      <th>36</th>\n",
       "      <td>48141</td>\n",
       "      <td>2020-04-06</td>\n",
       "      <td>10.714286</td>\n",
       "      <td>0.641053</td>\n",
       "      <td>37</td>\n",
       "      <td>0</td>\n",
       "    </tr>\n",
       "    <tr>\n",
       "      <th>37</th>\n",
       "      <td>48141</td>\n",
       "      <td>2020-04-07</td>\n",
       "      <td>11.285714</td>\n",
       "      <td>0.905683</td>\n",
       "      <td>38</td>\n",
       "      <td>1</td>\n",
       "    </tr>\n",
       "    <tr>\n",
       "      <th>38</th>\n",
       "      <td>48141</td>\n",
       "      <td>2020-04-08</td>\n",
       "      <td>14.714286</td>\n",
       "      <td>0.733434</td>\n",
       "      <td>39</td>\n",
       "      <td>2</td>\n",
       "    </tr>\n",
       "    <tr>\n",
       "      <th>39</th>\n",
       "      <td>48141</td>\n",
       "      <td>2020-04-09</td>\n",
       "      <td>17.714286</td>\n",
       "      <td>0.635944</td>\n",
       "      <td>40</td>\n",
       "      <td>3</td>\n",
       "    </tr>\n",
       "    <tr>\n",
       "      <th>40</th>\n",
       "      <td>48141</td>\n",
       "      <td>2020-04-10</td>\n",
       "      <td>21.000000</td>\n",
       "      <td>0.761389</td>\n",
       "      <td>41</td>\n",
       "      <td>4</td>\n",
       "    </tr>\n",
       "  </tbody>\n",
       "</table>\n",
       "</div>"
      ],
      "text/plain": [
       "   geo_value       date  case_value  li_value  time  dayofweek\n",
       "36     48141 2020-04-06   10.714286  0.641053    37          0\n",
       "37     48141 2020-04-07   11.285714  0.905683    38          1\n",
       "38     48141 2020-04-08   14.714286  0.733434    39          2\n",
       "39     48141 2020-04-09   17.714286  0.635944    40          3\n",
       "40     48141 2020-04-10   21.000000  0.761389    41          4"
      ]
     },
     "execution_count": 22,
     "metadata": {},
     "output_type": "execute_result"
    }
   ],
   "source": [
    "data.head() # notice that the first entries starts earlier"
   ]
  },
  {
   "cell_type": "code",
   "execution_count": 23,
   "metadata": {},
   "outputs": [
    {
     "data": {
      "text/html": [
       "<div>\n",
       "<style scoped>\n",
       "    .dataframe tbody tr th:only-of-type {\n",
       "        vertical-align: middle;\n",
       "    }\n",
       "\n",
       "    .dataframe tbody tr th {\n",
       "        vertical-align: top;\n",
       "    }\n",
       "\n",
       "    .dataframe thead th {\n",
       "        text-align: right;\n",
       "    }\n",
       "</style>\n",
       "<table border=\"1\" class=\"dataframe\">\n",
       "  <thead>\n",
       "    <tr style=\"text-align: right;\">\n",
       "      <th></th>\n",
       "      <th>geo_value</th>\n",
       "      <th>date</th>\n",
       "      <th>case_value</th>\n",
       "      <th>li_value</th>\n",
       "      <th>time</th>\n",
       "      <th>dayofweek</th>\n",
       "    </tr>\n",
       "  </thead>\n",
       "  <tbody>\n",
       "    <tr>\n",
       "      <th>282</th>\n",
       "      <td>48141</td>\n",
       "      <td>2020-12-08</td>\n",
       "      <td>570.857143</td>\n",
       "      <td>1.538417</td>\n",
       "      <td>283</td>\n",
       "      <td>1</td>\n",
       "    </tr>\n",
       "    <tr>\n",
       "      <th>283</th>\n",
       "      <td>48141</td>\n",
       "      <td>2020-12-09</td>\n",
       "      <td>478.714286</td>\n",
       "      <td>1.580472</td>\n",
       "      <td>284</td>\n",
       "      <td>2</td>\n",
       "    </tr>\n",
       "    <tr>\n",
       "      <th>284</th>\n",
       "      <td>48141</td>\n",
       "      <td>2020-12-10</td>\n",
       "      <td>425.285714</td>\n",
       "      <td>1.834787</td>\n",
       "      <td>285</td>\n",
       "      <td>3</td>\n",
       "    </tr>\n",
       "    <tr>\n",
       "      <th>285</th>\n",
       "      <td>48141</td>\n",
       "      <td>2020-12-11</td>\n",
       "      <td>395.428571</td>\n",
       "      <td>1.877474</td>\n",
       "      <td>286</td>\n",
       "      <td>4</td>\n",
       "    </tr>\n",
       "    <tr>\n",
       "      <th>286</th>\n",
       "      <td>48141</td>\n",
       "      <td>2020-12-12</td>\n",
       "      <td>434.857143</td>\n",
       "      <td>1.841642</td>\n",
       "      <td>287</td>\n",
       "      <td>5</td>\n",
       "    </tr>\n",
       "  </tbody>\n",
       "</table>\n",
       "</div>"
      ],
      "text/plain": [
       "    geo_value       date  case_value  li_value  time  dayofweek\n",
       "282     48141 2020-12-08  570.857143  1.538417   283          1\n",
       "283     48141 2020-12-09  478.714286  1.580472   284          2\n",
       "284     48141 2020-12-10  425.285714  1.834787   285          3\n",
       "285     48141 2020-12-11  395.428571  1.877474   286          4\n",
       "286     48141 2020-12-12  434.857143  1.841642   287          5"
      ]
     },
     "execution_count": 23,
     "metadata": {},
     "output_type": "execute_result"
    }
   ],
   "source": [
    "data.tail()"
   ]
  },
  {
   "cell_type": "code",
   "execution_count": 24,
   "metadata": {},
   "outputs": [
    {
     "name": "stdout",
     "output_type": "stream",
     "text": [
      "WARNING:tensorflow:Layer conv1d_9 is casting an input tensor from dtype float64 to the layer's dtype of float32, which is new behavior in TensorFlow 2.  The layer has dtype float32 because its dtype defaults to floatx.\n",
      "\n",
      "If you intended to run this layer in float32, you can safely ignore this warning. If in doubt, this warning is likely only an issue if you are porting a TensorFlow 1.X model to TensorFlow 2.\n",
      "\n",
      "To change all layers to have dtype float64 by default, call `tf.keras.backend.set_floatx('float64')`. To change just this layer, pass dtype='float64' to the layer constructor. If you are the author of this layer, you can disable autocasting by passing autocast=False to the base Layer constructor.\n",
      "\n",
      "WARNING:tensorflow:Layer conv1d_8 is casting an input tensor from dtype float64 to the layer's dtype of float32, which is new behavior in TensorFlow 2.  The layer has dtype float32 because its dtype defaults to floatx.\n",
      "\n",
      "If you intended to run this layer in float32, you can safely ignore this warning. If in doubt, this warning is likely only an issue if you are porting a TensorFlow 1.X model to TensorFlow 2.\n",
      "\n",
      "To change all layers to have dtype float64 by default, call `tf.keras.backend.set_floatx('float64')`. To change just this layer, pass dtype='float64' to the layer constructor. If you are the author of this layer, you can disable autocasting by passing autocast=False to the base Layer constructor.\n",
      "\n",
      "WARNING:tensorflow:Layer arlic_2 is casting an input tensor from dtype float64 to the layer's dtype of float32, which is new behavior in TensorFlow 2.  The layer has dtype float32 because its dtype defaults to floatx.\n",
      "\n",
      "If you intended to run this layer in float32, you can safely ignore this warning. If in doubt, this warning is likely only an issue if you are porting a TensorFlow 1.X model to TensorFlow 2.\n",
      "\n",
      "To change all layers to have dtype float64 by default, call `tf.keras.backend.set_floatx('float64')`. To change just this layer, pass dtype='float64' to the layer constructor. If you are the author of this layer, you can disable autocasting by passing autocast=False to the base Layer constructor.\n",
      "\n"
     ]
    }
   ],
   "source": [
    "data = data.sort_values(by='time')\n",
    "train = data[data['time'] <= 275]\n",
    "test = data[data['time'] > 275]\n",
    "\n",
    "cases = train['case_value'].values\n",
    "cases = tf.reshape(cases, shape=(1,-1,1))\n",
    "\n",
    "li = train['li_value'].values\n",
    "cases_mean = tf.reduce_mean(cases)\n",
    "cases_std = tf.math.reduce_std(cases)\n",
    "\n",
    "#normalize li and deconvolve\n",
    "li_mean = tf.reduce_mean(li)\n",
    "li_std = tf.math.reduce_std(li)\n",
    "li = pd.DataFrame({'value':li, 'time_value':train['date'].values})\n",
    "train.value = tf.clip_by_value((cases_std*(li.value-li_mean)/li_std) + cases_mean, clip_value_min=0,clip_value_max=float('inf')).numpy()       \n",
    "\n",
    "li = Delay.deconv(train.value.tolist(), train.dayofweek.tolist(), delay_dist)\n",
    "li = tf.reshape(li, shape=(1,-1,1))\n",
    "\n",
    "model = ARLIC(p=7, delay_dist=delay_dist)\n",
    "optimizer = tf.keras.optimizers.Adam(lr=1)\n",
    "loss = tf.keras.losses.MSE\n",
    "\n",
    "model_path = \"ARLIC_MODEL_PATH\"\n",
    "checkpoint_callback = tf.keras.callbacks.ModelCheckpoint(\n",
    "    filepath=model_path,\n",
    "    verbose=0,\n",
    "    monitor=\"mean_squared_error\",\n",
    "    save_best_only=True,\n",
    "    save_weights_only=True\n",
    ")\n",
    "\n",
    "callbacks = [\n",
    "    checkpoint_callback,\n",
    "]\n",
    "\n",
    "model.compile(\n",
    "    optimizer=optimizer,\n",
    "    loss=loss, \n",
    "    metrics=[loss],\n",
    ")\n",
    "\n",
    "args = {\n",
    "    \"x\":li,\n",
    "    \"y\":cases,\n",
    "    \"epochs\":5000,\n",
    "    \"verbose\":0,\n",
    "    \"callbacks\":callbacks\n",
    "} \n",
    "model.fit(args)\n",
    "model.load_weights(model_path).expect_partial()\n",
    "\n",
    "li = tf.pad(li, paddings=[[0,0],[model.p-1,0],[0,0]])\n",
    "It = model(li)\n",
    "It = tf.clip_by_value(It, clip_value_min=0, clip_value_max=float('inf'))\n",
    "It = tf.pad(It, paddings=[[0,0],[model.delay_dist.shape[0]-1,0],[0,0]]) \n",
    "\n",
    "n = 12 # how many days to predict\n",
    "pred = model.forecast(li, n)\n",
    "pred = tf.reshape(pred, shape=(1,-1,1))\n",
    "It = tf.concat([It, pred], axis=1)\n",
    "It = tf.clip_by_value(It, clip_value_min=0, clip_value_max=float('inf'))\n",
    "\n",
    "prediction = Delay.conv(It, delay_dist)\n",
    "\n",
    "prediction = tf.reshape(prediction, shape=-1)[:-1].numpy() "
   ]
  },
  {
   "cell_type": "code",
   "execution_count": 25,
   "metadata": {},
   "outputs": [
    {
     "data": {
      "image/png": "[encoded data removed]",
      "text/plain": [
       "<Figure size 720x432 with 1 Axes>"
      ]
     },
     "metadata": {
      "needs_background": "light"
     },
     "output_type": "display_data"
    }
   ],
   "source": [
    "plt.figure(figsize=(10, 6))\n",
    "plt.plot(data['date'], data['case_value'].values, label='real')\n",
    "plt.scatter(data['date'], data['case_value'].values)\n",
    "plt.scatter(data['date'][1:], prediction, label='predicted')\n",
    "plt.title('Case counts in EI Paso County from March to Dec')\n",
    "#plt.vlines(x=239.5, ymin=0, ymax=2000, colors='black')\n",
    "plt.legend()\n",
    "plt.show()"
   ]
  }
 ],
 "metadata": {
  "kernelspec": {
   "display_name": "tensorflow2",
   "language": "python",
   "name": "tensorflow2"
  },
  "language_info": {
   "codemirror_mode": {
    "name": "ipython",
    "version": 3
   },
   "file_extension": ".py",
   "mimetype": "text/x-python",
   "name": "python",
   "nbconvert_exporter": "python",
   "pygments_lexer": "ipython3",
   "version": "3.8.5"
  }
 },
 "nbformat": 4,
 "nbformat_minor": 4
}
