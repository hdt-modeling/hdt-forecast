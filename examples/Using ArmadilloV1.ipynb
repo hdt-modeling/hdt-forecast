{
 "cells": [
  {
   "cell_type": "code",
   "execution_count": 1,
   "metadata": {},
   "outputs": [],
   "source": [
    "from hdt_util import ArmadilloV1_feeder\n",
    "from forecasters import ArmadilloV1\n",
    "\n",
    "import numpy as np\n",
    "import scipy\n",
    "import datetime\n",
    "\n",
    "import matplotlib.pyplot as plt"
   ]
  },
  {
   "cell_type": "code",
   "execution_count": 2,
   "metadata": {},
   "outputs": [],
   "source": [
    "loader = ArmadilloV1_feeder('./request_cache')\n",
    "\n",
    "data = loader.get_data(source='jhu-csse', \n",
    "                       signal='deaths', \n",
    "                       start_date=datetime.date(2020, 3, 1),\n",
    "                       end_date=datetime.date(2020, 10, 31), \n",
    "                       level='county', \n",
    "                       count=True, \n",
    "                       cumulated=False,\n",
    "                       mobility_level=1)\n",
    "\n",
    "filtered_data = loader.area_filter(input=data, area=['06113'])"
   ]
  },
  {
   "cell_type": "code",
   "execution_count": 3,
   "metadata": {},
   "outputs": [
    {
     "data": {
      "text/html": [
       "<div>\n",
       "<style scoped>\n",
       "    .dataframe tbody tr th:only-of-type {\n",
       "        vertical-align: middle;\n",
       "    }\n",
       "\n",
       "    .dataframe tbody tr th {\n",
       "        vertical-align: top;\n",
       "    }\n",
       "\n",
       "    .dataframe thead th {\n",
       "        text-align: right;\n",
       "    }\n",
       "</style>\n",
       "<table border=\"1\" class=\"dataframe\">\n",
       "  <thead>\n",
       "    <tr style=\"text-align: right;\">\n",
       "      <th></th>\n",
       "      <th>geo_value</th>\n",
       "      <th>date</th>\n",
       "      <th>case_value</th>\n",
       "      <th>time</th>\n",
       "      <th>dayofweek</th>\n",
       "      <th>mobility_value</th>\n",
       "    </tr>\n",
       "  </thead>\n",
       "  <tbody>\n",
       "    <tr>\n",
       "      <th>234</th>\n",
       "      <td>06113</td>\n",
       "      <td>2020-10-21</td>\n",
       "      <td>2.0</td>\n",
       "      <td>235</td>\n",
       "      <td>2</td>\n",
       "      <td>0.326461</td>\n",
       "    </tr>\n",
       "    <tr>\n",
       "      <th>235</th>\n",
       "      <td>06113</td>\n",
       "      <td>2020-10-22</td>\n",
       "      <td>0.0</td>\n",
       "      <td>236</td>\n",
       "      <td>3</td>\n",
       "      <td>0.325340</td>\n",
       "    </tr>\n",
       "    <tr>\n",
       "      <th>236</th>\n",
       "      <td>06113</td>\n",
       "      <td>2020-10-23</td>\n",
       "      <td>0.0</td>\n",
       "      <td>237</td>\n",
       "      <td>4</td>\n",
       "      <td>0.291457</td>\n",
       "    </tr>\n",
       "    <tr>\n",
       "      <th>237</th>\n",
       "      <td>06113</td>\n",
       "      <td>2020-10-24</td>\n",
       "      <td>0.0</td>\n",
       "      <td>238</td>\n",
       "      <td>5</td>\n",
       "      <td>0.286957</td>\n",
       "    </tr>\n",
       "    <tr>\n",
       "      <th>238</th>\n",
       "      <td>06113</td>\n",
       "      <td>2020-10-25</td>\n",
       "      <td>1.0</td>\n",
       "      <td>239</td>\n",
       "      <td>6</td>\n",
       "      <td>0.342345</td>\n",
       "    </tr>\n",
       "  </tbody>\n",
       "</table>\n",
       "</div>"
      ],
      "text/plain": [
       "    geo_value       date  case_value  time  dayofweek  mobility_value\n",
       "234     06113 2020-10-21         2.0   235          2        0.326461\n",
       "235     06113 2020-10-22         0.0   236          3        0.325340\n",
       "236     06113 2020-10-23         0.0   237          4        0.291457\n",
       "237     06113 2020-10-24         0.0   238          5        0.286957\n",
       "238     06113 2020-10-25         1.0   239          6        0.342345"
      ]
     },
     "execution_count": 3,
     "metadata": {},
     "output_type": "execute_result"
    }
   ],
   "source": [
    "filtered_data.tail()"
   ]
  },
  {
   "cell_type": "markdown",
   "metadata": {},
   "source": [
    "## Fit on weekly data"
   ]
  },
  {
   "cell_type": "code",
   "execution_count": 4,
   "metadata": {},
   "outputs": [
    {
     "data": {
      "text/html": [
       "<div>\n",
       "<style scoped>\n",
       "    .dataframe tbody tr th:only-of-type {\n",
       "        vertical-align: middle;\n",
       "    }\n",
       "\n",
       "    .dataframe tbody tr th {\n",
       "        vertical-align: top;\n",
       "    }\n",
       "\n",
       "    .dataframe thead th {\n",
       "        text-align: right;\n",
       "    }\n",
       "</style>\n",
       "<table border=\"1\" class=\"dataframe\">\n",
       "  <thead>\n",
       "    <tr style=\"text-align: right;\">\n",
       "      <th></th>\n",
       "      <th>geo_value</th>\n",
       "      <th>time</th>\n",
       "      <th>case_value</th>\n",
       "      <th>mobility_value</th>\n",
       "    </tr>\n",
       "  </thead>\n",
       "  <tbody>\n",
       "    <tr>\n",
       "      <th>29</th>\n",
       "      <td>06113</td>\n",
       "      <td>29</td>\n",
       "      <td>1.0</td>\n",
       "      <td>0.300287</td>\n",
       "    </tr>\n",
       "    <tr>\n",
       "      <th>30</th>\n",
       "      <td>06113</td>\n",
       "      <td>30</td>\n",
       "      <td>1.0</td>\n",
       "      <td>0.310830</td>\n",
       "    </tr>\n",
       "    <tr>\n",
       "      <th>31</th>\n",
       "      <td>06113</td>\n",
       "      <td>31</td>\n",
       "      <td>0.0</td>\n",
       "      <td>0.322165</td>\n",
       "    </tr>\n",
       "    <tr>\n",
       "      <th>32</th>\n",
       "      <td>06113</td>\n",
       "      <td>32</td>\n",
       "      <td>0.0</td>\n",
       "      <td>0.321461</td>\n",
       "    </tr>\n",
       "    <tr>\n",
       "      <th>33</th>\n",
       "      <td>06113</td>\n",
       "      <td>33</td>\n",
       "      <td>3.0</td>\n",
       "      <td>0.316212</td>\n",
       "    </tr>\n",
       "  </tbody>\n",
       "</table>\n",
       "</div>"
      ],
      "text/plain": [
       "   geo_value  time  case_value  mobility_value\n",
       "29     06113    29         1.0        0.300287\n",
       "30     06113    30         1.0        0.310830\n",
       "31     06113    31         0.0        0.322165\n",
       "32     06113    32         0.0        0.321461\n",
       "33     06113    33         3.0        0.316212"
      ]
     },
     "execution_count": 4,
     "metadata": {},
     "output_type": "execute_result"
    }
   ],
   "source": [
    "weekly_data = loader.pooling(input=filtered_data, period=7, end_date=datetime.date(2020, 10, 25))\n",
    "weekly_data.tail()"
   ]
  },
  {
   "cell_type": "code",
   "execution_count": 5,
   "metadata": {},
   "outputs": [],
   "source": [
    "#34 entries, use the first 30 as training data\n",
    "train = weekly_data.iloc[:30,]"
   ]
  },
  {
   "cell_type": "code",
   "execution_count": 6,
   "metadata": {},
   "outputs": [],
   "source": [
    "model = ArmadilloV1()"
   ]
  },
  {
   "cell_type": "code",
   "execution_count": 7,
   "metadata": {},
   "outputs": [],
   "source": [
    "DC = train['time'].values\n",
    "DC = scipy.stats.gamma.pdf(DC*7, scale=model.args['gamma_scale'], a=model.args['gamma_shape'])\n",
    "DC = DC/np.sum(DC) * model.args['death_rate']"
   ]
  },
  {
   "cell_type": "code",
   "execution_count": 8,
   "metadata": {},
   "outputs": [],
   "source": [
    "args = {'M':train['mobility_value'].values,\n",
    "        'DC':DC,\n",
    "        'y_true':train['case_value'].values}\n",
    "model.fit(args)"
   ]
  },
  {
   "cell_type": "code",
   "execution_count": 9,
   "metadata": {},
   "outputs": [
    {
     "data": {
      "text/plain": [
       "array([0.        , 0.        , 0.03104218, 0.2411063 , 0.72266475,\n",
       "       1.50281266, 2.19445486, 2.55802259, 2.66031258, 2.631393  ,\n",
       "       2.5528069 , 2.46010011, 2.36584295, 2.27384438, 2.18507519,\n",
       "       2.09968668, 2.01761525, 1.93874736, 1.86296142, 1.79013777,\n",
       "       1.72016077, 1.65291919, 1.58830609, 1.52621874, 1.4665584 ,\n",
       "       1.4092302 , 1.35414298, 1.30120914, 1.25034449, 1.20146816,\n",
       "       1.15450241, 1.10937258, 1.06600688, 1.02433636])"
      ]
     },
     "execution_count": 9,
     "metadata": {},
     "output_type": "execute_result"
    }
   ],
   "source": [
    "prediction = model.forecast(l=4)\n",
    "prediction"
   ]
  },
  {
   "cell_type": "code",
   "execution_count": 10,
   "metadata": {},
   "outputs": [
    {
     "data": {
      "image/png": "[encoded data removed]",
      "text/plain": [
       "<Figure size 720x432 with 1 Axes>"
      ]
     },
     "metadata": {
      "needs_background": "light"
     },
     "output_type": "display_data"
    }
   ],
   "source": [
    "plt.figure(figsize=(10, 6))\n",
    "plt.plot(weekly_data['case_value'].values, label='real')\n",
    "plt.scatter(range(34), weekly_data['case_value'].values)\n",
    "plt.plot(prediction, label='predicted')\n",
    "plt.title('death counts in Yolo County from March to Oct')\n",
    "plt.vlines(x=29.5, ymin=0, ymax=16, colors='black')\n",
    "plt.legend()\n",
    "plt.show()"
   ]
  },
  {
   "cell_type": "markdown",
   "metadata": {},
   "source": [
    "# Same data, every 3 days"
   ]
  },
  {
   "cell_type": "code",
   "execution_count": 11,
   "metadata": {},
   "outputs": [
    {
     "data": {
      "text/html": [
       "<div>\n",
       "<style scoped>\n",
       "    .dataframe tbody tr th:only-of-type {\n",
       "        vertical-align: middle;\n",
       "    }\n",
       "\n",
       "    .dataframe tbody tr th {\n",
       "        vertical-align: top;\n",
       "    }\n",
       "\n",
       "    .dataframe thead th {\n",
       "        text-align: right;\n",
       "    }\n",
       "</style>\n",
       "<table border=\"1\" class=\"dataframe\">\n",
       "  <thead>\n",
       "    <tr style=\"text-align: right;\">\n",
       "      <th></th>\n",
       "      <th>geo_value</th>\n",
       "      <th>time</th>\n",
       "      <th>case_value</th>\n",
       "      <th>mobility_value</th>\n",
       "    </tr>\n",
       "  </thead>\n",
       "  <tbody>\n",
       "    <tr>\n",
       "      <th>74</th>\n",
       "      <td>06113</td>\n",
       "      <td>74</td>\n",
       "      <td>0.0</td>\n",
       "      <td>0.336418</td>\n",
       "    </tr>\n",
       "    <tr>\n",
       "      <th>75</th>\n",
       "      <td>06113</td>\n",
       "      <td>75</td>\n",
       "      <td>0.0</td>\n",
       "      <td>0.320010</td>\n",
       "    </tr>\n",
       "    <tr>\n",
       "      <th>76</th>\n",
       "      <td>06113</td>\n",
       "      <td>76</td>\n",
       "      <td>0.0</td>\n",
       "      <td>0.314500</td>\n",
       "    </tr>\n",
       "    <tr>\n",
       "      <th>77</th>\n",
       "      <td>06113</td>\n",
       "      <td>77</td>\n",
       "      <td>2.0</td>\n",
       "      <td>0.323971</td>\n",
       "    </tr>\n",
       "    <tr>\n",
       "      <th>78</th>\n",
       "      <td>06113</td>\n",
       "      <td>78</td>\n",
       "      <td>1.0</td>\n",
       "      <td>0.306920</td>\n",
       "    </tr>\n",
       "  </tbody>\n",
       "</table>\n",
       "</div>"
      ],
      "text/plain": [
       "   geo_value  time  case_value  mobility_value\n",
       "74     06113    74         0.0        0.336418\n",
       "75     06113    75         0.0        0.320010\n",
       "76     06113    76         0.0        0.314500\n",
       "77     06113    77         2.0        0.323971\n",
       "78     06113    78         1.0        0.306920"
      ]
     },
     "execution_count": 11,
     "metadata": {},
     "output_type": "execute_result"
    }
   ],
   "source": [
    "pooled_data = loader.pooling(input=filtered_data, period=3, end_date=datetime.date(2020, 10, 25))\n",
    "pooled_data.tail()"
   ]
  },
  {
   "cell_type": "code",
   "execution_count": 12,
   "metadata": {},
   "outputs": [],
   "source": [
    "train = pooled_data.iloc[:70,]\n",
    "\n",
    "model = ArmadilloV1()\n",
    "\n",
    "DC = train['time'].values\n",
    "DC = scipy.stats.gamma.pdf(DC*3, scale=model.args['gamma_scale'], a=model.args['gamma_shape'])\n",
    "DC = DC/np.sum(DC) * model.args['death_rate']\n",
    "\n",
    "args = {'M':train['mobility_value'].values,\n",
    "        'DC':DC,\n",
    "        'y_true':train['case_value'].values}\n",
    "model.fit(args)"
   ]
  },
  {
   "cell_type": "code",
   "execution_count": 13,
   "metadata": {},
   "outputs": [
    {
     "data": {
      "text/plain": [
       "array([0.        , 0.        , 0.01639112, 0.11323095, 0.25334563,\n",
       "       0.37906013, 0.48523039, 0.57812135, 0.64745857, 0.68564411,\n",
       "       0.69706531, 0.69500923, 0.68580978, 0.67139449, 0.64644714,\n",
       "       0.60970263, 0.57104963, 0.53400895, 0.50109405, 0.47393203,\n",
       "       0.45169451, 0.43369354, 0.41856319, 0.40474037, 0.38781312,\n",
       "       0.36661599, 0.34544042, 0.32621308, 0.31003969, 0.29440629,\n",
       "       0.28070696, 0.27009913, 0.26207014, 0.25656299, 0.25307589,\n",
       "       0.25225612, 0.25299682, 0.25479285, 0.25743863, 0.26056765,\n",
       "       0.2649371 , 0.26977947, 0.2754001 , 0.2816535 , 0.28836297,\n",
       "       0.29375786, 0.29863907, 0.30370906, 0.30920516, 0.31613914,\n",
       "       0.32330935, 0.33130431, 0.33931886, 0.34876024, 0.36021017,\n",
       "       0.37238376, 0.38498256, 0.39694292, 0.41055419, 0.42410597,\n",
       "       0.43571951, 0.44611429, 0.45758064, 0.47478516, 0.50041093,\n",
       "       0.53401753, 0.56839226, 0.599458  , 0.62976607, 0.66183313,\n",
       "       0.70054259, 0.74463435, 0.79828555, 0.85638747, 0.91304121,\n",
       "       0.96822498, 1.02394425, 1.08172556, 1.14237392])"
      ]
     },
     "execution_count": 13,
     "metadata": {},
     "output_type": "execute_result"
    }
   ],
   "source": [
    "prediction = model.forecast(l=9)\n",
    "prediction"
   ]
  },
  {
   "cell_type": "code",
   "execution_count": 14,
   "metadata": {},
   "outputs": [
    {
     "data": {
      "image/png": "[encoded data removed]",
      "text/plain": [
       "<Figure size 720x432 with 1 Axes>"
      ]
     },
     "metadata": {
      "needs_background": "light"
     },
     "output_type": "display_data"
    }
   ],
   "source": [
    "plt.figure(figsize=(10, 6))\n",
    "plt.plot(pooled_data['case_value'].values, label='real')\n",
    "plt.scatter(range(79), pooled_data['case_value'].values)\n",
    "plt.plot(prediction, label='predicted')\n",
    "plt.title('death counts in Yolo County from March to Oct')\n",
    "plt.vlines(x=69.5, ymin=0, ymax=16, colors='black')\n",
    "plt.legend()\n",
    "plt.show()"
   ]
  }
 ],
 "metadata": {
  "kernelspec": {
   "display_name": "tensorflow2",
   "language": "python",
   "name": "tensorflow2"
  },
  "language_info": {
   "codemirror_mode": {
    "name": "ipython",
    "version": 3
   },
   "file_extension": ".py",
   "mimetype": "text/x-python",
   "name": "python",
   "nbconvert_exporter": "python",
   "pygments_lexer": "ipython3",
   "version": "3.8.5"
  }
 },
 "nbformat": 4,
 "nbformat_minor": 2
}
