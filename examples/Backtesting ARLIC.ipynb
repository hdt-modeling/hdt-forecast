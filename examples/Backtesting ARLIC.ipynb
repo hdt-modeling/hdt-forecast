{
 "cells": [
  {
   "cell_type": "code",
   "execution_count": 1,
   "metadata": {},
   "outputs": [],
   "source": [
    "import datetime\n",
    "import pandas as pd\n",
    "\n",
    "import matplotlib.pyplot as plt\n",
    "\n",
    "from hdt_util.evaluation import ARLIC_evaluator\n",
    "from hdt_util.delay import Delay"
   ]
  },
  {
   "cell_type": "code",
   "execution_count": 2,
   "metadata": {
    "scrolled": false
   },
   "outputs": [],
   "source": [
    "fl_line_data = \"./FL_line_list.csv\""
   ]
  },
  {
   "cell_type": "code",
   "execution_count": 3,
   "metadata": {},
   "outputs": [],
   "source": [
    "# https://www.arcgis.com/home/item.html?id=37abda537d17458bae6677b8ab75fcb9\n",
    "florida_df = pd.read_csv(fl_line_data, parse_dates=[\"Case_\", \"EventDate\", \"ChartDate\"])\n",
    "florida_delays = (florida_df.ChartDate - florida_df.EventDate).dt.days\n",
    "florida_delays = florida_delays[florida_delays.gt(0) & florida_delays.lt(60)]\n",
    "delay_dist = Delay.get_delay_distribution(florida_delays)"
   ]
  },
  {
   "cell_type": "code",
   "execution_count": 4,
   "metadata": {},
   "outputs": [],
   "source": [
    "model_args = {'p':7, 'delay_dist':delay_dist}"
   ]
  },
  {
   "cell_type": "code",
   "execution_count": 5,
   "metadata": {},
   "outputs": [],
   "source": [
    "#one note here, at the end of Oct-31-2020, only data before Sep-21-2020 is available, \n",
    "#one note here, at the end of Nov-20-2020, only data before Oct-11-2020 is available, \n",
    "#some state have missing data\n",
    "#the lag is unstable and hard to track\n",
    "evaluator = ARLIC_evaluator(cache_loc='./request_cache', \n",
    "                            start_date=datetime.date(2020, 3, 1), \n",
    "                            end_date=datetime.date(2020, 11, 20), \n",
    "                            max_prediction_length=15)"
   ]
  },
  {
   "cell_type": "code",
   "execution_count": 6,
   "metadata": {
    "scrolled": true
   },
   "outputs": [
    {
     "name": "stdout",
     "output_type": "stream",
     "text": [
      "loading_data\n"
     ]
    },
    {
     "name": "stderr",
     "output_type": "stream",
     "text": [
      "\r",
      "  0%|          | 0/52 [00:00<?, ?it/s]"
     ]
    },
    {
     "name": "stdout",
     "output_type": "stream",
     "text": [
      "data loaded\n",
      "WARNING:tensorflow:Layer conv1d_1 is casting an input tensor from dtype float64 to the layer's dtype of float32, which is new behavior in TensorFlow 2.  The layer has dtype float32 because its dtype defaults to floatx.\n",
      "\n",
      "If you intended to run this layer in float32, you can safely ignore this warning. If in doubt, this warning is likely only an issue if you are porting a TensorFlow 1.X model to TensorFlow 2.\n",
      "\n",
      "To change all layers to have dtype float64 by default, call `tf.keras.backend.set_floatx('float64')`. To change just this layer, pass dtype='float64' to the layer constructor. If you are the author of this layer, you can disable autocasting by passing autocast=False to the base Layer constructor.\n",
      "\n",
      "WARNING:tensorflow:Layer conv1d is casting an input tensor from dtype float64 to the layer's dtype of float32, which is new behavior in TensorFlow 2.  The layer has dtype float32 because its dtype defaults to floatx.\n",
      "\n",
      "If you intended to run this layer in float32, you can safely ignore this warning. If in doubt, this warning is likely only an issue if you are porting a TensorFlow 1.X model to TensorFlow 2.\n",
      "\n",
      "To change all layers to have dtype float64 by default, call `tf.keras.backend.set_floatx('float64')`. To change just this layer, pass dtype='float64' to the layer constructor. If you are the author of this layer, you can disable autocasting by passing autocast=False to the base Layer constructor.\n",
      "\n",
      "WARNING:tensorflow:Layer arlic is casting an input tensor from dtype float64 to the layer's dtype of float32, which is new behavior in TensorFlow 2.  The layer has dtype float32 because its dtype defaults to floatx.\n",
      "\n",
      "If you intended to run this layer in float32, you can safely ignore this warning. If in doubt, this warning is likely only an issue if you are porting a TensorFlow 1.X model to TensorFlow 2.\n",
      "\n",
      "To change all layers to have dtype float64 by default, call `tf.keras.backend.set_floatx('float64')`. To change just this layer, pass dtype='float64' to the layer constructor. If you are the author of this layer, you can disable autocasting by passing autocast=False to the base Layer constructor.\n",
      "\n"
     ]
    },
    {
     "name": "stderr",
     "output_type": "stream",
     "text": [
      "100%|██████████| 52/52 [12:44<00:00, 14.70s/it] \n"
     ]
    }
   ],
   "source": [
    "prediction_result, evaluation_result = evaluator.evaluate_model(model_args, \n",
    "                                                                geo_type='state', \n",
    "                                                                metrics=[('mae', None),\n",
    "                                                                         ('W1',{'dist':delay_dist})])"
   ]
  },
  {
   "cell_type": "code",
   "execution_count": 7,
   "metadata": {},
   "outputs": [
    {
     "data": {
      "text/html": [
       "<div>\n",
       "<style scoped>\n",
       "    .dataframe tbody tr th:only-of-type {\n",
       "        vertical-align: middle;\n",
       "    }\n",
       "\n",
       "    .dataframe tbody tr th {\n",
       "        vertical-align: top;\n",
       "    }\n",
       "\n",
       "    .dataframe thead th {\n",
       "        text-align: right;\n",
       "    }\n",
       "</style>\n",
       "<table border=\"1\" class=\"dataframe\">\n",
       "  <thead>\n",
       "    <tr style=\"text-align: right;\">\n",
       "      <th></th>\n",
       "      <th>geo_value</th>\n",
       "      <th>prediction_length</th>\n",
       "      <th>real_value</th>\n",
       "      <th>predicted_value</th>\n",
       "    </tr>\n",
       "  </thead>\n",
       "  <tbody>\n",
       "    <tr>\n",
       "      <th>0</th>\n",
       "      <td>ak</td>\n",
       "      <td>1</td>\n",
       "      <td>381.428571</td>\n",
       "      <td>238.705460</td>\n",
       "    </tr>\n",
       "    <tr>\n",
       "      <th>1</th>\n",
       "      <td>ak</td>\n",
       "      <td>2</td>\n",
       "      <td>374.000000</td>\n",
       "      <td>241.295380</td>\n",
       "    </tr>\n",
       "    <tr>\n",
       "      <th>2</th>\n",
       "      <td>ak</td>\n",
       "      <td>3</td>\n",
       "      <td>394.571429</td>\n",
       "      <td>243.761520</td>\n",
       "    </tr>\n",
       "    <tr>\n",
       "      <th>3</th>\n",
       "      <td>ak</td>\n",
       "      <td>4</td>\n",
       "      <td>417.857143</td>\n",
       "      <td>246.185333</td>\n",
       "    </tr>\n",
       "    <tr>\n",
       "      <th>4</th>\n",
       "      <td>ak</td>\n",
       "      <td>5</td>\n",
       "      <td>442.142857</td>\n",
       "      <td>248.645508</td>\n",
       "    </tr>\n",
       "    <tr>\n",
       "      <th>...</th>\n",
       "      <td>...</td>\n",
       "      <td>...</td>\n",
       "      <td>...</td>\n",
       "      <td>...</td>\n",
       "    </tr>\n",
       "    <tr>\n",
       "      <th>789</th>\n",
       "      <td>pr</td>\n",
       "      <td>11</td>\n",
       "      <td>290.000000</td>\n",
       "      <td>8.004466</td>\n",
       "    </tr>\n",
       "    <tr>\n",
       "      <th>790</th>\n",
       "      <td>pr</td>\n",
       "      <td>12</td>\n",
       "      <td>299.857143</td>\n",
       "      <td>8.340216</td>\n",
       "    </tr>\n",
       "    <tr>\n",
       "      <th>791</th>\n",
       "      <td>pr</td>\n",
       "      <td>13</td>\n",
       "      <td>315.142857</td>\n",
       "      <td>8.623668</td>\n",
       "    </tr>\n",
       "    <tr>\n",
       "      <th>792</th>\n",
       "      <td>pr</td>\n",
       "      <td>14</td>\n",
       "      <td>313.142857</td>\n",
       "      <td>8.862321</td>\n",
       "    </tr>\n",
       "    <tr>\n",
       "      <th>793</th>\n",
       "      <td>pr</td>\n",
       "      <td>15</td>\n",
       "      <td>355.000000</td>\n",
       "      <td>9.062619</td>\n",
       "    </tr>\n",
       "  </tbody>\n",
       "</table>\n",
       "<p>794 rows × 4 columns</p>\n",
       "</div>"
      ],
      "text/plain": [
       "    geo_value  prediction_length  real_value  predicted_value\n",
       "0          ak                  1  381.428571       238.705460\n",
       "1          ak                  2  374.000000       241.295380\n",
       "2          ak                  3  394.571429       243.761520\n",
       "3          ak                  4  417.857143       246.185333\n",
       "4          ak                  5  442.142857       248.645508\n",
       "..        ...                ...         ...              ...\n",
       "789        pr                 11  290.000000         8.004466\n",
       "790        pr                 12  299.857143         8.340216\n",
       "791        pr                 13  315.142857         8.623668\n",
       "792        pr                 14  313.142857         8.862321\n",
       "793        pr                 15  355.000000         9.062619\n",
       "\n",
       "[794 rows x 4 columns]"
      ]
     },
     "execution_count": 7,
     "metadata": {},
     "output_type": "execute_result"
    }
   ],
   "source": [
    "prediction_result"
   ]
  },
  {
   "cell_type": "code",
   "execution_count": 8,
   "metadata": {
    "scrolled": true
   },
   "outputs": [
    {
     "data": {
      "text/html": [
       "<div>\n",
       "<style scoped>\n",
       "    .dataframe tbody tr th:only-of-type {\n",
       "        vertical-align: middle;\n",
       "    }\n",
       "\n",
       "    .dataframe tbody tr th {\n",
       "        vertical-align: top;\n",
       "    }\n",
       "\n",
       "    .dataframe thead th {\n",
       "        text-align: right;\n",
       "    }\n",
       "</style>\n",
       "<table border=\"1\" class=\"dataframe\">\n",
       "  <thead>\n",
       "    <tr style=\"text-align: right;\">\n",
       "      <th></th>\n",
       "      <th>MAE</th>\n",
       "      <th>W1</th>\n",
       "      <th>pr</th>\n",
       "    </tr>\n",
       "  </thead>\n",
       "  <tbody>\n",
       "    <tr>\n",
       "      <th>0</th>\n",
       "      <td>216.929397</td>\n",
       "      <td>5.661938</td>\n",
       "      <td>ak</td>\n",
       "    </tr>\n",
       "    <tr>\n",
       "      <th>1</th>\n",
       "      <td>588.948755</td>\n",
       "      <td>5.063104</td>\n",
       "      <td>al</td>\n",
       "    </tr>\n",
       "    <tr>\n",
       "      <th>2</th>\n",
       "      <td>108.126760</td>\n",
       "      <td>3.738415</td>\n",
       "      <td>ar</td>\n",
       "    </tr>\n",
       "    <tr>\n",
       "      <th>3</th>\n",
       "      <td>429.993381</td>\n",
       "      <td>4.462985</td>\n",
       "      <td>az</td>\n",
       "    </tr>\n",
       "    <tr>\n",
       "      <th>4</th>\n",
       "      <td>1103.259012</td>\n",
       "      <td>3.745138</td>\n",
       "      <td>ca</td>\n",
       "    </tr>\n",
       "    <tr>\n",
       "      <th>5</th>\n",
       "      <td>2650.910983</td>\n",
       "      <td>6.085837</td>\n",
       "      <td>co</td>\n",
       "    </tr>\n",
       "    <tr>\n",
       "      <th>6</th>\n",
       "      <td>673.203903</td>\n",
       "      <td>5.368639</td>\n",
       "      <td>ct</td>\n",
       "    </tr>\n",
       "    <tr>\n",
       "      <th>7</th>\n",
       "      <td>26.018598</td>\n",
       "      <td>2.950362</td>\n",
       "      <td>dc</td>\n",
       "    </tr>\n",
       "    <tr>\n",
       "      <th>8</th>\n",
       "      <td>159.691096</td>\n",
       "      <td>5.582106</td>\n",
       "      <td>de</td>\n",
       "    </tr>\n",
       "    <tr>\n",
       "      <th>9</th>\n",
       "      <td>2107.839723</td>\n",
       "      <td>5.184963</td>\n",
       "      <td>fl</td>\n",
       "    </tr>\n",
       "    <tr>\n",
       "      <th>10</th>\n",
       "      <td>331.233072</td>\n",
       "      <td>3.413963</td>\n",
       "      <td>ga</td>\n",
       "    </tr>\n",
       "    <tr>\n",
       "      <th>11</th>\n",
       "      <td>75.121591</td>\n",
       "      <td>7.283699</td>\n",
       "      <td>hi</td>\n",
       "    </tr>\n",
       "    <tr>\n",
       "      <th>12</th>\n",
       "      <td>1283.021110</td>\n",
       "      <td>4.760899</td>\n",
       "      <td>ia</td>\n",
       "    </tr>\n",
       "    <tr>\n",
       "      <th>13</th>\n",
       "      <td>117.288088</td>\n",
       "      <td>4.092255</td>\n",
       "      <td>id</td>\n",
       "    </tr>\n",
       "    <tr>\n",
       "      <th>14</th>\n",
       "      <td>4947.576070</td>\n",
       "      <td>5.413885</td>\n",
       "      <td>il</td>\n",
       "    </tr>\n",
       "    <tr>\n",
       "      <th>15</th>\n",
       "      <td>1219.949247</td>\n",
       "      <td>4.406382</td>\n",
       "      <td>in</td>\n",
       "    </tr>\n",
       "    <tr>\n",
       "      <th>16</th>\n",
       "      <td>1155.479506</td>\n",
       "      <td>5.328917</td>\n",
       "      <td>ks</td>\n",
       "    </tr>\n",
       "    <tr>\n",
       "      <th>17</th>\n",
       "      <td>275.831528</td>\n",
       "      <td>3.912563</td>\n",
       "      <td>ky</td>\n",
       "    </tr>\n",
       "    <tr>\n",
       "      <th>18</th>\n",
       "      <td>672.573056</td>\n",
       "      <td>0.654016</td>\n",
       "      <td>la</td>\n",
       "    </tr>\n",
       "    <tr>\n",
       "      <th>19</th>\n",
       "      <td>1724.175118</td>\n",
       "      <td>6.654157</td>\n",
       "      <td>ma</td>\n",
       "    </tr>\n",
       "    <tr>\n",
       "      <th>20</th>\n",
       "      <td>263.936105</td>\n",
       "      <td>3.346115</td>\n",
       "      <td>md</td>\n",
       "    </tr>\n",
       "    <tr>\n",
       "      <th>21</th>\n",
       "      <td>119.220158</td>\n",
       "      <td>6.514369</td>\n",
       "      <td>me</td>\n",
       "    </tr>\n",
       "    <tr>\n",
       "      <th>22</th>\n",
       "      <td>3994.138417</td>\n",
       "      <td>5.914968</td>\n",
       "      <td>mi</td>\n",
       "    </tr>\n",
       "    <tr>\n",
       "      <th>23</th>\n",
       "      <td>3793.167378</td>\n",
       "      <td>5.842957</td>\n",
       "      <td>mn</td>\n",
       "    </tr>\n",
       "    <tr>\n",
       "      <th>24</th>\n",
       "      <td>2438.128923</td>\n",
       "      <td>6.054587</td>\n",
       "      <td>mo</td>\n",
       "    </tr>\n",
       "    <tr>\n",
       "      <th>25</th>\n",
       "      <td>261.763021</td>\n",
       "      <td>5.148502</td>\n",
       "      <td>ms</td>\n",
       "    </tr>\n",
       "    <tr>\n",
       "      <th>26</th>\n",
       "      <td>483.561383</td>\n",
       "      <td>6.091599</td>\n",
       "      <td>mt</td>\n",
       "    </tr>\n",
       "    <tr>\n",
       "      <th>27</th>\n",
       "      <td>1711.392680</td>\n",
       "      <td>7.139579</td>\n",
       "      <td>nc</td>\n",
       "    </tr>\n",
       "    <tr>\n",
       "      <th>28</th>\n",
       "      <td>707.100917</td>\n",
       "      <td>6.740060</td>\n",
       "      <td>nd</td>\n",
       "    </tr>\n",
       "    <tr>\n",
       "      <th>29</th>\n",
       "      <td>1209.286094</td>\n",
       "      <td>6.447649</td>\n",
       "      <td>ne</td>\n",
       "    </tr>\n",
       "    <tr>\n",
       "      <th>30</th>\n",
       "      <td>183.697710</td>\n",
       "      <td>5.970768</td>\n",
       "      <td>nh</td>\n",
       "    </tr>\n",
       "    <tr>\n",
       "      <th>31</th>\n",
       "      <td>1574.315209</td>\n",
       "      <td>5.781404</td>\n",
       "      <td>nj</td>\n",
       "    </tr>\n",
       "    <tr>\n",
       "      <th>32</th>\n",
       "      <td>767.269105</td>\n",
       "      <td>6.352557</td>\n",
       "      <td>nm</td>\n",
       "    </tr>\n",
       "    <tr>\n",
       "      <th>33</th>\n",
       "      <td>73.707898</td>\n",
       "      <td>3.900265</td>\n",
       "      <td>nv</td>\n",
       "    </tr>\n",
       "    <tr>\n",
       "      <th>34</th>\n",
       "      <td>2274.641719</td>\n",
       "      <td>5.972196</td>\n",
       "      <td>ny</td>\n",
       "    </tr>\n",
       "    <tr>\n",
       "      <th>35</th>\n",
       "      <td>3591.817038</td>\n",
       "      <td>6.412292</td>\n",
       "      <td>oh</td>\n",
       "    </tr>\n",
       "    <tr>\n",
       "      <th>36</th>\n",
       "      <td>836.043973</td>\n",
       "      <td>5.087457</td>\n",
       "      <td>ok</td>\n",
       "    </tr>\n",
       "    <tr>\n",
       "      <th>37</th>\n",
       "      <td>561.316538</td>\n",
       "      <td>6.549308</td>\n",
       "      <td>or</td>\n",
       "    </tr>\n",
       "    <tr>\n",
       "      <th>38</th>\n",
       "      <td>3004.377925</td>\n",
       "      <td>6.429692</td>\n",
       "      <td>pa</td>\n",
       "    </tr>\n",
       "    <tr>\n",
       "      <th>39</th>\n",
       "      <td>296.564244</td>\n",
       "      <td>6.234627</td>\n",
       "      <td>ri</td>\n",
       "    </tr>\n",
       "    <tr>\n",
       "      <th>40</th>\n",
       "      <td>234.062281</td>\n",
       "      <td>5.210163</td>\n",
       "      <td>sc</td>\n",
       "    </tr>\n",
       "    <tr>\n",
       "      <th>41</th>\n",
       "      <td>541.147113</td>\n",
       "      <td>5.637243</td>\n",
       "      <td>sd</td>\n",
       "    </tr>\n",
       "    <tr>\n",
       "      <th>42</th>\n",
       "      <td>1672.341850</td>\n",
       "      <td>5.189382</td>\n",
       "      <td>tn</td>\n",
       "    </tr>\n",
       "    <tr>\n",
       "      <th>43</th>\n",
       "      <td>3052.186830</td>\n",
       "      <td>5.329379</td>\n",
       "      <td>tx</td>\n",
       "    </tr>\n",
       "    <tr>\n",
       "      <th>44</th>\n",
       "      <td>1607.034115</td>\n",
       "      <td>6.004178</td>\n",
       "      <td>ut</td>\n",
       "    </tr>\n",
       "    <tr>\n",
       "      <th>45</th>\n",
       "      <td>507.463606</td>\n",
       "      <td>5.411941</td>\n",
       "      <td>va</td>\n",
       "    </tr>\n",
       "    <tr>\n",
       "      <th>46</th>\n",
       "      <td>37.463262</td>\n",
       "      <td>4.913084</td>\n",
       "      <td>vt</td>\n",
       "    </tr>\n",
       "    <tr>\n",
       "      <th>47</th>\n",
       "      <td>1325.249591</td>\n",
       "      <td>6.551305</td>\n",
       "      <td>wa</td>\n",
       "    </tr>\n",
       "    <tr>\n",
       "      <th>48</th>\n",
       "      <td>5610.405182</td>\n",
       "      <td>7.209900</td>\n",
       "      <td>wi</td>\n",
       "    </tr>\n",
       "    <tr>\n",
       "      <th>49</th>\n",
       "      <td>530.530259</td>\n",
       "      <td>6.306746</td>\n",
       "      <td>wv</td>\n",
       "    </tr>\n",
       "    <tr>\n",
       "      <th>50</th>\n",
       "      <td>495.944076</td>\n",
       "      <td>6.325806</td>\n",
       "      <td>wy</td>\n",
       "    </tr>\n",
       "    <tr>\n",
       "      <th>51</th>\n",
       "      <td>254.127801</td>\n",
       "      <td>6.674301</td>\n",
       "      <td>pr</td>\n",
       "    </tr>\n",
       "  </tbody>\n",
       "</table>\n",
       "</div>"
      ],
      "text/plain": [
       "            MAE        W1  pr\n",
       "0    216.929397  5.661938  ak\n",
       "1    588.948755  5.063104  al\n",
       "2    108.126760  3.738415  ar\n",
       "3    429.993381  4.462985  az\n",
       "4   1103.259012  3.745138  ca\n",
       "5   2650.910983  6.085837  co\n",
       "6    673.203903  5.368639  ct\n",
       "7     26.018598  2.950362  dc\n",
       "8    159.691096  5.582106  de\n",
       "9   2107.839723  5.184963  fl\n",
       "10   331.233072  3.413963  ga\n",
       "11    75.121591  7.283699  hi\n",
       "12  1283.021110  4.760899  ia\n",
       "13   117.288088  4.092255  id\n",
       "14  4947.576070  5.413885  il\n",
       "15  1219.949247  4.406382  in\n",
       "16  1155.479506  5.328917  ks\n",
       "17   275.831528  3.912563  ky\n",
       "18   672.573056  0.654016  la\n",
       "19  1724.175118  6.654157  ma\n",
       "20   263.936105  3.346115  md\n",
       "21   119.220158  6.514369  me\n",
       "22  3994.138417  5.914968  mi\n",
       "23  3793.167378  5.842957  mn\n",
       "24  2438.128923  6.054587  mo\n",
       "25   261.763021  5.148502  ms\n",
       "26   483.561383  6.091599  mt\n",
       "27  1711.392680  7.139579  nc\n",
       "28   707.100917  6.740060  nd\n",
       "29  1209.286094  6.447649  ne\n",
       "30   183.697710  5.970768  nh\n",
       "31  1574.315209  5.781404  nj\n",
       "32   767.269105  6.352557  nm\n",
       "33    73.707898  3.900265  nv\n",
       "34  2274.641719  5.972196  ny\n",
       "35  3591.817038  6.412292  oh\n",
       "36   836.043973  5.087457  ok\n",
       "37   561.316538  6.549308  or\n",
       "38  3004.377925  6.429692  pa\n",
       "39   296.564244  6.234627  ri\n",
       "40   234.062281  5.210163  sc\n",
       "41   541.147113  5.637243  sd\n",
       "42  1672.341850  5.189382  tn\n",
       "43  3052.186830  5.329379  tx\n",
       "44  1607.034115  6.004178  ut\n",
       "45   507.463606  5.411941  va\n",
       "46    37.463262  4.913084  vt\n",
       "47  1325.249591  6.551305  wa\n",
       "48  5610.405182  7.209900  wi\n",
       "49   530.530259  6.306746  wv\n",
       "50   495.944076  6.325806  wy\n",
       "51   254.127801  6.674301  pr"
      ]
     },
     "execution_count": 8,
     "metadata": {},
     "output_type": "execute_result"
    }
   ],
   "source": [
    "evaluation_result"
   ]
  },
  {
   "cell_type": "code",
   "execution_count": 9,
   "metadata": {},
   "outputs": [],
   "source": [
    "#calculate MAE loss for different states and understand their distribution\n",
    "\n",
    "geo_values = prediction_result['geo_value'].unique()\n",
    "errors = []\n",
    "for area in geo_values:\n",
    "    y_true = prediction_result[prediction_result['geo_value']==area]['real_value'].values\n",
    "    y_pred = prediction_result[prediction_result['geo_value']==area]['predicted_value'].values\n",
    "    errors.append(evaluator.MAE(y_true, y_pred))"
   ]
  },
  {
   "cell_type": "markdown",
   "metadata": {},
   "source": [
    "## MAE by states"
   ]
  },
  {
   "cell_type": "code",
   "execution_count": 10,
   "metadata": {},
   "outputs": [
    {
     "data": {
      "text/plain": [
       "(array([24.,  7.,  8.,  3.,  3.,  2.,  2.,  1.,  1.,  1.]),\n",
       " array([  26.01859756,  584.45725602, 1142.89591448, 1701.33457294,\n",
       "        2259.7732314 , 2818.21188987, 3376.65054833, 3935.08920679,\n",
       "        4493.52786525, 5051.96652371, 5610.40518218]),\n",
       " <BarContainer object of 10 artists>)"
      ]
     },
     "execution_count": 10,
     "metadata": {},
     "output_type": "execute_result"
    },
    {
     "data": {
      "image/png": "[encoded data removed]",
      "text/plain": [
       "<Figure size 432x288 with 1 Axes>"
      ]
     },
     "metadata": {
      "needs_background": "light"
     },
     "output_type": "display_data"
    }
   ],
   "source": [
    "plt.hist(errors)"
   ]
  },
  {
   "cell_type": "code",
   "execution_count": 11,
   "metadata": {},
   "outputs": [
    {
     "data": {
      "text/plain": [
       "<AxesSubplot:>"
      ]
     },
     "execution_count": 11,
     "metadata": {},
     "output_type": "execute_result"
    },
    {
     "data": {
      "image/png": "[encoded data removed]",
      "text/plain": [
       "<Figure size 432x288 with 1 Axes>"
      ]
     },
     "metadata": {
      "needs_background": "light"
     },
     "output_type": "display_data"
    }
   ],
   "source": [
    "evaluation_result['MAE'].hist()"
   ]
  },
  {
   "cell_type": "code",
   "execution_count": 12,
   "metadata": {},
   "outputs": [
    {
     "data": {
      "text/html": [
       "<div>\n",
       "<style scoped>\n",
       "    .dataframe tbody tr th:only-of-type {\n",
       "        vertical-align: middle;\n",
       "    }\n",
       "\n",
       "    .dataframe tbody tr th {\n",
       "        vertical-align: top;\n",
       "    }\n",
       "\n",
       "    .dataframe thead th {\n",
       "        text-align: right;\n",
       "    }\n",
       "</style>\n",
       "<table border=\"1\" class=\"dataframe\">\n",
       "  <thead>\n",
       "    <tr style=\"text-align: right;\">\n",
       "      <th></th>\n",
       "      <th>geo_value</th>\n",
       "      <th>prediction_length</th>\n",
       "      <th>real_value</th>\n",
       "      <th>predicted_value</th>\n",
       "      <th>error</th>\n",
       "    </tr>\n",
       "  </thead>\n",
       "  <tbody>\n",
       "    <tr>\n",
       "      <th>0</th>\n",
       "      <td>ak</td>\n",
       "      <td>1</td>\n",
       "      <td>381.428571</td>\n",
       "      <td>238.705460</td>\n",
       "      <td>142.723112</td>\n",
       "    </tr>\n",
       "    <tr>\n",
       "      <th>1</th>\n",
       "      <td>ak</td>\n",
       "      <td>2</td>\n",
       "      <td>374.000000</td>\n",
       "      <td>241.295380</td>\n",
       "      <td>132.704620</td>\n",
       "    </tr>\n",
       "    <tr>\n",
       "      <th>2</th>\n",
       "      <td>ak</td>\n",
       "      <td>3</td>\n",
       "      <td>394.571429</td>\n",
       "      <td>243.761520</td>\n",
       "      <td>150.809908</td>\n",
       "    </tr>\n",
       "    <tr>\n",
       "      <th>3</th>\n",
       "      <td>ak</td>\n",
       "      <td>4</td>\n",
       "      <td>417.857143</td>\n",
       "      <td>246.185333</td>\n",
       "      <td>171.671810</td>\n",
       "    </tr>\n",
       "    <tr>\n",
       "      <th>4</th>\n",
       "      <td>ak</td>\n",
       "      <td>5</td>\n",
       "      <td>442.142857</td>\n",
       "      <td>248.645508</td>\n",
       "      <td>193.497349</td>\n",
       "    </tr>\n",
       "  </tbody>\n",
       "</table>\n",
       "</div>"
      ],
      "text/plain": [
       "  geo_value  prediction_length  real_value  predicted_value       error\n",
       "0        ak                  1  381.428571       238.705460  142.723112\n",
       "1        ak                  2  374.000000       241.295380  132.704620\n",
       "2        ak                  3  394.571429       243.761520  150.809908\n",
       "3        ak                  4  417.857143       246.185333  171.671810\n",
       "4        ak                  5  442.142857       248.645508  193.497349"
      ]
     },
     "execution_count": 12,
     "metadata": {},
     "output_type": "execute_result"
    }
   ],
   "source": [
    "prediction_result['error'] = prediction_result.apply(lambda x : abs(x[2]-x[3]), axis=1)\n",
    "prediction_result.head()"
   ]
  },
  {
   "cell_type": "markdown",
   "metadata": {},
   "source": [
    "## W1 by states"
   ]
  },
  {
   "cell_type": "code",
   "execution_count": 14,
   "metadata": {},
   "outputs": [
    {
     "data": {
      "text/plain": [
       "<AxesSubplot:>"
      ]
     },
     "execution_count": 14,
     "metadata": {},
     "output_type": "execute_result"
    },
    {
     "data": {
      "image/png": "[encoded data removed]",
      "text/plain": [
       "<Figure size 432x288 with 1 Axes>"
      ]
     },
     "metadata": {
      "needs_background": "light"
     },
     "output_type": "display_data"
    }
   ],
   "source": [
    "evaluation_result['W1'].hist()"
   ]
  },
  {
   "cell_type": "markdown",
   "metadata": {},
   "source": [
    "## Boxplot of Absolute Error by prediction_length"
   ]
  },
  {
   "cell_type": "code",
   "execution_count": 13,
   "metadata": {},
   "outputs": [
    {
     "data": {
      "text/plain": [
       "<AxesSubplot:title={'center':'error'}, xlabel='prediction_length'>"
      ]
     },
     "execution_count": 13,
     "metadata": {},
     "output_type": "execute_result"
    },
    {
     "data": {
      "image/png": "[encoded data removed]",
      "text/plain": [
       "<Figure size 432x288 with 1 Axes>"
      ]
     },
     "metadata": {
      "needs_background": "light"
     },
     "output_type": "display_data"
    }
   ],
   "source": [
    "prediction_result.boxplot('error', by='prediction_length')"
   ]
  },
  {
   "cell_type": "markdown",
   "metadata": {},
   "source": [
    "# California Counties"
   ]
  },
  {
   "cell_type": "code",
   "execution_count": 15,
   "metadata": {},
   "outputs": [
    {
     "name": "stdout",
     "output_type": "stream",
     "text": [
      "loading_data\n"
     ]
    },
    {
     "name": "stderr",
     "output_type": "stream",
     "text": [
      "\r",
      "  0%|          | 0/5 [00:00<?, ?it/s]"
     ]
    },
    {
     "name": "stdout",
     "output_type": "stream",
     "text": [
      "data loaded\n",
      "WARNING:tensorflow:Layer conv1d_108 is casting an input tensor from dtype float64 to the layer's dtype of float32, which is new behavior in TensorFlow 2.  The layer has dtype float32 because its dtype defaults to floatx.\n",
      "\n",
      "If you intended to run this layer in float32, you can safely ignore this warning. If in doubt, this warning is likely only an issue if you are porting a TensorFlow 1.X model to TensorFlow 2.\n",
      "\n",
      "To change all layers to have dtype float64 by default, call `tf.keras.backend.set_floatx('float64')`. To change just this layer, pass dtype='float64' to the layer constructor. If you are the author of this layer, you can disable autocasting by passing autocast=False to the base Layer constructor.\n",
      "\n",
      "WARNING:tensorflow:Layer conv1d_107 is casting an input tensor from dtype float64 to the layer's dtype of float32, which is new behavior in TensorFlow 2.  The layer has dtype float32 because its dtype defaults to floatx.\n",
      "\n",
      "If you intended to run this layer in float32, you can safely ignore this warning. If in doubt, this warning is likely only an issue if you are porting a TensorFlow 1.X model to TensorFlow 2.\n",
      "\n",
      "To change all layers to have dtype float64 by default, call `tf.keras.backend.set_floatx('float64')`. To change just this layer, pass dtype='float64' to the layer constructor. If you are the author of this layer, you can disable autocasting by passing autocast=False to the base Layer constructor.\n",
      "\n",
      "WARNING:tensorflow:Layer arlic_1 is casting an input tensor from dtype float64 to the layer's dtype of float32, which is new behavior in TensorFlow 2.  The layer has dtype float32 because its dtype defaults to floatx.\n",
      "\n",
      "If you intended to run this layer in float32, you can safely ignore this warning. If in doubt, this warning is likely only an issue if you are porting a TensorFlow 1.X model to TensorFlow 2.\n",
      "\n",
      "To change all layers to have dtype float64 by default, call `tf.keras.backend.set_floatx('float64')`. To change just this layer, pass dtype='float64' to the layer constructor. If you are the author of this layer, you can disable autocasting by passing autocast=False to the base Layer constructor.\n",
      "\n"
     ]
    },
    {
     "name": "stderr",
     "output_type": "stream",
     "text": [
      "100%|██████████| 5/5 [02:18<00:00, 27.72s/it]\n"
     ]
    }
   ],
   "source": [
    "prediction_result, evaluation_result = evaluator.evaluate_model(model_args, \n",
    "                                                                geo_type='county',\n",
    "                                                                geo_values=['06113', \n",
    "                                                                            '06075',\n",
    "                                                                            '06067',\n",
    "                                                                            '06033',\n",
    "                                                                            '06095'],\n",
    "                                                                metrics=[('mae', None),\n",
    "                                                                         ('W1',{'dist':delay_dist})])"
   ]
  },
  {
   "cell_type": "code",
   "execution_count": 16,
   "metadata": {},
   "outputs": [
    {
     "data": {
      "text/plain": [
       "<AxesSubplot:>"
      ]
     },
     "execution_count": 16,
     "metadata": {},
     "output_type": "execute_result"
    },
    {
     "data": {
      "image/png": "[encoded data removed]",
      "text/plain": [
       "<Figure size 432x288 with 1 Axes>"
      ]
     },
     "metadata": {
      "needs_background": "light"
     },
     "output_type": "display_data"
    }
   ],
   "source": [
    "evaluation_result['MAE'].hist()"
   ]
  },
  {
   "cell_type": "code",
   "execution_count": 18,
   "metadata": {},
   "outputs": [
    {
     "data": {
      "text/plain": [
       "<AxesSubplot:title={'center':'error'}, xlabel='prediction_length'>"
      ]
     },
     "execution_count": 18,
     "metadata": {},
     "output_type": "execute_result"
    },
    {
     "data": {
      "image/png": "[encoded data removed]",
      "text/plain": [
       "<Figure size 432x288 with 1 Axes>"
      ]
     },
     "metadata": {
      "needs_background": "light"
     },
     "output_type": "display_data"
    }
   ],
   "source": [
    "prediction_result['error'] = prediction_result.apply(lambda x : abs(x[2]-x[3]), axis=1)\n",
    "prediction_result.boxplot('error', by='prediction_length')"
   ]
  },
  {
   "cell_type": "code",
   "execution_count": 17,
   "metadata": {},
   "outputs": [
    {
     "data": {
      "text/plain": [
       "<AxesSubplot:>"
      ]
     },
     "execution_count": 17,
     "metadata": {},
     "output_type": "execute_result"
    },
    {
     "data": {
      "image/png": "[encoded data removed]",
      "text/plain": [
       "<Figure size 432x288 with 1 Axes>"
      ]
     },
     "metadata": {
      "needs_background": "light"
     },
     "output_type": "display_data"
    }
   ],
   "source": [
    "evaluation_result['W1'].hist()"
   ]
  }
 ],
 "metadata": {
  "kernelspec": {
   "display_name": "tensorflow2",
   "language": "python",
   "name": "tensorflow2"
  },
  "language_info": {
   "codemirror_mode": {
    "name": "ipython",
    "version": 3
   },
   "file_extension": ".py",
   "mimetype": "text/x-python",
   "name": "python",
   "nbconvert_exporter": "python",
   "pygments_lexer": "ipython3",
   "version": "3.8.5"
  }
 },
 "nbformat": 4,
 "nbformat_minor": 4
}
