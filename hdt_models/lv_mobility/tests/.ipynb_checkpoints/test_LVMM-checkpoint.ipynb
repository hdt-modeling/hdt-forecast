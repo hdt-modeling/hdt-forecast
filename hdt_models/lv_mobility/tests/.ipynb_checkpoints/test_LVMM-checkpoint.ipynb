{
 "cells": [
  {
   "cell_type": "code",
   "execution_count": 19,
   "metadata": {},
   "outputs": [],
   "source": [
    "from scipy.stats import gamma, norm\n",
    "import numpy\n",
    "import pandas\n",
    "import math\n",
    "import os\n",
    "from matplotlib.backends.backend_pdf import PdfPages\n",
    "import matplotlib.pyplot as pyplot\n",
    "from lv_mobility import LVMM\n",
    "from plots import plot_fit"
   ]
  },
  {
   "cell_type": "code",
   "execution_count": 20,
   "metadata": {},
   "outputs": [],
   "source": [
    "def we(a):\n",
    "    n = len(a)\n",
    "    b = math.floor(n/7)\n",
    "    nn = b*7\n",
    "    a = a[0:nn]\n",
    "    a = a.values.reshape((b, 7))\n",
    "    a = numpy.sum(a, axis=1)\n",
    "    a = a.reshape((1, b))\n",
    "    return a\n",
    "\n",
    "df = pandas.read_csv(os.path.join(os.getcwd(), \"data/state_full.csv\"))\n",
    "df = df[df[\"state\"] != \"pr\"]\n",
    "\n",
    "date = df[\"date\"]\n",
    "deaths = df[\"ndeaths\"]\n",
    "home = df[\"completely_home_prop\"]\n",
    "work = df[\"full_time_work_prop\"]\n",
    "cases = df[\"ncases\"]\n",
    "state = df[\"state\"]\n",
    "State = pandas.unique(state)\n",
    "deaths[deaths < 0] = 0\n",
    "\n",
    "Y = A = C = None\n",
    "n = len(deaths)\n",
    "for i in range(0, 51):\n",
    "    if i == 0:\n",
    "        I = (state == State[i])\n",
    "        Y = we(deaths[I])\n",
    "        A = we(home[I])  # using HOME\n",
    "        C = we(cases[I])\n",
    "    else:\n",
    "        I = (state == State[i])\n",
    "        Y = numpy.concatenate([Y, we(deaths[I])])\n",
    "        A = numpy.concatenate([A, we(home[I])])  # using HOME\n",
    "        C = numpy.concatenate([C, we(cases[I])])"
   ]
  },
  {
   "cell_type": "code",
   "execution_count": 21,
   "metadata": {},
   "outputs": [],
   "source": [
    "#initialize death curve\n",
    "l = 16 #length of time interval\n",
    "t = numpy.linspace(start=0, stop=l, num=l+1)\n",
    "ft = gamma.pdf(t*7, scale=3.64, a=6.28)  # a - shape parameter\n",
    "ft = (ft/sum(ft)) * 0.03\n",
    "x = range(1, l+1)\n",
    "\n",
    "keys = ['A', 'alpha', 'beta', 'mu', 'sig']\n",
    "\n",
    "#intialize your mobility time series by selecting the index for your state\n",
    "i=2\n",
    "\n",
    "model = LVMM()\n",
    "y_true = Y[i, :l]\n",
    "m = A[i, :l]"
   ]
  },
  {
   "cell_type": "code",
   "execution_count": 22,
   "metadata": {},
   "outputs": [],
   "source": [
    "#Fit model\n",
    "model.fit(\n",
    "    M=m,\n",
    "    DC=ft[:l],\n",
    "    y_true=y_true,\n",
    ")\n",
    "\n",
    "y_pred = model.preds"
   ]
  },
  {
   "cell_type": "code",
   "execution_count": 23,
   "metadata": {},
   "outputs": [
    {
     "data": {
      "text/plain": [
       "{'A': 0.29896900277215616,\n",
       " 'alpha': -1.1633246957590113,\n",
       " 'beta': 1.098842537996063,\n",
       " 'mu': -1.668444429302781,\n",
       " 'sig': 1e-05,\n",
       " 'M': array([1.46104406, 1.5200612 , 1.61381331, 1.52605252, 1.62909915,\n",
       "        1.41461628, 1.38812132, 1.70223098, 2.13268644, 2.09180085,\n",
       "        2.35881594, 2.2888028 , 2.12219974, 2.04254759, 1.97069726,\n",
       "        1.87603477]),\n",
       " 'DC': array([0.00000000e+00, 1.36714678e-03, 7.76375505e-03, 9.65277041e-03,\n",
       "        6.44387059e-03, 3.05949665e-03, 1.17096864e-03, 3.86226989e-04,\n",
       "        1.14250577e-04, 3.11001172e-05, 7.92829643e-06, 1.91668861e-06,\n",
       "        4.43499839e-07, 9.89135279e-08, 2.13800701e-08, 4.49814289e-09])}"
      ]
     },
     "execution_count": 23,
     "metadata": {},
     "output_type": "execute_result"
    }
   ],
   "source": [
    "model.args"
   ]
  },
  {
   "cell_type": "code",
   "execution_count": 32,
   "metadata": {},
   "outputs": [
    {
     "data": {
      "text/plain": [
       "Text(0.5, 1.0, 'ar')"
      ]
     },
     "execution_count": 32,
     "metadata": {},
     "output_type": "execute_result"
    },
    {
     "data": {
      "image/png": "[encoded data removed]",
      "text/plain": [
       "<Figure size 432x288 with 1 Axes>"
      ]
     },
     "metadata": {
      "needs_background": "light"
     },
     "output_type": "display_data"
    }
   ],
   "source": [
    "# plotting predictions and observations for State[i]\n",
    "pyplot.scatter(x[:l],y_true[:l],facecolors=\"none\", edgecolors=\"r\")\n",
    "pyplot.plot(x[:l],y_pred, color='deepskyblue')\n",
    "pyplot.title(State[i])"
   ]
  },
  {
   "cell_type": "code",
   "execution_count": 25,
   "metadata": {},
   "outputs": [],
   "source": [
    "l2 = 25\n",
    " \n",
    "t = numpy.linspace(start=0, stop=l2, num=l2+1)\n",
    "ft = gamma.pdf(t*7, scale=3.64, a=6.28)  # a - shape parameter\n",
    "ft = (ft/sum(ft)) * 0.03\n",
    "x = range(1, l2+1)\n",
    "\n",
    "keys = ['A', 'alpha', 'beta', 'mu', 'sig']\n",
    "\n",
    "# training loop\n",
    "i=2\n",
    "\n",
    "y_true = Y[i, :l2]\n",
    "\n",
    "forecast = model.forecast(\n",
    "    l=l2,\n",
    ")"
   ]
  },
  {
   "cell_type": "code",
   "execution_count": 35,
   "metadata": {},
   "outputs": [
    {
     "data": {
      "text/plain": [
       "Text(0.5, 1.0, 'ar')"
      ]
     },
     "execution_count": 35,
     "metadata": {},
     "output_type": "execute_result"
    },
    {
     "data": {
      "image/png": "[encoded data removed]",
      "text/plain": [
       "<Figure size 432x288 with 1 Axes>"
      ]
     },
     "metadata": {
      "needs_background": "light"
     },
     "output_type": "display_data"
    }
   ],
   "source": [
    "# plotting predictions and observations for State[i]\n",
    "pyplot.scatter(x,y_true,facecolors=\"none\", edgecolors=\"r\")\n",
    "pyplot.plot(x[:l],forecast[:l],'--',color='deepskyblue')\n",
    "pyplot.plot(x[l:],forecast[l:],color='deepskyblue')\n",
    "pyplot.title(State[i])"
   ]
  },
  {
   "cell_type": "code",
   "execution_count": null,
   "metadata": {},
   "outputs": [],
   "source": []
  }
 ],
 "metadata": {
  "kernelspec": {
   "display_name": "tf-2.2",
   "language": "python",
   "name": "tf-2.2"
  },
  "language_info": {
   "codemirror_mode": {
    "name": "ipython",
    "version": 3
   },
   "file_extension": ".py",
   "mimetype": "text/x-python",
   "name": "python",
   "nbconvert_exporter": "python",
   "pygments_lexer": "ipython3",
   "version": "3.8.5"
  }
 },
 "nbformat": 4,
 "nbformat_minor": 4
}
