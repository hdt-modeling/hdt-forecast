{
 "cells": [
  {
   "cell_type": "code",
   "execution_count": 19,
   "metadata": {},
   "outputs": [],
   "source": [
    "from scipy.stats import gamma, norm\n",
    "import numpy\n",
    "import pandas\n",
    "import math\n",
    "import os\n",
    "from matplotlib.backends.backend_pdf import PdfPages\n",
    "import matplotlib.pyplot as pyplot\n",
    "from lv_mobility import LVMM\n",
    "from plots import plot_fit"
   ]
  },
  {
   "cell_type": "markdown",
   "metadata": {},
   "source": [
    "# Test individual states"
   ]
  },
  {
   "cell_type": "code",
   "execution_count": 20,
   "metadata": {},
   "outputs": [],
   "source": [
    "def we(a):\n",
    "    n = len(a)\n",
    "    b = math.floor(n/7)\n",
    "    nn = b*7\n",
    "    a = a[0:nn]\n",
    "    a = a.values.reshape((b, 7))\n",
    "    a = numpy.sum(a, axis=1)\n",
    "    a = a.reshape((1, b))\n",
    "    return a\n",
    "\n",
    "df = pandas.read_csv(os.path.join(os.getcwd(), \"data/state_full.csv\"))\n",
    "df = df[df[\"state\"] != \"pr\"]\n",
    "\n",
    "date = df[\"date\"]\n",
    "deaths = df[\"ndeaths\"]\n",
    "home = df[\"completely_home_prop\"]\n",
    "work = df[\"full_time_work_prop\"]\n",
    "cases = df[\"ncases\"]\n",
    "state = df[\"state\"]\n",
    "State = pandas.unique(state)\n",
    "deaths[deaths < 0] = 0\n",
    "\n",
    "Y = A = C = None\n",
    "n = len(deaths)\n",
    "for i in range(0, 51):\n",
    "    if i == 0:\n",
    "        I = (state == State[i])\n",
    "        Y = we(deaths[I])\n",
    "        A = we(home[I])  # using HOME\n",
    "        C = we(cases[I])\n",
    "    else:\n",
    "        I = (state == State[i])\n",
    "        Y = numpy.concatenate([Y, we(deaths[I])])\n",
    "        A = numpy.concatenate([A, we(home[I])])  # using HOME\n",
    "        C = numpy.concatenate([C, we(cases[I])])"
   ]
  },
  {
   "cell_type": "code",
   "execution_count": 21,
   "metadata": {},
   "outputs": [],
   "source": [
    "#initialize death curve\n",
    "l = 16 #length of time interval\n",
    "t = numpy.linspace(start=0, stop=l, num=l+1)\n",
    "ft = gamma.pdf(t*7, scale=3.64, a=6.28)  # a - shape parameter\n",
    "ft = (ft/sum(ft)) * 0.03\n",
    "x = range(1, l+1)\n",
    "\n",
    "keys = ['A', 'alpha', 'beta', 'mu', 'sig']\n",
    "\n",
    "#intialize your mobility time series by selecting the index for your state\n",
    "i=2\n",
    "\n",
    "model = LVMM()\n",
    "y_true = Y[i, :l]\n",
    "m = A[i, :l]"
   ]
  },
  {
   "cell_type": "code",
   "execution_count": 22,
   "metadata": {},
   "outputs": [],
   "source": [
    "#Fit model\n",
    "model.fit(\n",
    "    M=m,\n",
    "    DC=ft[:l],\n",
    "    y_true=y_true,\n",
    ")\n",
    "\n",
    "y_pred = model.preds"
   ]
  },
  {
   "cell_type": "code",
   "execution_count": 23,
   "metadata": {},
   "outputs": [
    {
     "data": {
      "text/plain": [
       "{'A': 0.29896900277215616,\n",
       " 'alpha': -1.1633246957590113,\n",
       " 'beta': 1.098842537996063,\n",
       " 'mu': -1.668444429302781,\n",
       " 'sig': 1e-05,\n",
       " 'M': array([1.46104406, 1.5200612 , 1.61381331, 1.52605252, 1.62909915,\n",
       "        1.41461628, 1.38812132, 1.70223098, 2.13268644, 2.09180085,\n",
       "        2.35881594, 2.2888028 , 2.12219974, 2.04254759, 1.97069726,\n",
       "        1.87603477]),\n",
       " 'DC': array([0.00000000e+00, 1.36714678e-03, 7.76375505e-03, 9.65277041e-03,\n",
       "        6.44387059e-03, 3.05949665e-03, 1.17096864e-03, 3.86226989e-04,\n",
       "        1.14250577e-04, 3.11001172e-05, 7.92829643e-06, 1.91668861e-06,\n",
       "        4.43499839e-07, 9.89135279e-08, 2.13800701e-08, 4.49814289e-09])}"
      ]
     },
     "execution_count": 23,
     "metadata": {},
     "output_type": "execute_result"
    }
   ],
   "source": [
    "model.args"
   ]
  },
  {
   "cell_type": "code",
   "execution_count": 32,
   "metadata": {},
   "outputs": [
    {
     "data": {
      "text/plain": [
       "Text(0.5, 1.0, 'ar')"
      ]
     },
     "execution_count": 32,
     "metadata": {},
     "output_type": "execute_result"
    },
    {
     "data": {
      "image/png": "[encoded data removed]",
      "text/plain": [
       "<Figure size 432x288 with 1 Axes>"
      ]
     },
     "metadata": {
      "needs_background": "light"
     },
     "output_type": "display_data"
    }
   ],
   "source": [
    "# plotting predictions and observations for State[i]\n",
    "pyplot.scatter(x[:l],y_true[:l],facecolors=\"none\", edgecolors=\"r\")\n",
    "pyplot.plot(x[:l],y_pred, color='deepskyblue')\n",
    "pyplot.title(State[i])"
   ]
  },
  {
   "cell_type": "code",
   "execution_count": 25,
   "metadata": {},
   "outputs": [],
   "source": [
    "l2 = 25\n",
    " \n",
    "t = numpy.linspace(start=0, stop=l2, num=l2+1)\n",
    "ft = gamma.pdf(t*7, scale=3.64, a=6.28)  # a - shape parameter\n",
    "ft = (ft/sum(ft)) * 0.03\n",
    "x = range(1, l2+1)\n",
    "\n",
    "keys = ['A', 'alpha', 'beta', 'mu', 'sig']\n",
    "\n",
    "# training loop\n",
    "i=2\n",
    "\n",
    "y_true = Y[i, :l2]\n",
    "\n",
    "forecast = model.forecast(\n",
    "    l=l2,\n",
    ")"
   ]
  },
  {
   "cell_type": "code",
   "execution_count": 37,
   "metadata": {},
   "outputs": [
    {
     "data": {
      "text/plain": [
       "Text(0.5, 1.0, 'ar')"
      ]
     },
     "execution_count": 37,
     "metadata": {},
     "output_type": "execute_result"
    },
    {
     "data": {
      "image/png": "[encoded data removed]",
      "text/plain": [
       "<Figure size 432x288 with 1 Axes>"
      ]
     },
     "metadata": {
      "needs_background": "light"
     },
     "output_type": "display_data"
    }
   ],
   "source": [
    "# plotting predictions and observations for State[i]\n",
    "pyplot.scatter(x,y_true,facecolors=\"none\", edgecolors=\"r\")\n",
    "pyplot.plot(x[:l],forecast[:l],linestyle='--',color='deepskyblue')\n",
    "pyplot.plot(x[l:],forecast[l:],color='deepskyblue')\n",
    "pyplot.title(State[i])"
   ]
  },
  {
   "cell_type": "markdown",
   "metadata": {},
   "source": [
    "# Test for global parameters"
   ]
  },
  {
   "cell_type": "code",
   "execution_count": 39,
   "metadata": {},
   "outputs": [],
   "source": [
    "def we(a):\n",
    "    n = len(a)\n",
    "    b = math.floor(n/7)\n",
    "    nn = b*7\n",
    "    a = a[0:nn]\n",
    "    a = a.values.reshape((b, 7))\n",
    "    a = numpy.sum(a, axis=1)\n",
    "    a = a.reshape((1, b))\n",
    "    return a\n",
    "\n",
    "df = pandas.read_csv(os.path.join(os.getcwd(), \"data/state_full.csv\"))\n",
    "df = df[df[\"state\"] != \"pr\"]\n",
    "\n",
    "date = df[\"date\"]\n",
    "deaths = df[\"ndeaths\"]\n",
    "home = df[\"completely_home_prop\"]\n",
    "work = df[\"full_time_work_prop\"]\n",
    "cases = df[\"ncases\"]\n",
    "state = df[\"state\"]\n",
    "State = pandas.unique(state)\n",
    "deaths[deaths < 0] = 0\n",
    "\n",
    "Y = A = C = None\n",
    "n = len(deaths)\n",
    "for i in range(0, 51):\n",
    "    if i == 0:\n",
    "        I = (state == State[i])\n",
    "        Y = we(deaths[I])\n",
    "        A = we(home[I])  # using HOME\n",
    "        C = we(cases[I])\n",
    "    else:\n",
    "        I = (state == State[i])\n",
    "        Y = numpy.concatenate([Y, we(deaths[I])])\n",
    "        A = numpy.concatenate([A, we(home[I])])  # using HOME\n",
    "        C = numpy.concatenate([C, we(cases[I])])"
   ]
  },
  {
   "cell_type": "code",
   "execution_count": 53,
   "metadata": {},
   "outputs": [],
   "source": [
    "Y_global = Y.mean(axis=0)\n",
    "A_global = A.mean(axis=0)"
   ]
  },
  {
   "cell_type": "code",
   "execution_count": 57,
   "metadata": {},
   "outputs": [],
   "source": [
    "#initialize death curve\n",
    "l = 18 #length of time interval\n",
    "t = numpy.linspace(start=0, stop=l, num=l+1)\n",
    "ft = gamma.pdf(t*7, scale=3.64, a=6.28)  # a - shape parameter\n",
    "ft = (ft/sum(ft)) * 0.03\n",
    "x = range(1, l+1)\n",
    "\n",
    "keys = ['A', 'alpha', 'beta', 'mu', 'sig']\n",
    "\n",
    "model_global = LVMM()\n",
    "y_true = Y_global[:l]\n",
    "m = A_global[:l]"
   ]
  },
  {
   "cell_type": "code",
   "execution_count": 58,
   "metadata": {},
   "outputs": [
    {
     "name": "stderr",
     "output_type": "stream",
     "text": [
      "/home/xiavatar/Projects/hdt-forecast/hdt_models/lv_mobility/model.py:78: RuntimeWarning: overflow encountered in exp\n",
      "  out = out + DC0*numpy.exp(BetaSum[d])\n",
      "/home/xiavatar/Projects/hdt-forecast/hdt_models/lv_mobility/model.py:78: RuntimeWarning: invalid value encountered in multiply\n",
      "  out = out + DC0*numpy.exp(BetaSum[d])\n"
     ]
    }
   ],
   "source": [
    "#Fit model\n",
    "model_global.fit(\n",
    "    M=m,\n",
    "    DC=ft[:l],\n",
    "    y_true=y_true,\n",
    ")\n",
    "\n",
    "y_pred = model_global.preds"
   ]
  },
  {
   "cell_type": "code",
   "execution_count": 59,
   "metadata": {},
   "outputs": [
    {
     "data": {
      "text/plain": [
       "{'A': 2.157216450149013,\n",
       " 'alpha': -1.4886589378033166,\n",
       " 'beta': 1.2693302598392506,\n",
       " 'mu': 1.8208861583220823,\n",
       " 'sig': 0.0005217676020068413,\n",
       " 'M': array([1.59135849, 1.69588091, 1.8062904 , 1.70288027, 1.77383164,\n",
       "        1.63931007, 1.55674433, 1.86226027, 2.45690198, 2.59044121,\n",
       "        2.88250739, 2.87095749, 2.71652831, 2.55703033, 2.55620104,\n",
       "        2.49637179, 2.395036  , 2.28157631]),\n",
       " 'DC': array([0.00000000e+00, 1.36714677e-03, 7.76375499e-03, 9.65277033e-03,\n",
       "        6.44387054e-03, 3.05949663e-03, 1.17096864e-03, 3.86226987e-04,\n",
       "        1.14250576e-04, 3.11001170e-05, 7.92829637e-06, 1.91668859e-06,\n",
       "        4.43499836e-07, 9.89135272e-08, 2.13800699e-08, 4.49814286e-09,\n",
       "        9.24364396e-10, 1.86070836e-10])}"
      ]
     },
     "execution_count": 59,
     "metadata": {},
     "output_type": "execute_result"
    }
   ],
   "source": [
    "model_global.args"
   ]
  },
  {
   "cell_type": "code",
   "execution_count": 60,
   "metadata": {},
   "outputs": [
    {
     "data": {
      "text/plain": [
       "Text(0.5, 1.0, 'ar')"
      ]
     },
     "execution_count": 60,
     "metadata": {},
     "output_type": "execute_result"
    },
    {
     "data": {
      "image/png": "[encoded data removed]",
      "text/plain": [
       "<Figure size 432x288 with 1 Axes>"
      ]
     },
     "metadata": {
      "needs_background": "light"
     },
     "output_type": "display_data"
    }
   ],
   "source": [
    "# plotting predictions and observations for State[i]\n",
    "pyplot.scatter(x[:l],y_true[:l],facecolors=\"none\", edgecolors=\"r\")\n",
    "pyplot.plot(x[:l],y_pred, color='deepskyblue')\n",
    "pyplot.title(State[i])"
   ]
  },
  {
   "cell_type": "code",
   "execution_count": 63,
   "metadata": {},
   "outputs": [],
   "source": [
    "l2 = 25\n",
    " \n",
    "t = numpy.linspace(start=0, stop=l2, num=l2+1)\n",
    "ft = gamma.pdf(t*7, scale=3.64, a=6.28)  # a - shape parameter\n",
    "ft = (ft/sum(ft)) * 0.03\n",
    "x = range(1, l2+1)\n",
    "\n",
    "keys = ['A', 'alpha', 'beta', 'mu', 'sig']\n",
    "\n",
    "y_true = Y_global[:l2]\n",
    "\n",
    "forecast = model_global.forecast(\n",
    "    l=l2,\n",
    ")"
   ]
  },
  {
   "cell_type": "code",
   "execution_count": 64,
   "metadata": {},
   "outputs": [
    {
     "data": {
      "text/plain": [
       "[<matplotlib.lines.Line2D at 0x7f86fb2032b0>]"
      ]
     },
     "execution_count": 64,
     "metadata": {},
     "output_type": "execute_result"
    },
    {
     "data": {
      "image/png": "[encoded data removed]",
      "text/plain": [
       "<Figure size 432x288 with 1 Axes>"
      ]
     },
     "metadata": {
      "needs_background": "light"
     },
     "output_type": "display_data"
    }
   ],
   "source": [
    "# plotting predictions and observations for State[i]\n",
    "pyplot.scatter(x,y_true,facecolors=\"none\", edgecolors=\"r\")\n",
    "pyplot.plot(x[:l],forecast[:l],linestyle='--',color='deepskyblue')\n",
    "pyplot.plot(x[l:],forecast[l:],color='deepskyblue')"
   ]
  },
  {
   "cell_type": "code",
   "execution_count": 66,
   "metadata": {},
   "outputs": [
    {
     "data": {
      "text/plain": [
       "[1.46104406172111,\n",
       " 1.52006119742889,\n",
       " 1.6138133108794,\n",
       " 1.52605251704846,\n",
       " 1.6290991506982797,\n",
       " 1.41461628442162,\n",
       " 1.38812131636633,\n",
       " 1.7022309846971502,\n",
       " 2.13268644103909,\n",
       " 2.09180084985199,\n",
       " 2.35881594052098,\n",
       " 2.28880280195796,\n",
       " 2.12219974251835,\n",
       " 2.04254758503004,\n",
       " 1.97069725625296,\n",
       " 1.876034770541,\n",
       " 1.89833497947555,\n",
       " 1.8297301772063204,\n",
       " 1.6688396914323702,\n",
       " 1.68060033564074,\n",
       " 1.7397058856475702,\n",
       " 1.6608398304435197,\n",
       " 1.68143693723331,\n",
       " 1.73931047859453,\n",
       " 1.7024008608255499]"
      ]
     },
     "execution_count": 66,
     "metadata": {},
     "output_type": "execute_result"
    }
   ],
   "source": [
    "list(A[i,:l2])"
   ]
  },
  {
   "cell_type": "code",
   "execution_count": 81,
   "metadata": {},
   "outputs": [],
   "source": [
    "i=10\n",
    "l2 = 21\n",
    " \n",
    "t = numpy.linspace(start=0, stop=l2, num=l2+1)\n",
    "ft = gamma.pdf(t*7, scale=3.64, a=6.28)  # a - shape parameter\n",
    "ft = (ft/sum(ft)) * 0.03\n",
    "x = range(1, l2+1)\n",
    "\n",
    "keys = ['A', 'alpha', 'beta', 'mu', 'sig']\n",
    "\n",
    "\n",
    "y_true = Y[i,:l2]\n",
    "\n",
    "forecast = model_global.forecast(\n",
    "    l=l2,\n",
    "    M=list(A[i,:l2])\n",
    ")"
   ]
  },
  {
   "cell_type": "code",
   "execution_count": 82,
   "metadata": {},
   "outputs": [
    {
     "data": {
      "text/plain": [
       "Text(0.5, 1.0, 'ga')"
      ]
     },
     "execution_count": 82,
     "metadata": {},
     "output_type": "execute_result"
    },
    {
     "data": {
      "image/png": "[encoded data removed]",
      "text/plain": [
       "<Figure size 432x288 with 1 Axes>"
      ]
     },
     "metadata": {
      "needs_background": "light"
     },
     "output_type": "display_data"
    }
   ],
   "source": [
    "# plotting predictions and observations for State[i]\n",
    "pyplot.scatter(x,y_true,facecolors=\"none\", edgecolors=\"r\")\n",
    "pyplot.plot(x[:l],forecast[:l],linestyle='--',color='deepskyblue')\n",
    "pyplot.plot(x[l:],forecast[l:],color='deepskyblue')\n",
    "pyplot.title(State[i])"
   ]
  },
  {
   "cell_type": "code",
   "execution_count": null,
   "metadata": {},
   "outputs": [],
   "source": []
  }
 ],
 "metadata": {
  "kernelspec": {
   "display_name": "tf-2.2",
   "language": "python",
   "name": "tf-2.2"
  },
  "language_info": {
   "codemirror_mode": {
    "name": "ipython",
    "version": 3
   },
   "file_extension": ".py",
   "mimetype": "text/x-python",
   "name": "python",
   "nbconvert_exporter": "python",
   "pygments_lexer": "ipython3",
   "version": "3.8.5"
  }
 },
 "nbformat": 4,
 "nbformat_minor": 4
}
