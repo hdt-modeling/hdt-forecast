{
 "cells": [
  {
   "cell_type": "code",
   "execution_count": 1,
   "metadata": {},
   "outputs": [],
   "source": [
    "from scipy.stats import gamma, norm\n",
    "import numpy\n",
    "import pandas\n",
    "import math\n",
    "import os\n",
    "from matplotlib.backends.backend_pdf import PdfPages\n",
    "import matplotlib.pyplot as pyplot\n",
    "from lv_mobility import LVMM\n",
    "from plots import plot_fit"
   ]
  },
  {
   "cell_type": "markdown",
   "metadata": {},
   "source": [
    "# Test individual states"
   ]
  },
  {
   "cell_type": "code",
   "execution_count": 20,
   "metadata": {},
   "outputs": [],
   "source": [
    "\"\"\"\n",
    "Loading datasets and defining variables for use. The data here is aggregated into weekly data points.\n",
    "\n",
    "State - two letter abbreviations for state\n",
    "Y - death count for that week\n",
    "A - proportion that stay at home, sum of weekly values\n",
    "C - case count for that week\n",
    "\"\"\"\n",
    "def we(a):\n",
    "    n = len(a)\n",
    "    b = math.floor(n/7)\n",
    "    nn = b*7\n",
    "    a = a[0:nn]\n",
    "    a = a.values.reshape((b, 7))\n",
    "    a = numpy.sum(a, axis=1)\n",
    "    a = a.reshape((1, b))\n",
    "    return a\n",
    "\n",
    "df = pandas.read_csv(os.path.join(os.getcwd(), \"data/state_full.csv\"))\n",
    "df = df[df[\"state\"] != \"pr\"]\n",
    "\n",
    "date = df[\"date\"]\n",
    "deaths = df[\"ndeaths\"]\n",
    "home = df[\"completely_home_prop\"]\n",
    "work = df[\"full_time_work_prop\"]\n",
    "cases = df[\"ncases\"]\n",
    "state = df[\"state\"]\n",
    "State = pandas.unique(state)\n",
    "deaths[deaths < 0] = 0\n",
    "\n",
    "Y = A = C = None\n",
    "n = len(deaths)\n",
    "for i in range(0, 51):\n",
    "    if i == 0:\n",
    "        I = (state == State[i])\n",
    "        Y = we(deaths[I])\n",
    "        A = we(home[I])  # using HOME\n",
    "        C = we(cases[I])\n",
    "    else:\n",
    "        I = (state == State[i])\n",
    "        Y = numpy.concatenate([Y, we(deaths[I])])\n",
    "        A = numpy.concatenate([A, we(home[I])])  # using HOME\n",
    "        C = numpy.concatenate([C, we(cases[I])])"
   ]
  },
  {
   "cell_type": "code",
   "execution_count": 21,
   "metadata": {},
   "outputs": [],
   "source": [
    "#initialize death curve\n",
    "l = 16 #length of time interval\n",
    "t = numpy.linspace(start=0, stop=l, num=l+1)\n",
    "ft = gamma.pdf(t*7, scale=3.64, a=6.28)  # a - shape parameter\n",
    "ft = (ft/sum(ft)) * 0.03\n",
    "x = range(1, l+1)\n",
    "\n",
    "keys = ['A', 'alpha', 'beta', 'mu', 'sig']\n",
    "\n",
    "#intialize your mobility time series by selecting the index for your state\n",
    "i=2\n",
    "\n",
    "model = LVMM()\n",
    "y_true = Y[i, :l]\n",
    "m = A[i, :l]"
   ]
  },
  {
   "cell_type": "code",
   "execution_count": 22,
   "metadata": {},
   "outputs": [],
   "source": [
    "#Fit model\n",
    "model.fit(\n",
    "    M=m,\n",
    "    DC=ft[:l],\n",
    "    y_true=y_true,\n",
    ")\n",
    "\n",
    "y_pred = model.preds"
   ]
  },
  {
   "cell_type": "code",
   "execution_count": 23,
   "metadata": {},
   "outputs": [
    {
     "data": {
      "text/plain": [
       "{'A': 0.29896900277215616,\n",
       " 'alpha': -1.1633246957590113,\n",
       " 'beta': 1.098842537996063,\n",
       " 'mu': -1.668444429302781,\n",
       " 'sig': 1e-05,\n",
       " 'M': array([1.46104406, 1.5200612 , 1.61381331, 1.52605252, 1.62909915,\n",
       "        1.41461628, 1.38812132, 1.70223098, 2.13268644, 2.09180085,\n",
       "        2.35881594, 2.2888028 , 2.12219974, 2.04254759, 1.97069726,\n",
       "        1.87603477]),\n",
       " 'DC': array([0.00000000e+00, 1.36714678e-03, 7.76375505e-03, 9.65277041e-03,\n",
       "        6.44387059e-03, 3.05949665e-03, 1.17096864e-03, 3.86226989e-04,\n",
       "        1.14250577e-04, 3.11001172e-05, 7.92829643e-06, 1.91668861e-06,\n",
       "        4.43499839e-07, 9.89135279e-08, 2.13800701e-08, 4.49814289e-09])}"
      ]
     },
     "execution_count": 23,
     "metadata": {},
     "output_type": "execute_result"
    }
   ],
   "source": [
    "model.args"
   ]
  },
  {
   "cell_type": "code",
   "execution_count": 32,
   "metadata": {},
   "outputs": [
    {
     "data": {
      "text/plain": [
       "Text(0.5, 1.0, 'ar')"
      ]
     },
     "execution_count": 32,
     "metadata": {},
     "output_type": "execute_result"
    },
    {
     "data": {
      "image/png": "[encoded data removed]",
      "text/plain": [
       "<Figure size 432x288 with 1 Axes>"
      ]
     },
     "metadata": {
      "needs_background": "light"
     },
     "output_type": "display_data"
    }
   ],
   "source": [
    "# plotting predictions and observations for State[i]\n",
    "pyplot.scatter(x[:l],y_true[:l],facecolors=\"none\", edgecolors=\"r\")\n",
    "pyplot.plot(x[:l],y_pred, color='deepskyblue')\n",
    "pyplot.title(State[i])"
   ]
  },
  {
   "cell_type": "code",
   "execution_count": 25,
   "metadata": {},
   "outputs": [],
   "source": [
    "l2 = 25\n",
    " \n",
    "t = numpy.linspace(start=0, stop=l2, num=l2+1)\n",
    "ft = gamma.pdf(t*7, scale=3.64, a=6.28)  # a - shape parameter\n",
    "ft = (ft/sum(ft)) * 0.03\n",
    "x = range(1, l2+1)\n",
    "\n",
    "keys = ['A', 'alpha', 'beta', 'mu', 'sig']\n",
    "\n",
    "# training loop\n",
    "i=2\n",
    "\n",
    "y_true = Y[i, :l2]\n",
    "\n",
    "forecast = model.forecast(\n",
    "    l=l2,\n",
    ")"
   ]
  },
  {
   "cell_type": "code",
   "execution_count": 37,
   "metadata": {},
   "outputs": [
    {
     "data": {
      "text/plain": [
       "Text(0.5, 1.0, 'ar')"
      ]
     },
     "execution_count": 37,
     "metadata": {},
     "output_type": "execute_result"
    },
    {
     "data": {
      "image/png": "[encoded data removed]",
      "text/plain": [
       "<Figure size 432x288 with 1 Axes>"
      ]
     },
     "metadata": {
      "needs_background": "light"
     },
     "output_type": "display_data"
    }
   ],
   "source": [
    "# plotting predictions and observations for State[i]\n",
    "pyplot.scatter(x,y_true,facecolors=\"none\", edgecolors=\"r\")\n",
    "pyplot.plot(x[:l],forecast[:l],linestyle='--',color='deepskyblue')\n",
    "pyplot.plot(x[l:],forecast[l:],color='deepskyblue')\n",
    "pyplot.title(State[i])"
   ]
  },
  {
   "cell_type": "markdown",
   "metadata": {},
   "source": [
    "# Test for global parameters"
   ]
  },
  {
   "cell_type": "markdown",
   "metadata": {},
   "source": [
    "Can parameters trained on national level data generalize to fit models on local data?"
   ]
  },
  {
   "cell_type": "code",
   "execution_count": 19,
   "metadata": {},
   "outputs": [],
   "source": [
    "\"\"\"\n",
    "Loading datasets and defining variables for use. The data here is aggregated into weekly data points.\n",
    "\n",
    "State - two letter abbreviations for state\n",
    "Y - death count for that week\n",
    "A - proportion that stay at home, sum of weekly values\n",
    "C - case count for that week\n",
    "\"\"\"\n",
    "def we(a):\n",
    "    n = len(a)\n",
    "    b = math.floor(n/7)\n",
    "    nn = b*7\n",
    "    a = a[0:nn]\n",
    "    a = a.values.reshape((b, 7))\n",
    "    a = numpy.sum(a, axis=1)\n",
    "    a = a.reshape((1, b))\n",
    "    return a\n",
    "\n",
    "df = pandas.read_csv(os.path.join(os.getcwd(), \"data/state_full.csv\"))\n",
    "df = df[df[\"state\"] != \"pr\"]\n",
    "\n",
    "date = df[\"date\"]\n",
    "deaths = df[\"ndeaths\"]\n",
    "home = df[\"completely_home_prop\"]\n",
    "work = df[\"full_time_work_prop\"]\n",
    "cases = df[\"ncases\"]\n",
    "state = df[\"state\"]\n",
    "State = pandas.unique(state)\n",
    "deaths[deaths < 0] = 0\n",
    "\n",
    "Y = A = C = None\n",
    "n = len(deaths)\n",
    "for i in range(0, 51):\n",
    "    if i == 0:\n",
    "        I = (state == State[i])\n",
    "        Y = we(deaths[I])\n",
    "        A = we(home[I])  # using HOME\n",
    "        C = we(cases[I])\n",
    "    else:\n",
    "        I = (state == State[i])\n",
    "        Y = numpy.concatenate([Y, we(deaths[I])])\n",
    "        A = numpy.concatenate([A, we(home[I])])  # using HOME\n",
    "        C = numpy.concatenate([C, we(cases[I])])"
   ]
  },
  {
   "cell_type": "code",
   "execution_count": 20,
   "metadata": {},
   "outputs": [],
   "source": [
    "Y_global = Y.mean(axis=0)\n",
    "A_global = A.mean(axis=0)"
   ]
  },
  {
   "cell_type": "code",
   "execution_count": 21,
   "metadata": {},
   "outputs": [],
   "source": [
    "#initialize death curve\n",
    "l = 18 #length of time interval\n",
    "t = numpy.linspace(start=0, stop=l, num=l+1)\n",
    "ft = gamma.pdf(t*7, scale=3.64, a=6.28)  # a - shape parameter\n",
    "ft = (ft/sum(ft)) * 0.03\n",
    "x = range(1, l+1)\n",
    "\n",
    "keys = ['A', 'alpha', 'beta', 'mu', 'sig']\n",
    "\n",
    "model_global = LVMM()\n",
    "y_true = Y_global[:l]\n",
    "m = A_global[:l]"
   ]
  },
  {
   "cell_type": "code",
   "execution_count": 22,
   "metadata": {},
   "outputs": [
    {
     "name": "stderr",
     "output_type": "stream",
     "text": [
      "/home/xiavatar/Projects/hdt-forecast/hdt_models/lv_mobility/model.py:78: RuntimeWarning: overflow encountered in exp\n",
      "  out = out + DC0*numpy.exp(BetaSum[d])\n",
      "/home/xiavatar/Projects/hdt-forecast/hdt_models/lv_mobility/model.py:78: RuntimeWarning: invalid value encountered in multiply\n",
      "  out = out + DC0*numpy.exp(BetaSum[d])\n"
     ]
    }
   ],
   "source": [
    "#Fit model\n",
    "model_global.fit(\n",
    "    M=m,\n",
    "    DC=ft[:l],\n",
    "    y_true=y_true,\n",
    ")\n",
    "\n",
    "y_pred = model_global.preds"
   ]
  },
  {
   "cell_type": "code",
   "execution_count": 23,
   "metadata": {},
   "outputs": [
    {
     "data": {
      "text/plain": [
       "{'A': 2.157226636504922,\n",
       " 'alpha': -1.488658238028944,\n",
       " 'beta': 1.269329579825603,\n",
       " 'mu': -1.829382223038806,\n",
       " 'sig': 1e-05,\n",
       " 'M': array([1.59135849, 1.69588091, 1.8062904 , 1.70288027, 1.77383164,\n",
       "        1.63931007, 1.55674433, 1.86226027, 2.45690198, 2.59044121,\n",
       "        2.88250739, 2.87095749, 2.71652831, 2.55703033, 2.55620104,\n",
       "        2.49637179, 2.395036  , 2.28157631]),\n",
       " 'DC': array([0.00000000e+00, 1.36714677e-03, 7.76375499e-03, 9.65277033e-03,\n",
       "        6.44387054e-03, 3.05949663e-03, 1.17096864e-03, 3.86226987e-04,\n",
       "        1.14250576e-04, 3.11001170e-05, 7.92829637e-06, 1.91668859e-06,\n",
       "        4.43499836e-07, 9.89135272e-08, 2.13800699e-08, 4.49814286e-09,\n",
       "        9.24364396e-10, 1.86070836e-10])}"
      ]
     },
     "execution_count": 23,
     "metadata": {},
     "output_type": "execute_result"
    }
   ],
   "source": [
    "model_global.args"
   ]
  },
  {
   "cell_type": "code",
   "execution_count": 24,
   "metadata": {},
   "outputs": [
    {
     "data": {
      "text/plain": [
       "Text(0.5, 1.0, 'National')"
      ]
     },
     "execution_count": 24,
     "metadata": {},
     "output_type": "execute_result"
    },
    {
     "data": {
      "image/png": "[encoded data removed]",
      "text/plain": [
       "<Figure size 432x288 with 1 Axes>"
      ]
     },
     "metadata": {
      "needs_background": "light"
     },
     "output_type": "display_data"
    }
   ],
   "source": [
    "# plotting predictions and observations for State[i]\n",
    "pyplot.scatter(x[:l],y_true[:l],facecolors=\"none\", edgecolors=\"r\")\n",
    "pyplot.plot(x[:l],y_pred, color='deepskyblue')\n",
    "pyplot.title('National')"
   ]
  },
  {
   "cell_type": "code",
   "execution_count": 25,
   "metadata": {},
   "outputs": [],
   "source": [
    "l2 = 25\n",
    " \n",
    "t = numpy.linspace(start=0, stop=l2, num=l2+1)\n",
    "ft = gamma.pdf(t*7, scale=3.64, a=6.28)  # a - shape parameter\n",
    "ft = (ft/sum(ft)) * 0.03\n",
    "x = range(1, l2+1)\n",
    "\n",
    "keys = ['A', 'alpha', 'beta', 'mu', 'sig']\n",
    "\n",
    "y_true = Y_global[:l2]\n",
    "\n",
    "forecast = model_global.forecast(\n",
    "    l=l2,\n",
    ")"
   ]
  },
  {
   "cell_type": "code",
   "execution_count": 26,
   "metadata": {},
   "outputs": [
    {
     "data": {
      "text/plain": [
       "[<matplotlib.lines.Line2D at 0x7f63f798af40>]"
      ]
     },
     "execution_count": 26,
     "metadata": {},
     "output_type": "execute_result"
    },
    {
     "data": {
      "image/png": "[encoded data removed]",
      "text/plain": [
       "<Figure size 432x288 with 1 Axes>"
      ]
     },
     "metadata": {
      "needs_background": "light"
     },
     "output_type": "display_data"
    }
   ],
   "source": [
    "# plotting predictions and observations for State[i]\n",
    "pyplot.scatter(x,y_true,facecolors=\"none\", edgecolors=\"r\")\n",
    "pyplot.plot(x[:l],forecast[:l],linestyle='--',color='deepskyblue')\n",
    "pyplot.plot(x[l:],forecast[l:],color='deepskyblue')"
   ]
  },
  {
   "cell_type": "code",
   "execution_count": 27,
   "metadata": {},
   "outputs": [
    {
     "data": {
      "text/plain": [
       "[1.7463991119078903,\n",
       " 1.9918804103081498,\n",
       " 1.98405808340722,\n",
       " 1.8666935756276999,\n",
       " 1.92475580522681,\n",
       " 1.85428782828044,\n",
       " 1.65377634047729,\n",
       " 1.8694455896504303,\n",
       " 2.24613653803963,\n",
       " 2.2669686529958497,\n",
       " 2.63106097652311,\n",
       " 2.64316497913615,\n",
       " 2.5304270450363298,\n",
       " 2.26952859097883,\n",
       " 2.3721777948852,\n",
       " 2.34544805279462,\n",
       " 2.18186116593788,\n",
       " 2.14571534362708,\n",
       " 2.01229740843676,\n",
       " 1.9599827617005103,\n",
       " 2.09202837814242,\n",
       " 2.04478951768308,\n",
       " 2.01297493664082,\n",
       " 1.98452866045211,\n",
       " 1.98632718035503]"
      ]
     },
     "execution_count": 27,
     "metadata": {},
     "output_type": "execute_result"
    }
   ],
   "source": [
    "list(A[i,:l2])"
   ]
  },
  {
   "cell_type": "code",
   "execution_count": 28,
   "metadata": {},
   "outputs": [],
   "source": [
    "i=10\n",
    "l2 = 21\n",
    " \n",
    "t = numpy.linspace(start=0, stop=l2, num=l2+1)\n",
    "ft = gamma.pdf(t*7, scale=3.64, a=6.28)  # a - shape parameter\n",
    "ft = (ft/sum(ft)) * 0.03\n",
    "x = range(1, l2+1)\n",
    "\n",
    "keys = ['A', 'alpha', 'beta', 'mu', 'sig']\n",
    "\n",
    "\n",
    "y_true = Y[i,:l2]\n",
    "\n",
    "forecast = model_global.forecast(\n",
    "    l=l2,\n",
    "    M=list(A[i,:l2])\n",
    ")"
   ]
  },
  {
   "cell_type": "code",
   "execution_count": 29,
   "metadata": {},
   "outputs": [
    {
     "data": {
      "text/plain": [
       "Text(0.5, 1.0, 'ga')"
      ]
     },
     "execution_count": 29,
     "metadata": {},
     "output_type": "execute_result"
    },
    {
     "data": {
      "image/png": "[encoded data removed]",
      "text/plain": [
       "<Figure size 432x288 with 1 Axes>"
      ]
     },
     "metadata": {
      "needs_background": "light"
     },
     "output_type": "display_data"
    }
   ],
   "source": [
    "# plotting predictions and observations for State[i] using parameters fitted for national level data\n",
    "pyplot.scatter(x,y_true,facecolors=\"none\", edgecolors=\"r\")\n",
    "pyplot.plot(x[:l],forecast[:l],linestyle='--',color='deepskyblue')\n",
    "pyplot.plot(x[l:],forecast[l:],color='deepskyblue')\n",
    "pyplot.title(State[i])"
   ]
  },
  {
   "cell_type": "markdown",
   "metadata": {},
   "source": [
    "# Fitting to random data, model capacity"
   ]
  },
  {
   "cell_type": "markdown",
   "metadata": {},
   "source": [
    "Here we just want to examine the model's capacity. If given actual death counts but completely randomized mobility data, will the model still be able to fit the data?"
   ]
  },
  {
   "cell_type": "code",
   "execution_count": 30,
   "metadata": {},
   "outputs": [],
   "source": [
    "\"\"\"\n",
    "Loading datasets and defining variables for use. The data here is aggregated into weekly data points.\n",
    "\n",
    "State - two letter abbreviations for state\n",
    "Y - death count for that week\n",
    "A - proportion that stay at home, sum of weekly values\n",
    "C - case count for that week\n",
    "\"\"\"\n",
    "def we(a):\n",
    "    n = len(a)\n",
    "    b = math.floor(n/7)\n",
    "    nn = b*7\n",
    "    a = a[0:nn]\n",
    "    a = a.values.reshape((b, 7))\n",
    "    a = numpy.sum(a, axis=1)\n",
    "    a = a.reshape((1, b))\n",
    "    return a\n",
    "\n",
    "df = pandas.read_csv(os.path.join(os.getcwd(), \"data/state_full.csv\"))\n",
    "df = df[df[\"state\"] != \"pr\"]\n",
    "\n",
    "date = df[\"date\"]\n",
    "deaths = df[\"ndeaths\"]\n",
    "home = df[\"completely_home_prop\"]\n",
    "work = df[\"full_time_work_prop\"]\n",
    "cases = df[\"ncases\"]\n",
    "state = df[\"state\"]\n",
    "State = pandas.unique(state)\n",
    "deaths[deaths < 0] = 0\n",
    "\n",
    "Y = A = C = None\n",
    "n = len(deaths)\n",
    "for i in range(0, 51):\n",
    "    if i == 0:\n",
    "        I = (state == State[i])\n",
    "        Y = we(deaths[I])\n",
    "        A = we(home[I])  # using HOME\n",
    "        C = we(cases[I])\n",
    "    else:\n",
    "        I = (state == State[i])\n",
    "        Y = numpy.concatenate([Y, we(deaths[I])])\n",
    "        A = numpy.concatenate([A, we(home[I])])  # using HOME\n",
    "        C = numpy.concatenate([C, we(cases[I])])"
   ]
  },
  {
   "cell_type": "code",
   "execution_count": 31,
   "metadata": {},
   "outputs": [],
   "source": [
    "i=33\n",
    "l = 25 #length of time interval\n",
    "t = numpy.linspace(start=0, stop=l, num=l+1)\n",
    "ft = gamma.pdf(t*7, scale=3.64, a=6.28)  # a - shape parameter\n",
    "ft = (ft/sum(ft)) * 0.03\n",
    "x = range(1, l+1)\n",
    "\n",
    "keys = ['A', 'alpha', 'beta', 'mu', 'sig']\n",
    "\n",
    "model_random = LVMM()\n",
    "y_true = Y[i, :l]\n",
    "m = numpy.random.uniform(0.5, 3, l)"
   ]
  },
  {
   "cell_type": "code",
   "execution_count": 32,
   "metadata": {},
   "outputs": [
    {
     "name": "stderr",
     "output_type": "stream",
     "text": [
      "/home/xiavatar/Projects/hdt-forecast/hdt_models/lv_mobility/model.py:78: RuntimeWarning: overflow encountered in exp\n",
      "  out = out + DC0*numpy.exp(BetaSum[d])\n",
      "/home/xiavatar/Projects/hdt-forecast/hdt_models/lv_mobility/model.py:78: RuntimeWarning: invalid value encountered in multiply\n",
      "  out = out + DC0*numpy.exp(BetaSum[d])\n"
     ]
    }
   ],
   "source": [
    "#Fit model\n",
    "model_random.fit(\n",
    "    M=m,\n",
    "    DC=ft[:l],\n",
    "    y_true=y_true,\n",
    ")\n",
    "\n",
    "y_pred = model_random.preds"
   ]
  },
  {
   "cell_type": "code",
   "execution_count": 34,
   "metadata": {},
   "outputs": [
    {
     "data": {
      "text/plain": [
       "{'A': 73.58162031432292,\n",
       " 'alpha': -1.5543557926553164,\n",
       " 'beta': 1.2831724926790635,\n",
       " 'mu': -1.4843567324451632,\n",
       " 'sig': 0.0077230399577061775,\n",
       " 'M': array([2.33656425, 2.63636011, 1.33422771, 2.09555233, 0.71770628,\n",
       "        2.14608021, 0.50354399, 1.74091942, 0.55557108, 2.98760198,\n",
       "        2.19746059, 2.56861457, 2.51622738, 2.20324695, 2.71750241,\n",
       "        1.49645048, 2.02106773, 1.31115447, 2.11888347, 2.2645551 ,\n",
       "        1.43899077, 1.42941706, 0.72899315, 1.6266523 , 2.35309067]),\n",
       " 'DC': array([0.00000000e+00, 1.36714677e-03, 7.76375499e-03, 9.65277033e-03,\n",
       "        6.44387054e-03, 3.05949663e-03, 1.17096863e-03, 3.86226987e-04,\n",
       "        1.14250576e-04, 3.11001170e-05, 7.92829637e-06, 1.91668859e-06,\n",
       "        4.43499836e-07, 9.89135272e-08, 2.13800699e-08, 4.49814286e-09,\n",
       "        9.24364395e-10, 1.86070836e-10, 3.67760546e-11, 7.15094810e-12,\n",
       "        1.37025468e-12, 2.59118903e-13, 4.84162646e-14, 8.94830551e-15,\n",
       "        1.63738757e-15])}"
      ]
     },
     "execution_count": 34,
     "metadata": {},
     "output_type": "execute_result"
    }
   ],
   "source": [
    "model_random.args"
   ]
  },
  {
   "cell_type": "code",
   "execution_count": 33,
   "metadata": {},
   "outputs": [
    {
     "data": {
      "text/plain": [
       "Text(0.5, 1.0, 'nv')"
      ]
     },
     "execution_count": 33,
     "metadata": {},
     "output_type": "execute_result"
    },
    {
     "data": {
      "image/png": "[encoded data removed]",
      "text/plain": [
       "<Figure size 432x288 with 1 Axes>"
      ]
     },
     "metadata": {
      "needs_background": "light"
     },
     "output_type": "display_data"
    }
   ],
   "source": [
    "# plotting predictions and observations for State[i]\n",
    "pyplot.scatter(x[:l],y_true[:l],facecolors=\"none\", edgecolors=\"r\")\n",
    "pyplot.plot(x[:l],y_pred, color='deepskyblue')\n",
    "pyplot.title(State[i])"
   ]
  },
  {
   "cell_type": "code",
   "execution_count": 35,
   "metadata": {},
   "outputs": [],
   "source": [
    "i=44\n",
    "l = 25 #length of time interval\n",
    "t = numpy.linspace(start=0, stop=l, num=l+1)\n",
    "ft = gamma.pdf(t*7, scale=3.64, a=6.28)  # a - shape parameter\n",
    "ft = (ft/sum(ft)) * 0.03\n",
    "x = range(1, l+1)\n",
    "\n",
    "keys = ['A', 'alpha', 'beta', 'mu', 'sig']\n",
    "\n",
    "model_random = LVMM()\n",
    "y_true = Y[i, :l]\n",
    "m = numpy.random.uniform(0.5, 3, l)"
   ]
  },
  {
   "cell_type": "code",
   "execution_count": 36,
   "metadata": {},
   "outputs": [
    {
     "name": "stderr",
     "output_type": "stream",
     "text": [
      "/home/xiavatar/Projects/hdt-forecast/hdt_models/lv_mobility/model.py:78: RuntimeWarning: overflow encountered in exp\n",
      "  out = out + DC0*numpy.exp(BetaSum[d])\n",
      "/home/xiavatar/Projects/hdt-forecast/hdt_models/lv_mobility/model.py:78: RuntimeWarning: invalid value encountered in multiply\n",
      "  out = out + DC0*numpy.exp(BetaSum[d])\n"
     ]
    }
   ],
   "source": [
    "#Fit model\n",
    "model_random.fit(\n",
    "    M=m,\n",
    "    DC=ft[:l],\n",
    "    y_true=y_true,\n",
    ")\n",
    "\n",
    "y_pred = model_random.preds"
   ]
  },
  {
   "cell_type": "code",
   "execution_count": 37,
   "metadata": {},
   "outputs": [
    {
     "data": {
      "text/plain": [
       "{'A': -3.8421209266704013,\n",
       " 'alpha': -4.0,\n",
       " 'beta': 4.0483247873101185,\n",
       " 'mu': -0.8197864962172766,\n",
       " 'sig': 1e-05,\n",
       " 'M': array([2.47241657, 2.49607071, 2.35469661, 2.49320828, 0.75353697,\n",
       "        1.8698989 , 1.19903174, 1.1375589 , 1.71325893, 1.24527952,\n",
       "        1.57368086, 1.00382636, 1.12012708, 2.18774633, 2.85712593,\n",
       "        2.1808243 , 1.47274212, 0.95855026, 2.29509401, 1.91382683,\n",
       "        2.65911529, 2.1029468 , 1.74458222, 0.57828456, 0.97402335]),\n",
       " 'DC': array([0.00000000e+00, 1.36714677e-03, 7.76375499e-03, 9.65277033e-03,\n",
       "        6.44387054e-03, 3.05949663e-03, 1.17096863e-03, 3.86226987e-04,\n",
       "        1.14250576e-04, 3.11001170e-05, 7.92829637e-06, 1.91668859e-06,\n",
       "        4.43499836e-07, 9.89135272e-08, 2.13800699e-08, 4.49814286e-09,\n",
       "        9.24364395e-10, 1.86070836e-10, 3.67760546e-11, 7.15094810e-12,\n",
       "        1.37025468e-12, 2.59118903e-13, 4.84162646e-14, 8.94830551e-15,\n",
       "        1.63738757e-15])}"
      ]
     },
     "execution_count": 37,
     "metadata": {},
     "output_type": "execute_result"
    }
   ],
   "source": [
    "model_random.args"
   ]
  },
  {
   "cell_type": "code",
   "execution_count": 38,
   "metadata": {},
   "outputs": [
    {
     "data": {
      "text/plain": [
       "Text(0.5, 1.0, 'ut')"
      ]
     },
     "execution_count": 38,
     "metadata": {},
     "output_type": "execute_result"
    },
    {
     "data": {
      "image/png": "[encoded data removed]",
      "text/plain": [
       "<Figure size 432x288 with 1 Axes>"
      ]
     },
     "metadata": {
      "needs_background": "light"
     },
     "output_type": "display_data"
    }
   ],
   "source": [
    "# plotting predictions and observations for State[i]\n",
    "pyplot.scatter(x[:l],y_true[:l],facecolors=\"none\", edgecolors=\"r\")\n",
    "pyplot.plot(x[:l],y_pred, color='deepskyblue')\n",
    "pyplot.title(State[i])"
   ]
  },
  {
   "cell_type": "code",
   "execution_count": 45,
   "metadata": {},
   "outputs": [],
   "source": [
    "l = 25 #length of time interval\n",
    "t = numpy.linspace(start=0, stop=l, num=l+1)\n",
    "ft = gamma.pdf(t*7, scale=3.64, a=6.28)  # a - shape parameter\n",
    "ft = (ft/sum(ft)) * 0.03\n",
    "x = range(1, l+1)\n",
    "\n",
    "keys = ['A', 'alpha', 'beta', 'mu', 'sig']\n",
    "\n",
    "model_random = LVMM()\n",
    "y_true = numpy.concatenate([[0,0,0,10,30],[50,90,70,30,20],[10,5,1,100, 120],[200,150,40,20,10],[5, 2,1,1,1]])\n",
    "m = numpy.random.uniform(0.5, 3, l)"
   ]
  },
  {
   "cell_type": "code",
   "execution_count": 46,
   "metadata": {},
   "outputs": [
    {
     "name": "stderr",
     "output_type": "stream",
     "text": [
      "/home/xiavatar/Projects/hdt-forecast/hdt_models/lv_mobility/model.py:78: RuntimeWarning: overflow encountered in exp\n",
      "  out = out + DC0*numpy.exp(BetaSum[d])\n",
      "/home/xiavatar/Projects/hdt-forecast/hdt_models/lv_mobility/model.py:78: RuntimeWarning: invalid value encountered in multiply\n",
      "  out = out + DC0*numpy.exp(BetaSum[d])\n"
     ]
    }
   ],
   "source": [
    "#Fit model\n",
    "model_random.fit(\n",
    "    M=m,\n",
    "    DC=ft[:l],\n",
    "    y_true=y_true,\n",
    ")\n",
    "\n",
    "y_pred = model_random.preds"
   ]
  },
  {
   "cell_type": "code",
   "execution_count": 47,
   "metadata": {},
   "outputs": [
    {
     "data": {
      "text/plain": [
       "{'A': 100.0,\n",
       " 'alpha': 4.0,\n",
       " 'beta': -2.103404628039803,\n",
       " 'mu': -2.0,\n",
       " 'sig': 0.5104442778682887,\n",
       " 'M': array([1.22548715, 2.84858734, 1.93319756, 1.78890097, 2.9027985 ,\n",
       "        2.42927239, 1.31952647, 2.84761203, 2.55585772, 2.68422947,\n",
       "        0.60950715, 2.08921121, 2.09752972, 2.00504024, 0.86380359,\n",
       "        2.73084585, 1.82257712, 0.88002517, 1.96095591, 1.43812955,\n",
       "        0.61897238, 2.41012376, 1.85268952, 1.31639871, 1.72926454]),\n",
       " 'DC': array([0.00000000e+00, 1.36714677e-03, 7.76375499e-03, 9.65277033e-03,\n",
       "        6.44387054e-03, 3.05949663e-03, 1.17096863e-03, 3.86226987e-04,\n",
       "        1.14250576e-04, 3.11001170e-05, 7.92829637e-06, 1.91668859e-06,\n",
       "        4.43499836e-07, 9.89135272e-08, 2.13800699e-08, 4.49814286e-09,\n",
       "        9.24364395e-10, 1.86070836e-10, 3.67760546e-11, 7.15094810e-12,\n",
       "        1.37025468e-12, 2.59118903e-13, 4.84162646e-14, 8.94830551e-15,\n",
       "        1.63738757e-15])}"
      ]
     },
     "execution_count": 47,
     "metadata": {},
     "output_type": "execute_result"
    }
   ],
   "source": [
    "model_random.args"
   ]
  },
  {
   "cell_type": "code",
   "execution_count": 49,
   "metadata": {},
   "outputs": [
    {
     "data": {
      "text/plain": [
       "Text(0.5, 1.0, 'Completely random data')"
      ]
     },
     "execution_count": 49,
     "metadata": {},
     "output_type": "execute_result"
    },
    {
     "data": {
      "image/png": "[encoded data removed]",
      "text/plain": [
       "<Figure size 432x288 with 1 Axes>"
      ]
     },
     "metadata": {
      "needs_background": "light"
     },
     "output_type": "display_data"
    }
   ],
   "source": [
    "# plotting predictions and observations for State[i]\n",
    "pyplot.scatter(x[:l],y_true[:l],facecolors=\"none\", edgecolors=\"r\")\n",
    "pyplot.plot(x[:l],y_pred, color='deepskyblue')\n",
    "pyplot.title('Completely random data')"
   ]
  },
  {
   "cell_type": "code",
   "execution_count": null,
   "metadata": {},
   "outputs": [],
   "source": []
  }
 ],
 "metadata": {
  "kernelspec": {
   "display_name": "tf-2.2",
   "language": "python",
   "name": "tf-2.2"
  },
  "language_info": {
   "codemirror_mode": {
    "name": "ipython",
    "version": 3
   },
   "file_extension": ".py",
   "mimetype": "text/x-python",
   "name": "python",
   "nbconvert_exporter": "python",
   "pygments_lexer": "ipython3",
   "version": "3.8.5"
  }
 },
 "nbformat": 4,
 "nbformat_minor": 4
}
