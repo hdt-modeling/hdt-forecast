{
 "cells": [
  {
   "cell_type": "markdown",
   "id": "running-chain",
   "metadata": {},
   "source": [
    "# COVID-Symptom Facebook Survey"
   ]
  },
  {
   "cell_type": "code",
   "execution_count": null,
   "id": "operational-algebra",
   "metadata": {},
   "outputs": [],
   "source": [
    "# Install packages locally\n",
    "#!pip3 install --install-option=\"--prefix=$HOME/local\" packagename"
   ]
  },
  {
   "cell_type": "code",
   "execution_count": 15,
   "id": "proved-enzyme",
   "metadata": {},
   "outputs": [
    {
     "name": "stdout",
     "output_type": "stream",
     "text": [
      "/export/home/honlee/local/lib64/python3.6/site-packages\n",
      "/export/home/honlee\n"
     ]
    }
   ],
   "source": [
    "import numpy as np\n",
    "import pandas as pd\n",
    "import os\n",
    "import re\n",
    "import datetime as dt\n",
    "import matplotlib.pyplot as plt\n",
    "import plotnine\n",
    "# Load all the locally installed packages\n",
    "%cd /export/home/honlee/local/lib64/python3.6/site-packages\n",
    "import sqlalchemy as sqla\n",
    "import pymongo\n",
    "%cd ../../../../\n",
    "from loadEngine import *"
   ]
  },
  {
   "cell_type": "markdown",
   "id": "military-creator",
   "metadata": {},
   "source": [
    "## Get all the monthly files ({YYYY}-{MM}.csv.gz) and put them into a .sqlite file"
   ]
  },
  {
   "cell_type": "code",
   "execution_count": 3,
   "id": "detailed-somerset",
   "metadata": {},
   "outputs": [],
   "source": [
    "# Check if a file exists, it so, we load it directly\n",
    "# if not, we will make an engine for querying the data\n",
    "engine = loadEngine(\"data/survey.sqlite\")"
   ]
  },
  {
   "cell_type": "markdown",
   "id": "pharmaceutical-telephone",
   "metadata": {},
   "source": [
    "## Total number of samples from all monthly files"
   ]
  },
  {
   "cell_type": "code",
   "execution_count": 4,
   "id": "careful-cemetery",
   "metadata": {},
   "outputs": [
    {
     "data": {
      "text/html": [
       "<div>\n",
       "<style scoped>\n",
       "    .dataframe tbody tr th:only-of-type {\n",
       "        vertical-align: middle;\n",
       "    }\n",
       "\n",
       "    .dataframe tbody tr th {\n",
       "        vertical-align: top;\n",
       "    }\n",
       "\n",
       "    .dataframe thead th {\n",
       "        text-align: right;\n",
       "    }\n",
       "</style>\n",
       "<table border=\"1\" class=\"dataframe\">\n",
       "  <thead>\n",
       "    <tr style=\"text-align: right;\">\n",
       "      <th></th>\n",
       "      <th>num_of_observations</th>\n",
       "    </tr>\n",
       "  </thead>\n",
       "  <tbody>\n",
       "    <tr>\n",
       "      <th>0</th>\n",
       "      <td>15419328</td>\n",
       "    </tr>\n",
       "  </tbody>\n",
       "</table>\n",
       "</div>"
      ],
      "text/plain": [
       "   num_of_observations\n",
       "0             15419328"
      ]
     },
     "execution_count": 4,
     "metadata": {},
     "output_type": "execute_result"
    }
   ],
   "source": [
    "query = \"\"\"select count(*) as num_of_observations from survey\"\"\"\n",
    "num_row = pd.read_sql_query(query, engine)\n",
    "num_row"
   ]
  },
  {
   "cell_type": "markdown",
   "id": "sitting-disposition",
   "metadata": {},
   "source": [
    "## Show all column names"
   ]
  },
  {
   "cell_type": "code",
   "execution_count": 5,
   "id": "desirable-flesh",
   "metadata": {},
   "outputs": [
    {
     "name": "stdout",
     "output_type": "stream",
     "text": [
      "index StartDatetime EndDatetime A1_1 A1_2 A1_3 A1_4 A1_5 A2 A2b A3 A3b A4 B2 B2_14_TEXT B2b B3 B4 B5 B6 C1 C2 C3 C4 C5 C6 C7 C8_1 C8_2 C9 C10_1_1 C10_2_1 C10_3_1 C10_4_1 C11 C12 D1 D1_4_TEXT D1b D2 D3 D4 D5 Q36 Q40 wave UserLanguage fips weight A5_1 A5_2 A5_3 B2c B2c_14_TEXT B7 B8 B10 B10a B10b B12 B12a B11 C8_3 C13 C13a C14 C15 D8 D9 Q64 Q65 Q66 Q67 Q68 Q69 Q70 Q71 Q72 Q73 Q74 Q75 Q76 Q77 Q78 Q79 Q80 D10 C16 C17 E3 E1_1 E1_2 E1_3 E1_4 E2_1 E2_2 V1 V2 V3 V4_1 V4_2 V4_3 V4_4 V4_5 V9\n"
     ]
    },
    {
     "data": {
      "text/html": [
       "<div>\n",
       "<style scoped>\n",
       "    .dataframe tbody tr th:only-of-type {\n",
       "        vertical-align: middle;\n",
       "    }\n",
       "\n",
       "    .dataframe tbody tr th {\n",
       "        vertical-align: top;\n",
       "    }\n",
       "\n",
       "    .dataframe thead th {\n",
       "        text-align: right;\n",
       "    }\n",
       "</style>\n",
       "<table border=\"1\" class=\"dataframe\">\n",
       "  <thead>\n",
       "    <tr style=\"text-align: right;\">\n",
       "      <th></th>\n",
       "      <th>index</th>\n",
       "      <th>StartDatetime</th>\n",
       "      <th>EndDatetime</th>\n",
       "      <th>A1_1</th>\n",
       "      <th>A1_2</th>\n",
       "      <th>A1_3</th>\n",
       "      <th>A1_4</th>\n",
       "      <th>A1_5</th>\n",
       "      <th>A2</th>\n",
       "      <th>A2b</th>\n",
       "      <th>...</th>\n",
       "      <th>E2_2</th>\n",
       "      <th>V1</th>\n",
       "      <th>V2</th>\n",
       "      <th>V3</th>\n",
       "      <th>V4_1</th>\n",
       "      <th>V4_2</th>\n",
       "      <th>V4_3</th>\n",
       "      <th>V4_4</th>\n",
       "      <th>V4_5</th>\n",
       "      <th>V9</th>\n",
       "    </tr>\n",
       "  </thead>\n",
       "  <tbody>\n",
       "    <tr>\n",
       "      <th>0</th>\n",
       "      <td>0</td>\n",
       "      <td>2020-04-06</td>\n",
       "      <td>2020-04-06</td>\n",
       "      <td>2.0</td>\n",
       "      <td>2.0</td>\n",
       "      <td>2.0</td>\n",
       "      <td>2.0</td>\n",
       "      <td>2.0</td>\n",
       "      <td>None</td>\n",
       "      <td>6.0</td>\n",
       "      <td>...</td>\n",
       "      <td>None</td>\n",
       "      <td>None</td>\n",
       "      <td>None</td>\n",
       "      <td>None</td>\n",
       "      <td>None</td>\n",
       "      <td>None</td>\n",
       "      <td>None</td>\n",
       "      <td>None</td>\n",
       "      <td>None</td>\n",
       "      <td>None</td>\n",
       "    </tr>\n",
       "  </tbody>\n",
       "</table>\n",
       "<p>1 rows × 105 columns</p>\n",
       "</div>"
      ],
      "text/plain": [
       "   index StartDatetime EndDatetime  A1_1  A1_2  A1_3  A1_4  A1_5    A2  A2b  \\\n",
       "0      0    2020-04-06  2020-04-06   2.0   2.0   2.0   2.0   2.0  None  6.0   \n",
       "\n",
       "   ...  E2_2    V1    V2    V3  V4_1  V4_2  V4_3  V4_4  V4_5    V9  \n",
       "0  ...  None  None  None  None  None  None  None  None  None  None  \n",
       "\n",
       "[1 rows x 105 columns]"
      ]
     },
     "execution_count": 5,
     "metadata": {},
     "output_type": "execute_result"
    }
   ],
   "source": [
    "# Get a quick view on the data\n",
    "query = \"\"\"select * from survey limit 1\"\"\"\n",
    "df = pd.read_sql_query(query, engine)\n",
    "print(\" \".join(df))\n",
    "df"
   ]
  },
  {
   "cell_type": "markdown",
   "id": "appreciated-operator",
   "metadata": {},
   "source": [
    "## Number of reponses by wave\n",
    "\n",
    "We can see that we have only up to 7 waves and most responses come from wave 3 (May 21 2020- September 7 2020)"
   ]
  },
  {
   "cell_type": "code",
   "execution_count": 16,
   "id": "australian-equality",
   "metadata": {},
   "outputs": [
    {
     "data": {
      "text/html": [
       "<div>\n",
       "<style scoped>\n",
       "    .dataframe tbody tr th:only-of-type {\n",
       "        vertical-align: middle;\n",
       "    }\n",
       "\n",
       "    .dataframe tbody tr th {\n",
       "        vertical-align: top;\n",
       "    }\n",
       "\n",
       "    .dataframe thead th {\n",
       "        text-align: right;\n",
       "    }\n",
       "</style>\n",
       "<table border=\"1\" class=\"dataframe\">\n",
       "  <thead>\n",
       "    <tr style=\"text-align: right;\">\n",
       "      <th></th>\n",
       "      <th>count(*)</th>\n",
       "    </tr>\n",
       "  </thead>\n",
       "  <tbody>\n",
       "    <tr>\n",
       "      <th>0</th>\n",
       "      <td>100017</td>\n",
       "    </tr>\n",
       "    <tr>\n",
       "      <th>1</th>\n",
       "      <td>1547986</td>\n",
       "    </tr>\n",
       "    <tr>\n",
       "      <th>2</th>\n",
       "      <td>7334889</td>\n",
       "    </tr>\n",
       "    <tr>\n",
       "      <th>3</th>\n",
       "      <td>2966381</td>\n",
       "    </tr>\n",
       "    <tr>\n",
       "      <th>4</th>\n",
       "      <td>1274141</td>\n",
       "    </tr>\n",
       "    <tr>\n",
       "      <th>5</th>\n",
       "      <td>1246934</td>\n",
       "    </tr>\n",
       "    <tr>\n",
       "      <th>6</th>\n",
       "      <td>948980</td>\n",
       "    </tr>\n",
       "  </tbody>\n",
       "</table>\n",
       "</div>"
      ],
      "text/plain": [
       "   count(*)\n",
       "0    100017\n",
       "1   1547986\n",
       "2   7334889\n",
       "3   2966381\n",
       "4   1274141\n",
       "5   1246934\n",
       "6    948980"
      ]
     },
     "execution_count": 16,
     "metadata": {},
     "output_type": "execute_result"
    }
   ],
   "source": [
    "# Get a quick view on the data\n",
    "query = \"\"\"select count(*) from survey GROUP BY wave\"\"\"\n",
    "view = pd.read_sql_query(query, engine)\n",
    "view"
   ]
  },
  {
   "cell_type": "code",
   "execution_count": null,
   "id": "constitutional-valentine",
   "metadata": {},
   "outputs": [],
   "source": []
  },
  {
   "cell_type": "code",
   "execution_count": null,
   "id": "capital-automation",
   "metadata": {},
   "outputs": [],
   "source": []
  },
  {
   "cell_type": "code",
   "execution_count": null,
   "id": "dying-chase",
   "metadata": {},
   "outputs": [],
   "source": []
  },
  {
   "cell_type": "code",
   "execution_count": null,
   "id": "negative-desperate",
   "metadata": {},
   "outputs": [],
   "source": []
  },
  {
   "cell_type": "code",
   "execution_count": null,
   "id": "chinese-virus",
   "metadata": {},
   "outputs": [],
   "source": []
  },
  {
   "cell_type": "code",
   "execution_count": null,
   "id": "aware-system",
   "metadata": {},
   "outputs": [],
   "source": []
  }
 ],
 "metadata": {
  "kernelspec": {
   "display_name": "Python 3",
   "language": "python",
   "name": "python3"
  },
  "language_info": {
   "codemirror_mode": {
    "name": "ipython",
    "version": 3
   },
   "file_extension": ".py",
   "mimetype": "text/x-python",
   "name": "python",
   "nbconvert_exporter": "python",
   "pygments_lexer": "ipython3",
   "version": "3.6.8"
  }
 },
 "nbformat": 4,
 "nbformat_minor": 5
}
